{
 "cells": [
  {
   "cell_type": "markdown",
   "metadata": {
    "id": "QUANWN3rpfC9"
   },
   "source": [
    "# 0. Setup Paths"
   ]
  },
  {
   "cell_type": "code",
   "execution_count": 1,
   "metadata": {
    "id": "146BB11JpfDA"
   },
   "outputs": [],
   "source": [
    "import os"
   ]
  },
  {
   "cell_type": "code",
   "execution_count": 2,
   "metadata": {
    "id": "42hJEdo_pfDB"
   },
   "outputs": [],
   "source": [
    "CUSTOM_MODEL_NAME = 'directions' \n",
    "PRETRAINED_MODEL_NAME = 'ssd_mobilenet_v2_fpnlite_320x320_coco17_tpu-8'\n",
    "PRETRAINED_MODEL_URL = 'http://download.tensorflow.org/models/object_detection/tf2/20200711/ssd_mobilenet_v2_fpnlite_320x320_coco17_tpu-8.tar.gz'\n",
    "TF_RECORD_SCRIPT_NAME = 'generate_tfrecord.py'\n",
    "LABEL_MAP_NAME = 'label_map.pbtxt'"
   ]
  },
  {
   "cell_type": "code",
   "execution_count": 3,
   "metadata": {
    "id": "hbPhYVy_pfDB"
   },
   "outputs": [],
   "source": [
    "paths = {\n",
    "    'WORKSPACE_PATH': os.path.join('Tensorflow', 'workspace'),\n",
    "    'SCRIPTS_PATH': os.path.join('Tensorflow','scripts'),\n",
    "    'APIMODEL_PATH': os.path.join('Tensorflow','models'),\n",
    "    'ANNOTATION_PATH': os.path.join('Tensorflow', 'workspace','annotations'),\n",
    "    'IMAGE_PATH': os.path.join('Tensorflow', 'workspace','images'),\n",
    "    'MODEL_PATH': os.path.join('Tensorflow', 'workspace','models'),\n",
    "    'PRETRAINED_MODEL_PATH': os.path.join('Tensorflow', 'workspace','pre-trained-models'),\n",
    "    'CHECKPOINT_PATH': os.path.join('Tensorflow', 'workspace','models',CUSTOM_MODEL_NAME), \n",
    "    'OUTPUT_PATH': os.path.join('Tensorflow', 'workspace','models',CUSTOM_MODEL_NAME, 'export'), \n",
    "    'TFJS_PATH':os.path.join('Tensorflow', 'workspace','models',CUSTOM_MODEL_NAME, 'tfjsexport'), \n",
    "    'TFLITE_PATH':os.path.join('Tensorflow', 'workspace','models',CUSTOM_MODEL_NAME, 'tfliteexport'), \n",
    "    'PROTOC_PATH':os.path.join('Tensorflow','protoc')\n",
    " }"
   ]
  },
  {
   "cell_type": "code",
   "execution_count": 4,
   "metadata": {
    "id": "LwhWZMI0pfDC"
   },
   "outputs": [],
   "source": [
    "files = {\n",
    "    'PIPELINE_CONFIG':os.path.join('Tensorflow', 'workspace','models', CUSTOM_MODEL_NAME, 'pipeline.config'),\n",
    "    'TF_RECORD_SCRIPT': os.path.join(paths['SCRIPTS_PATH'], TF_RECORD_SCRIPT_NAME), \n",
    "    'LABELMAP': os.path.join(paths['ANNOTATION_PATH'], LABEL_MAP_NAME)\n",
    "}"
   ]
  },
  {
   "cell_type": "code",
   "execution_count": 5,
   "metadata": {
    "id": "HR-TfDGrpfDC"
   },
   "outputs": [],
   "source": [
    "for path in paths.values():\n",
    "    if not os.path.exists(path):\n",
    "        if os.name == 'posix':\n",
    "            !mkdir -p {path}\n",
    "        if os.name == 'nt':\n",
    "            !mkdir {path}"
   ]
  },
  {
   "cell_type": "markdown",
   "metadata": {
    "id": "OLU-rs_ipfDE"
   },
   "source": [
    "# 1. Download TF Models Pretrained Models from Tensorflow Model Zoo and Install TFOD"
   ]
  },
  {
   "cell_type": "code",
   "execution_count": 41,
   "metadata": {},
   "outputs": [],
   "source": [
    "# https://www.tensorflow.org/install/source_windows"
   ]
  },
  {
   "cell_type": "code",
   "execution_count": 6,
   "metadata": {
    "id": "K-Cmz2edpfDE",
    "scrolled": true
   },
   "outputs": [],
   "source": [
    "if os.name=='nt':\n",
    "    !pip install wget\n",
    "    import wget"
   ]
  },
  {
   "cell_type": "code",
   "execution_count": 7,
   "metadata": {
    "id": "iA1DIq5OpfDE"
   },
   "outputs": [],
   "source": [
    "if not os.path.exists(os.path.join(paths['APIMODEL_PATH'], 'research', 'object_detection')):\n",
    "    !git clone https://github.com/tensorflow/models {paths['APIMODEL_PATH']}"
   ]
  },
  {
   "cell_type": "code",
   "execution_count": 8,
   "metadata": {
    "id": "rJjMHbnDs3Tv"
   },
   "outputs": [
    {
     "name": "stdout",
     "output_type": "stream",
     "text": [
      "zsh:1: command not found: apt-get\n",
      "Processing /Users/trevormcgirr/Desktop/python/ObjectDetectionWeb/TFODCourse/Tensorflow/models/research\n",
      "\u001b[33m  DEPRECATION: A future pip version will change local packages to be built in-place without first copying to a temporary directory. We recommend you use --use-feature=in-tree-build to test your packages with this new behavior before it becomes the default.\n",
      "   pip 21.3 will remove support for this functionality. You can find discussion regarding this at https://github.com/pypa/pip/issues/7555.\u001b[0m\n",
      "Requirement already satisfied: avro-python3 in /Users/trevormcgirr/opt/anaconda3/lib/python3.9/site-packages (from object-detection==0.1) (1.10.2)\n",
      "Requirement already satisfied: apache-beam in /Users/trevormcgirr/opt/anaconda3/lib/python3.9/site-packages (from object-detection==0.1) (2.39.0)\n",
      "Requirement already satisfied: pillow in /Users/trevormcgirr/opt/anaconda3/lib/python3.9/site-packages (from object-detection==0.1) (9.0.1)\n",
      "Requirement already satisfied: lxml in /Users/trevormcgirr/opt/anaconda3/lib/python3.9/site-packages (from object-detection==0.1) (4.8.0)\n",
      "Requirement already satisfied: matplotlib in /Users/trevormcgirr/opt/anaconda3/lib/python3.9/site-packages (from object-detection==0.1) (3.5.1)\n",
      "Requirement already satisfied: Cython in /Users/trevormcgirr/opt/anaconda3/lib/python3.9/site-packages (from object-detection==0.1) (0.29.28)\n",
      "Requirement already satisfied: contextlib2 in /Users/trevormcgirr/opt/anaconda3/lib/python3.9/site-packages (from object-detection==0.1) (21.6.0)\n",
      "Requirement already satisfied: tf-slim in /Users/trevormcgirr/opt/anaconda3/lib/python3.9/site-packages (from object-detection==0.1) (1.1.0)\n",
      "Requirement already satisfied: six in /Users/trevormcgirr/opt/anaconda3/lib/python3.9/site-packages (from object-detection==0.1) (1.16.0)\n",
      "Requirement already satisfied: pycocotools in /Users/trevormcgirr/opt/anaconda3/lib/python3.9/site-packages (from object-detection==0.1) (2.0.4)\n",
      "Requirement already satisfied: lvis in /Users/trevormcgirr/opt/anaconda3/lib/python3.9/site-packages (from object-detection==0.1) (0.5.3)\n",
      "Requirement already satisfied: scipy in /Users/trevormcgirr/opt/anaconda3/lib/python3.9/site-packages (from object-detection==0.1) (1.7.3)\n",
      "Requirement already satisfied: pandas in /Users/trevormcgirr/opt/anaconda3/lib/python3.9/site-packages (from object-detection==0.1) (1.4.2)\n",
      "Requirement already satisfied: tf-models-official>=2.5.1 in /Users/trevormcgirr/opt/anaconda3/lib/python3.9/site-packages (from object-detection==0.1) (2.9.2)\n",
      "Requirement already satisfied: tensorflow_io in /Users/trevormcgirr/opt/anaconda3/lib/python3.9/site-packages (from object-detection==0.1) (0.26.0)\n",
      "Requirement already satisfied: keras in /Users/trevormcgirr/opt/anaconda3/lib/python3.9/site-packages (from object-detection==0.1) (2.9.0)\n",
      "Requirement already satisfied: pyparsing==2.4.7 in /Users/trevormcgirr/opt/anaconda3/lib/python3.9/site-packages (from object-detection==0.1) (2.4.7)\n",
      "Requirement already satisfied: tensorflow-datasets in /Users/trevormcgirr/opt/anaconda3/lib/python3.9/site-packages (from tf-models-official>=2.5.1->object-detection==0.1) (4.6.0)\n",
      "Requirement already satisfied: opencv-python-headless in /Users/trevormcgirr/opt/anaconda3/lib/python3.9/site-packages (from tf-models-official>=2.5.1->object-detection==0.1) (4.6.0.66)\n",
      "Requirement already satisfied: sentencepiece in /Users/trevormcgirr/opt/anaconda3/lib/python3.9/site-packages (from tf-models-official>=2.5.1->object-detection==0.1) (0.1.96)\n",
      "Requirement already satisfied: tensorflow-text~=2.9.0 in /Users/trevormcgirr/opt/anaconda3/lib/python3.9/site-packages (from tf-models-official>=2.5.1->object-detection==0.1) (2.9.0)\n",
      "Requirement already satisfied: tensorflow~=2.9.0 in /Users/trevormcgirr/opt/anaconda3/lib/python3.9/site-packages (from tf-models-official>=2.5.1->object-detection==0.1) (2.9.1)\n",
      "Requirement already satisfied: gin-config in /Users/trevormcgirr/opt/anaconda3/lib/python3.9/site-packages (from tf-models-official>=2.5.1->object-detection==0.1) (0.5.0)\n",
      "Requirement already satisfied: tensorflow-model-optimization>=0.4.1 in /Users/trevormcgirr/opt/anaconda3/lib/python3.9/site-packages (from tf-models-official>=2.5.1->object-detection==0.1) (0.7.2)\n",
      "Requirement already satisfied: py-cpuinfo>=3.3.0 in /Users/trevormcgirr/opt/anaconda3/lib/python3.9/site-packages (from tf-models-official>=2.5.1->object-detection==0.1) (8.0.0)\n",
      "Requirement already satisfied: numpy>=1.20 in /Users/trevormcgirr/opt/anaconda3/lib/python3.9/site-packages (from tf-models-official>=2.5.1->object-detection==0.1) (1.21.5)\n",
      "Requirement already satisfied: tensorflow-addons in /Users/trevormcgirr/opt/anaconda3/lib/python3.9/site-packages (from tf-models-official>=2.5.1->object-detection==0.1) (0.17.0)\n",
      "Requirement already satisfied: psutil>=5.4.3 in /Users/trevormcgirr/opt/anaconda3/lib/python3.9/site-packages (from tf-models-official>=2.5.1->object-detection==0.1) (5.8.0)\n",
      "Requirement already satisfied: oauth2client in /Users/trevormcgirr/opt/anaconda3/lib/python3.9/site-packages (from tf-models-official>=2.5.1->object-detection==0.1) (4.1.3)\n",
      "Requirement already satisfied: kaggle>=1.3.9 in /Users/trevormcgirr/opt/anaconda3/lib/python3.9/site-packages (from tf-models-official>=2.5.1->object-detection==0.1) (1.5.12)\n",
      "Requirement already satisfied: google-api-python-client>=1.6.7 in /Users/trevormcgirr/opt/anaconda3/lib/python3.9/site-packages (from tf-models-official>=2.5.1->object-detection==0.1) (2.50.0)\n",
      "Requirement already satisfied: sacrebleu in /Users/trevormcgirr/opt/anaconda3/lib/python3.9/site-packages (from tf-models-official>=2.5.1->object-detection==0.1) (2.1.0)\n",
      "Requirement already satisfied: pyyaml<6.0,>=5.1 in /Users/trevormcgirr/opt/anaconda3/lib/python3.9/site-packages (from tf-models-official>=2.5.1->object-detection==0.1) (5.4.1)\n",
      "Requirement already satisfied: tensorflow-hub>=0.6.0 in /Users/trevormcgirr/opt/anaconda3/lib/python3.9/site-packages (from tf-models-official>=2.5.1->object-detection==0.1) (0.12.0)\n",
      "Requirement already satisfied: seqeval in /Users/trevormcgirr/opt/anaconda3/lib/python3.9/site-packages (from tf-models-official>=2.5.1->object-detection==0.1) (1.2.2)\n",
      "Requirement already satisfied: uritemplate<5,>=3.0.1 in /Users/trevormcgirr/opt/anaconda3/lib/python3.9/site-packages (from google-api-python-client>=1.6.7->tf-models-official>=2.5.1->object-detection==0.1) (4.1.1)\n",
      "Requirement already satisfied: google-auth-httplib2>=0.1.0 in /Users/trevormcgirr/opt/anaconda3/lib/python3.9/site-packages (from google-api-python-client>=1.6.7->tf-models-official>=2.5.1->object-detection==0.1) (0.1.0)\n",
      "Requirement already satisfied: google-auth<3.0.0dev,>=1.16.0 in /Users/trevormcgirr/opt/anaconda3/lib/python3.9/site-packages (from google-api-python-client>=1.6.7->tf-models-official>=2.5.1->object-detection==0.1) (1.33.0)\n",
      "Requirement already satisfied: httplib2<1dev,>=0.15.0 in /Users/trevormcgirr/opt/anaconda3/lib/python3.9/site-packages (from google-api-python-client>=1.6.7->tf-models-official>=2.5.1->object-detection==0.1) (0.19.1)\n",
      "Requirement already satisfied: google-api-core!=2.0.*,!=2.1.*,!=2.2.*,!=2.3.0,<3.0.0dev,>=1.31.5 in /Users/trevormcgirr/opt/anaconda3/lib/python3.9/site-packages (from google-api-python-client>=1.6.7->tf-models-official>=2.5.1->object-detection==0.1) (2.8.1)\n",
      "Requirement already satisfied: protobuf<4.0.0dev,>=3.15.0 in /Users/trevormcgirr/opt/anaconda3/lib/python3.9/site-packages (from google-api-core!=2.0.*,!=2.1.*,!=2.2.*,!=2.3.0,<3.0.0dev,>=1.31.5->google-api-python-client>=1.6.7->tf-models-official>=2.5.1->object-detection==0.1) (3.19.1)\n",
      "Requirement already satisfied: googleapis-common-protos<2.0dev,>=1.56.2 in /Users/trevormcgirr/opt/anaconda3/lib/python3.9/site-packages (from google-api-core!=2.0.*,!=2.1.*,!=2.2.*,!=2.3.0,<3.0.0dev,>=1.31.5->google-api-python-client>=1.6.7->tf-models-official>=2.5.1->object-detection==0.1) (1.56.2)\n",
      "Requirement already satisfied: requests<3.0.0dev,>=2.18.0 in /Users/trevormcgirr/opt/anaconda3/lib/python3.9/site-packages (from google-api-core!=2.0.*,!=2.1.*,!=2.2.*,!=2.3.0,<3.0.0dev,>=1.31.5->google-api-python-client>=1.6.7->tf-models-official>=2.5.1->object-detection==0.1) (2.27.1)\n"
     ]
    },
    {
     "name": "stdout",
     "output_type": "stream",
     "text": [
      "Requirement already satisfied: setuptools>=40.3.0 in /Users/trevormcgirr/opt/anaconda3/lib/python3.9/site-packages (from google-auth<3.0.0dev,>=1.16.0->google-api-python-client>=1.6.7->tf-models-official>=2.5.1->object-detection==0.1) (61.2.0)\n",
      "Requirement already satisfied: cachetools<5.0,>=2.0.0 in /Users/trevormcgirr/opt/anaconda3/lib/python3.9/site-packages (from google-auth<3.0.0dev,>=1.16.0->google-api-python-client>=1.6.7->tf-models-official>=2.5.1->object-detection==0.1) (4.2.2)\n",
      "Requirement already satisfied: pyasn1-modules>=0.2.1 in /Users/trevormcgirr/opt/anaconda3/lib/python3.9/site-packages (from google-auth<3.0.0dev,>=1.16.0->google-api-python-client>=1.6.7->tf-models-official>=2.5.1->object-detection==0.1) (0.2.8)\n",
      "Requirement already satisfied: rsa<5,>=3.1.4 in /Users/trevormcgirr/opt/anaconda3/lib/python3.9/site-packages (from google-auth<3.0.0dev,>=1.16.0->google-api-python-client>=1.6.7->tf-models-official>=2.5.1->object-detection==0.1) (4.7.2)\n",
      "Requirement already satisfied: certifi in /Users/trevormcgirr/opt/anaconda3/lib/python3.9/site-packages (from kaggle>=1.3.9->tf-models-official>=2.5.1->object-detection==0.1) (2021.10.8)\n",
      "Requirement already satisfied: python-slugify in /Users/trevormcgirr/opt/anaconda3/lib/python3.9/site-packages (from kaggle>=1.3.9->tf-models-official>=2.5.1->object-detection==0.1) (5.0.2)\n",
      "Requirement already satisfied: python-dateutil in /Users/trevormcgirr/opt/anaconda3/lib/python3.9/site-packages (from kaggle>=1.3.9->tf-models-official>=2.5.1->object-detection==0.1) (2.8.2)\n",
      "Requirement already satisfied: urllib3 in /Users/trevormcgirr/opt/anaconda3/lib/python3.9/site-packages (from kaggle>=1.3.9->tf-models-official>=2.5.1->object-detection==0.1) (1.26.9)\n",
      "Requirement already satisfied: tqdm in /Users/trevormcgirr/opt/anaconda3/lib/python3.9/site-packages (from kaggle>=1.3.9->tf-models-official>=2.5.1->object-detection==0.1) (4.64.0)\n",
      "Requirement already satisfied: pytz>=2020.1 in /Users/trevormcgirr/opt/anaconda3/lib/python3.9/site-packages (from pandas->object-detection==0.1) (2021.3)\n",
      "Requirement already satisfied: pyasn1<0.5.0,>=0.4.6 in /Users/trevormcgirr/opt/anaconda3/lib/python3.9/site-packages (from pyasn1-modules>=0.2.1->google-auth<3.0.0dev,>=1.16.0->google-api-python-client>=1.6.7->tf-models-official>=2.5.1->object-detection==0.1) (0.4.8)\n",
      "Requirement already satisfied: charset-normalizer~=2.0.0 in /Users/trevormcgirr/opt/anaconda3/lib/python3.9/site-packages (from requests<3.0.0dev,>=2.18.0->google-api-core!=2.0.*,!=2.1.*,!=2.2.*,!=2.3.0,<3.0.0dev,>=1.31.5->google-api-python-client>=1.6.7->tf-models-official>=2.5.1->object-detection==0.1) (2.0.4)\n",
      "Requirement already satisfied: idna<4,>=2.5 in /Users/trevormcgirr/opt/anaconda3/lib/python3.9/site-packages (from requests<3.0.0dev,>=2.18.0->google-api-core!=2.0.*,!=2.1.*,!=2.2.*,!=2.3.0,<3.0.0dev,>=1.31.5->google-api-python-client>=1.6.7->tf-models-official>=2.5.1->object-detection==0.1) (3.3)\n",
      "Requirement already satisfied: keras-preprocessing>=1.1.1 in /Users/trevormcgirr/opt/anaconda3/lib/python3.9/site-packages (from tensorflow~=2.9.0->tf-models-official>=2.5.1->object-detection==0.1) (1.1.2)\n",
      "Requirement already satisfied: opt-einsum>=2.3.2 in /Users/trevormcgirr/opt/anaconda3/lib/python3.9/site-packages (from tensorflow~=2.9.0->tf-models-official>=2.5.1->object-detection==0.1) (3.3.0)\n",
      "Requirement already satisfied: absl-py>=1.0.0 in /Users/trevormcgirr/opt/anaconda3/lib/python3.9/site-packages (from tensorflow~=2.9.0->tf-models-official>=2.5.1->object-detection==0.1) (1.0.0)\n",
      "Requirement already satisfied: termcolor>=1.1.0 in /Users/trevormcgirr/opt/anaconda3/lib/python3.9/site-packages (from tensorflow~=2.9.0->tf-models-official>=2.5.1->object-detection==0.1) (1.1.0)\n",
      "Requirement already satisfied: wrapt>=1.11.0 in /Users/trevormcgirr/opt/anaconda3/lib/python3.9/site-packages (from tensorflow~=2.9.0->tf-models-official>=2.5.1->object-detection==0.1) (1.12.1)\n",
      "Requirement already satisfied: tensorboard<2.10,>=2.9 in /Users/trevormcgirr/opt/anaconda3/lib/python3.9/site-packages (from tensorflow~=2.9.0->tf-models-official>=2.5.1->object-detection==0.1) (2.9.0)\n",
      "Requirement already satisfied: grpcio<2.0,>=1.24.3 in /Users/trevormcgirr/opt/anaconda3/lib/python3.9/site-packages (from tensorflow~=2.9.0->tf-models-official>=2.5.1->object-detection==0.1) (1.42.0)\n",
      "Requirement already satisfied: tensorflow-estimator<2.10.0,>=2.9.0rc0 in /Users/trevormcgirr/opt/anaconda3/lib/python3.9/site-packages (from tensorflow~=2.9.0->tf-models-official>=2.5.1->object-detection==0.1) (2.9.0)\n",
      "Requirement already satisfied: gast<=0.4.0,>=0.2.1 in /Users/trevormcgirr/opt/anaconda3/lib/python3.9/site-packages (from tensorflow~=2.9.0->tf-models-official>=2.5.1->object-detection==0.1) (0.4.0)\n",
      "Requirement already satisfied: libclang>=13.0.0 in /Users/trevormcgirr/opt/anaconda3/lib/python3.9/site-packages (from tensorflow~=2.9.0->tf-models-official>=2.5.1->object-detection==0.1) (14.0.1)\n",
      "Requirement already satisfied: astunparse>=1.6.0 in /Users/trevormcgirr/opt/anaconda3/lib/python3.9/site-packages (from tensorflow~=2.9.0->tf-models-official>=2.5.1->object-detection==0.1) (1.6.3)\n",
      "Requirement already satisfied: h5py>=2.9.0 in /Users/trevormcgirr/opt/anaconda3/lib/python3.9/site-packages (from tensorflow~=2.9.0->tf-models-official>=2.5.1->object-detection==0.1) (3.6.0)\n",
      "Requirement already satisfied: packaging in /Users/trevormcgirr/opt/anaconda3/lib/python3.9/site-packages (from tensorflow~=2.9.0->tf-models-official>=2.5.1->object-detection==0.1) (21.3)\n",
      "Requirement already satisfied: google-pasta>=0.1.1 in /Users/trevormcgirr/opt/anaconda3/lib/python3.9/site-packages (from tensorflow~=2.9.0->tf-models-official>=2.5.1->object-detection==0.1) (0.2.0)\n",
      "Requirement already satisfied: flatbuffers<2,>=1.12 in /Users/trevormcgirr/opt/anaconda3/lib/python3.9/site-packages (from tensorflow~=2.9.0->tf-models-official>=2.5.1->object-detection==0.1) (1.12)\n",
      "Requirement already satisfied: typing-extensions>=3.6.6 in /Users/trevormcgirr/opt/anaconda3/lib/python3.9/site-packages (from tensorflow~=2.9.0->tf-models-official>=2.5.1->object-detection==0.1) (4.1.1)\n",
      "Requirement already satisfied: tensorflow-io-gcs-filesystem>=0.23.1 in /Users/trevormcgirr/opt/anaconda3/lib/python3.9/site-packages (from tensorflow~=2.9.0->tf-models-official>=2.5.1->object-detection==0.1) (0.26.0)\n",
      "Requirement already satisfied: wheel<1.0,>=0.23.0 in /Users/trevormcgirr/opt/anaconda3/lib/python3.9/site-packages (from astunparse>=1.6.0->tensorflow~=2.9.0->tf-models-official>=2.5.1->object-detection==0.1) (0.37.1)\n",
      "Requirement already satisfied: tensorboard-data-server<0.7.0,>=0.6.0 in /Users/trevormcgirr/opt/anaconda3/lib/python3.9/site-packages (from tensorboard<2.10,>=2.9->tensorflow~=2.9.0->tf-models-official>=2.5.1->object-detection==0.1) (0.6.1)\n",
      "Requirement already satisfied: google-auth-oauthlib<0.5,>=0.4.1 in /Users/trevormcgirr/opt/anaconda3/lib/python3.9/site-packages (from tensorboard<2.10,>=2.9->tensorflow~=2.9.0->tf-models-official>=2.5.1->object-detection==0.1) (0.4.6)\n",
      "Requirement already satisfied: markdown>=2.6.8 in /Users/trevormcgirr/opt/anaconda3/lib/python3.9/site-packages (from tensorboard<2.10,>=2.9->tensorflow~=2.9.0->tf-models-official>=2.5.1->object-detection==0.1) (3.3.4)\n",
      "Requirement already satisfied: tensorboard-plugin-wit>=1.6.0 in /Users/trevormcgirr/opt/anaconda3/lib/python3.9/site-packages (from tensorboard<2.10,>=2.9->tensorflow~=2.9.0->tf-models-official>=2.5.1->object-detection==0.1) (1.8.1)\n",
      "Requirement already satisfied: werkzeug>=1.0.1 in /Users/trevormcgirr/opt/anaconda3/lib/python3.9/site-packages (from tensorboard<2.10,>=2.9->tensorflow~=2.9.0->tf-models-official>=2.5.1->object-detection==0.1) (2.0.3)\n",
      "Requirement already satisfied: requests-oauthlib>=0.7.0 in /Users/trevormcgirr/opt/anaconda3/lib/python3.9/site-packages (from google-auth-oauthlib<0.5,>=0.4.1->tensorboard<2.10,>=2.9->tensorflow~=2.9.0->tf-models-official>=2.5.1->object-detection==0.1) (1.3.1)\n",
      "Requirement already satisfied: oauthlib>=3.0.0 in /Users/trevormcgirr/opt/anaconda3/lib/python3.9/site-packages (from requests-oauthlib>=0.7.0->google-auth-oauthlib<0.5,>=0.4.1->tensorboard<2.10,>=2.9->tensorflow~=2.9.0->tf-models-official>=2.5.1->object-detection==0.1) (3.2.0)\n"
     ]
    },
    {
     "name": "stdout",
     "output_type": "stream",
     "text": [
      "Requirement already satisfied: dm-tree~=0.1.1 in /Users/trevormcgirr/opt/anaconda3/lib/python3.9/site-packages (from tensorflow-model-optimization>=0.4.1->tf-models-official>=2.5.1->object-detection==0.1) (0.1.7)\n",
      "Requirement already satisfied: hdfs<3.0.0,>=2.1.0 in /Users/trevormcgirr/opt/anaconda3/lib/python3.9/site-packages (from apache-beam->object-detection==0.1) (2.7.0)\n",
      "Requirement already satisfied: proto-plus<2,>=1.7.1 in /Users/trevormcgirr/opt/anaconda3/lib/python3.9/site-packages (from apache-beam->object-detection==0.1) (1.20.5)\n",
      "Requirement already satisfied: pyarrow<8.0.0,>=0.15.1 in /Users/trevormcgirr/opt/anaconda3/lib/python3.9/site-packages (from apache-beam->object-detection==0.1) (7.0.0)\n",
      "Requirement already satisfied: cloudpickle<3,>=2.0.0 in /Users/trevormcgirr/opt/anaconda3/lib/python3.9/site-packages (from apache-beam->object-detection==0.1) (2.0.0)\n",
      "Requirement already satisfied: pymongo<4.0.0,>=3.8.0 in /Users/trevormcgirr/opt/anaconda3/lib/python3.9/site-packages (from apache-beam->object-detection==0.1) (3.12.3)\n",
      "Requirement already satisfied: crcmod<2.0,>=1.7 in /Users/trevormcgirr/opt/anaconda3/lib/python3.9/site-packages (from apache-beam->object-detection==0.1) (1.7)\n",
      "Requirement already satisfied: dill<0.3.2,>=0.3.1.1 in /Users/trevormcgirr/opt/anaconda3/lib/python3.9/site-packages (from apache-beam->object-detection==0.1) (0.3.1.1)\n",
      "Requirement already satisfied: fastavro<2,>=0.23.6 in /Users/trevormcgirr/opt/anaconda3/lib/python3.9/site-packages (from apache-beam->object-detection==0.1) (1.5.1)\n",
      "Requirement already satisfied: orjson<4.0 in /Users/trevormcgirr/opt/anaconda3/lib/python3.9/site-packages (from apache-beam->object-detection==0.1) (3.7.2)\n",
      "Requirement already satisfied: pydot<2,>=1.2.0 in /Users/trevormcgirr/opt/anaconda3/lib/python3.9/site-packages (from apache-beam->object-detection==0.1) (1.4.2)\n",
      "Requirement already satisfied: docopt in /Users/trevormcgirr/opt/anaconda3/lib/python3.9/site-packages (from hdfs<3.0.0,>=2.1.0->apache-beam->object-detection==0.1) (0.6.2)\n",
      "Requirement already satisfied: opencv-python>=4.1.0.25 in /Users/trevormcgirr/opt/anaconda3/lib/python3.9/site-packages (from lvis->object-detection==0.1) (4.5.5.64)\n",
      "Requirement already satisfied: cycler>=0.10.0 in /Users/trevormcgirr/opt/anaconda3/lib/python3.9/site-packages (from lvis->object-detection==0.1) (0.11.0)\n",
      "Requirement already satisfied: kiwisolver>=1.1.0 in /Users/trevormcgirr/opt/anaconda3/lib/python3.9/site-packages (from lvis->object-detection==0.1) (1.3.2)\n",
      "Requirement already satisfied: fonttools>=4.22.0 in /Users/trevormcgirr/opt/anaconda3/lib/python3.9/site-packages (from matplotlib->object-detection==0.1) (4.25.0)\n",
      "Requirement already satisfied: text-unidecode>=1.3 in /Users/trevormcgirr/opt/anaconda3/lib/python3.9/site-packages (from python-slugify->kaggle>=1.3.9->tf-models-official>=2.5.1->object-detection==0.1) (1.3)\n",
      "Requirement already satisfied: colorama in /Users/trevormcgirr/opt/anaconda3/lib/python3.9/site-packages (from sacrebleu->tf-models-official>=2.5.1->object-detection==0.1) (0.4.4)\n",
      "Requirement already satisfied: portalocker in /Users/trevormcgirr/opt/anaconda3/lib/python3.9/site-packages (from sacrebleu->tf-models-official>=2.5.1->object-detection==0.1) (2.4.0)\n",
      "Requirement already satisfied: tabulate>=0.8.9 in /Users/trevormcgirr/opt/anaconda3/lib/python3.9/site-packages (from sacrebleu->tf-models-official>=2.5.1->object-detection==0.1) (0.8.9)\n",
      "Requirement already satisfied: regex in /Users/trevormcgirr/opt/anaconda3/lib/python3.9/site-packages (from sacrebleu->tf-models-official>=2.5.1->object-detection==0.1) (2022.3.15)\n",
      "Requirement already satisfied: scikit-learn>=0.21.3 in /Users/trevormcgirr/opt/anaconda3/lib/python3.9/site-packages (from seqeval->tf-models-official>=2.5.1->object-detection==0.1) (1.0.2)\n",
      "Requirement already satisfied: threadpoolctl>=2.0.0 in /Users/trevormcgirr/opt/anaconda3/lib/python3.9/site-packages (from scikit-learn>=0.21.3->seqeval->tf-models-official>=2.5.1->object-detection==0.1) (2.2.0)\n",
      "Requirement already satisfied: joblib>=0.11 in /Users/trevormcgirr/opt/anaconda3/lib/python3.9/site-packages (from scikit-learn>=0.21.3->seqeval->tf-models-official>=2.5.1->object-detection==0.1) (1.1.0)\n",
      "Requirement already satisfied: typeguard>=2.7 in /Users/trevormcgirr/opt/anaconda3/lib/python3.9/site-packages (from tensorflow-addons->tf-models-official>=2.5.1->object-detection==0.1) (2.13.3)\n",
      "Requirement already satisfied: tensorflow-metadata in /Users/trevormcgirr/opt/anaconda3/lib/python3.9/site-packages (from tensorflow-datasets->tf-models-official>=2.5.1->object-detection==0.1) (1.8.0)\n",
      "Requirement already satisfied: promise in /Users/trevormcgirr/opt/anaconda3/lib/python3.9/site-packages (from tensorflow-datasets->tf-models-official>=2.5.1->object-detection==0.1) (2.3)\n",
      "Requirement already satisfied: etils[epath] in /Users/trevormcgirr/opt/anaconda3/lib/python3.9/site-packages (from tensorflow-datasets->tf-models-official>=2.5.1->object-detection==0.1) (0.6.0)\n",
      "Requirement already satisfied: toml in /Users/trevormcgirr/opt/anaconda3/lib/python3.9/site-packages (from tensorflow-datasets->tf-models-official>=2.5.1->object-detection==0.1) (0.10.2)\n",
      "Requirement already satisfied: zipp in /Users/trevormcgirr/opt/anaconda3/lib/python3.9/site-packages (from etils[epath]->tensorflow-datasets->tf-models-official>=2.5.1->object-detection==0.1) (3.7.0)\n",
      "Requirement already satisfied: importlib_resources in /Users/trevormcgirr/opt/anaconda3/lib/python3.9/site-packages (from etils[epath]->tensorflow-datasets->tf-models-official>=2.5.1->object-detection==0.1) (5.7.1)\n",
      "Building wheels for collected packages: object-detection\n",
      "  Building wheel for object-detection (setup.py) ... \u001b[?25ldone\n",
      "\u001b[?25h  Created wheel for object-detection: filename=object_detection-0.1-py3-none-any.whl size=1659984 sha256=7cc8d05386ad48ba46c193ef91b6e78fe96202730bfc9844fae954c3516bb51a\n",
      "  Stored in directory: /private/var/folders/8t/_x4qcscx7txf2l7h7tx1jwgr0000gn/T/pip-ephem-wheel-cache-jcmy4tft/wheels/54/1b/c7/3b4087b82f4a8c6a3a6f9dfdbbf9e52077983ff3d4dc481a77\n",
      "Successfully built object-detection\n",
      "Installing collected packages: object-detection\n",
      "  Attempting uninstall: object-detection\n",
      "    Found existing installation: object-detection 0.1\n",
      "    Uninstalling object-detection-0.1:\n",
      "      Successfully uninstalled object-detection-0.1\n",
      "Successfully installed object-detection-0.1\n"
     ]
    }
   ],
   "source": [
    "# Install Tensorflow Object Detection \n",
    "if os.name=='posix':  \n",
    "    !apt-get install protobuf-compiler\n",
    "    !cd Tensorflow/models/research && protoc object_detection/protos/*.proto --python_out=. && cp object_detection/packages/tf2/setup.py . && python -m pip install . \n",
    "    \n",
    "if os.name=='nt':\n",
    "    url=\"https://github.com/protocolbuffers/protobuf/releases/download/v3.15.6/protoc-3.15.6-win64.zip\"\n",
    "    wget.download(url)\n",
    "    !move protoc-3.15.6-win64.zip {paths['PROTOC_PATH']}\n",
    "    !cd {paths['PROTOC_PATH']} && tar -xf protoc-3.15.6-win64.zip\n",
    "    os.environ['PATH'] += os.pathsep + os.path.abspath(os.path.join(paths['PROTOC_PATH'], 'bin'))   \n",
    "    !cd Tensorflow/models/research && protoc object_detection/protos/*.proto --python_out=. && copy object_detection\\\\packages\\\\tf2\\\\setup.py setup.py && python setup.py build && python setup.py install\n",
    "    !cd Tensorflow/models/research/slim && pip install -e . "
   ]
  },
  {
   "cell_type": "code",
   "execution_count": 9,
   "metadata": {
    "scrolled": true
   },
   "outputs": [
    {
     "name": "stdout",
     "output_type": "stream",
     "text": [
      "Running tests under Python 3.9.12: /Users/trevormcgirr/opt/anaconda3/bin/python\n",
      "[ RUN      ] ModelBuilderTF2Test.test_create_center_net_deepmac\n",
      "2022-06-12 10:46:56.505492: I tensorflow/core/platform/cpu_feature_guard.cc:193] This TensorFlow binary is optimized with oneAPI Deep Neural Network Library (oneDNN) to use the following CPU instructions in performance-critical operations:  AVX2 FMA\n",
      "To enable them in other operations, rebuild TensorFlow with the appropriate compiler flags.\n",
      "/Users/trevormcgirr/opt/anaconda3/lib/python3.9/site-packages/object_detection/builders/model_builder.py:1102: DeprecationWarning: The 'warn' function is deprecated, use 'warning' instead\n",
      "  logging.warn(('Building experimental DeepMAC meta-arch.'\n",
      "W0612 10:46:56.706701 4360807936 model_builder.py:1102] Building experimental DeepMAC meta-arch. Some features may be omitted.\n",
      "INFO:tensorflow:time(__main__.ModelBuilderTF2Test.test_create_center_net_deepmac): 0.47s\n",
      "I0612 10:46:56.971804 4360807936 test_util.py:2458] time(__main__.ModelBuilderTF2Test.test_create_center_net_deepmac): 0.47s\n",
      "[       OK ] ModelBuilderTF2Test.test_create_center_net_deepmac\n",
      "[ RUN      ] ModelBuilderTF2Test.test_create_center_net_model0 (customize_head_params=True)\n",
      "INFO:tensorflow:time(__main__.ModelBuilderTF2Test.test_create_center_net_model0 (customize_head_params=True)): 0.78s\n",
      "I0612 10:46:57.749744 4360807936 test_util.py:2458] time(__main__.ModelBuilderTF2Test.test_create_center_net_model0 (customize_head_params=True)): 0.78s\n",
      "[       OK ] ModelBuilderTF2Test.test_create_center_net_model0 (customize_head_params=True)\n",
      "[ RUN      ] ModelBuilderTF2Test.test_create_center_net_model1 (customize_head_params=False)\n",
      "INFO:tensorflow:time(__main__.ModelBuilderTF2Test.test_create_center_net_model1 (customize_head_params=False)): 0.57s\n",
      "I0612 10:46:58.322201 4360807936 test_util.py:2458] time(__main__.ModelBuilderTF2Test.test_create_center_net_model1 (customize_head_params=False)): 0.57s\n",
      "[       OK ] ModelBuilderTF2Test.test_create_center_net_model1 (customize_head_params=False)\n",
      "[ RUN      ] ModelBuilderTF2Test.test_create_center_net_model_from_keypoints\n",
      "INFO:tensorflow:time(__main__.ModelBuilderTF2Test.test_create_center_net_model_from_keypoints): 0.19s\n",
      "I0612 10:46:58.510004 4360807936 test_util.py:2458] time(__main__.ModelBuilderTF2Test.test_create_center_net_model_from_keypoints): 0.19s\n",
      "[       OK ] ModelBuilderTF2Test.test_create_center_net_model_from_keypoints\n",
      "[ RUN      ] ModelBuilderTF2Test.test_create_center_net_model_mobilenet\n",
      "INFO:tensorflow:time(__main__.ModelBuilderTF2Test.test_create_center_net_model_mobilenet): 1.58s\n",
      "I0612 10:47:00.086838 4360807936 test_util.py:2458] time(__main__.ModelBuilderTF2Test.test_create_center_net_model_mobilenet): 1.58s\n",
      "[       OK ] ModelBuilderTF2Test.test_create_center_net_model_mobilenet\n",
      "[ RUN      ] ModelBuilderTF2Test.test_create_experimental_model\n",
      "INFO:tensorflow:time(__main__.ModelBuilderTF2Test.test_create_experimental_model): 0.0s\n",
      "I0612 10:47:00.087543 4360807936 test_util.py:2458] time(__main__.ModelBuilderTF2Test.test_create_experimental_model): 0.0s\n",
      "[       OK ] ModelBuilderTF2Test.test_create_experimental_model\n",
      "[ RUN      ] ModelBuilderTF2Test.test_create_faster_rcnn_from_config_with_crop_feature0 (True)\n",
      "INFO:tensorflow:time(__main__.ModelBuilderTF2Test.test_create_faster_rcnn_from_config_with_crop_feature0 (True)): 0.14s\n",
      "I0612 10:47:00.229870 4360807936 test_util.py:2458] time(__main__.ModelBuilderTF2Test.test_create_faster_rcnn_from_config_with_crop_feature0 (True)): 0.14s\n",
      "[       OK ] ModelBuilderTF2Test.test_create_faster_rcnn_from_config_with_crop_feature0 (True)\n",
      "[ RUN      ] ModelBuilderTF2Test.test_create_faster_rcnn_from_config_with_crop_feature1 (False)\n",
      "INFO:tensorflow:time(__main__.ModelBuilderTF2Test.test_create_faster_rcnn_from_config_with_crop_feature1 (False)): 0.01s\n",
      "I0612 10:47:00.244849 4360807936 test_util.py:2458] time(__main__.ModelBuilderTF2Test.test_create_faster_rcnn_from_config_with_crop_feature1 (False)): 0.01s\n",
      "[       OK ] ModelBuilderTF2Test.test_create_faster_rcnn_from_config_with_crop_feature1 (False)\n",
      "[ RUN      ] ModelBuilderTF2Test.test_create_faster_rcnn_model_from_config_with_example_miner\n",
      "INFO:tensorflow:time(__main__.ModelBuilderTF2Test.test_create_faster_rcnn_model_from_config_with_example_miner): 0.02s\n",
      "I0612 10:47:00.260375 4360807936 test_util.py:2458] time(__main__.ModelBuilderTF2Test.test_create_faster_rcnn_model_from_config_with_example_miner): 0.02s\n",
      "[       OK ] ModelBuilderTF2Test.test_create_faster_rcnn_model_from_config_with_example_miner\n",
      "[ RUN      ] ModelBuilderTF2Test.test_create_faster_rcnn_models_from_config_faster_rcnn_with_matmul\n",
      "INFO:tensorflow:time(__main__.ModelBuilderTF2Test.test_create_faster_rcnn_models_from_config_faster_rcnn_with_matmul): 0.09s\n",
      "I0612 10:47:00.350221 4360807936 test_util.py:2458] time(__main__.ModelBuilderTF2Test.test_create_faster_rcnn_models_from_config_faster_rcnn_with_matmul): 0.09s\n",
      "[       OK ] ModelBuilderTF2Test.test_create_faster_rcnn_models_from_config_faster_rcnn_with_matmul\n",
      "[ RUN      ] ModelBuilderTF2Test.test_create_faster_rcnn_models_from_config_faster_rcnn_without_matmul\n",
      "INFO:tensorflow:time(__main__.ModelBuilderTF2Test.test_create_faster_rcnn_models_from_config_faster_rcnn_without_matmul): 0.07s\n",
      "I0612 10:47:00.425044 4360807936 test_util.py:2458] time(__main__.ModelBuilderTF2Test.test_create_faster_rcnn_models_from_config_faster_rcnn_without_matmul): 0.07s\n",
      "[       OK ] ModelBuilderTF2Test.test_create_faster_rcnn_models_from_config_faster_rcnn_without_matmul\n",
      "[ RUN      ] ModelBuilderTF2Test.test_create_faster_rcnn_models_from_config_mask_rcnn_with_matmul\n",
      "INFO:tensorflow:time(__main__.ModelBuilderTF2Test.test_create_faster_rcnn_models_from_config_mask_rcnn_with_matmul): 0.09s\n",
      "I0612 10:47:00.514343 4360807936 test_util.py:2458] time(__main__.ModelBuilderTF2Test.test_create_faster_rcnn_models_from_config_mask_rcnn_with_matmul): 0.09s\n",
      "[       OK ] ModelBuilderTF2Test.test_create_faster_rcnn_models_from_config_mask_rcnn_with_matmul\n",
      "[ RUN      ] ModelBuilderTF2Test.test_create_faster_rcnn_models_from_config_mask_rcnn_without_matmul\n",
      "INFO:tensorflow:time(__main__.ModelBuilderTF2Test.test_create_faster_rcnn_models_from_config_mask_rcnn_without_matmul): 0.09s\n",
      "I0612 10:47:00.601999 4360807936 test_util.py:2458] time(__main__.ModelBuilderTF2Test.test_create_faster_rcnn_models_from_config_mask_rcnn_without_matmul): 0.09s\n",
      "[       OK ] ModelBuilderTF2Test.test_create_faster_rcnn_models_from_config_mask_rcnn_without_matmul\n",
      "[ RUN      ] ModelBuilderTF2Test.test_create_rfcn_model_from_config\n",
      "INFO:tensorflow:time(__main__.ModelBuilderTF2Test.test_create_rfcn_model_from_config): 0.09s\n",
      "I0612 10:47:00.695250 4360807936 test_util.py:2458] time(__main__.ModelBuilderTF2Test.test_create_rfcn_model_from_config): 0.09s\n",
      "[       OK ] ModelBuilderTF2Test.test_create_rfcn_model_from_config\n",
      "[ RUN      ] ModelBuilderTF2Test.test_create_ssd_fpn_model_from_config\n",
      "INFO:tensorflow:time(__main__.ModelBuilderTF2Test.test_create_ssd_fpn_model_from_config): 0.02s\n",
      "I0612 10:47:00.720053 4360807936 test_util.py:2458] time(__main__.ModelBuilderTF2Test.test_create_ssd_fpn_model_from_config): 0.02s\n",
      "[       OK ] ModelBuilderTF2Test.test_create_ssd_fpn_model_from_config\n",
      "[ RUN      ] ModelBuilderTF2Test.test_create_ssd_models_from_config\n",
      "I0612 10:47:00.871613 4360807936 ssd_efficientnet_bifpn_feature_extractor.py:145] EfficientDet EfficientNet backbone version: efficientnet-b0\n",
      "I0612 10:47:00.871711 4360807936 ssd_efficientnet_bifpn_feature_extractor.py:147] EfficientDet BiFPN num filters: 64\n",
      "I0612 10:47:00.871759 4360807936 ssd_efficientnet_bifpn_feature_extractor.py:148] EfficientDet BiFPN num iterations: 3\n",
      "I0612 10:47:00.873430 4360807936 efficientnet_model.py:143] round_filter input=32 output=32\n",
      "I0612 10:47:00.884674 4360807936 efficientnet_model.py:143] round_filter input=32 output=32\n",
      "I0612 10:47:00.884752 4360807936 efficientnet_model.py:143] round_filter input=16 output=16\n",
      "I0612 10:47:00.925634 4360807936 efficientnet_model.py:143] round_filter input=16 output=16\n",
      "I0612 10:47:00.925733 4360807936 efficientnet_model.py:143] round_filter input=24 output=24\n",
      "I0612 10:47:01.040997 4360807936 efficientnet_model.py:143] round_filter input=24 output=24\n",
      "I0612 10:47:01.041095 4360807936 efficientnet_model.py:143] round_filter input=40 output=40\n"
     ]
    },
    {
     "name": "stdout",
     "output_type": "stream",
     "text": [
      "I0612 10:47:01.158195 4360807936 efficientnet_model.py:143] round_filter input=40 output=40\n",
      "I0612 10:47:01.158296 4360807936 efficientnet_model.py:143] round_filter input=80 output=80\n",
      "I0612 10:47:01.329771 4360807936 efficientnet_model.py:143] round_filter input=80 output=80\n",
      "I0612 10:47:01.329871 4360807936 efficientnet_model.py:143] round_filter input=112 output=112\n",
      "I0612 10:47:01.501517 4360807936 efficientnet_model.py:143] round_filter input=112 output=112\n",
      "I0612 10:47:01.501617 4360807936 efficientnet_model.py:143] round_filter input=192 output=192\n",
      "I0612 10:47:01.760557 4360807936 efficientnet_model.py:143] round_filter input=192 output=192\n",
      "I0612 10:47:01.760658 4360807936 efficientnet_model.py:143] round_filter input=320 output=320\n",
      "I0612 10:47:01.822325 4360807936 efficientnet_model.py:143] round_filter input=1280 output=1280\n",
      "I0612 10:47:01.858592 4360807936 efficientnet_model.py:453] Building model efficientnet with params ModelConfig(width_coefficient=1.0, depth_coefficient=1.0, resolution=224, dropout_rate=0.2, blocks=(BlockConfig(input_filters=32, output_filters=16, kernel_size=3, num_repeat=1, expand_ratio=1, strides=(1, 1), se_ratio=0.25, id_skip=True, fused_conv=False, conv_type='depthwise'), BlockConfig(input_filters=16, output_filters=24, kernel_size=3, num_repeat=2, expand_ratio=6, strides=(2, 2), se_ratio=0.25, id_skip=True, fused_conv=False, conv_type='depthwise'), BlockConfig(input_filters=24, output_filters=40, kernel_size=5, num_repeat=2, expand_ratio=6, strides=(2, 2), se_ratio=0.25, id_skip=True, fused_conv=False, conv_type='depthwise'), BlockConfig(input_filters=40, output_filters=80, kernel_size=3, num_repeat=3, expand_ratio=6, strides=(2, 2), se_ratio=0.25, id_skip=True, fused_conv=False, conv_type='depthwise'), BlockConfig(input_filters=80, output_filters=112, kernel_size=5, num_repeat=3, expand_ratio=6, strides=(1, 1), se_ratio=0.25, id_skip=True, fused_conv=False, conv_type='depthwise'), BlockConfig(input_filters=112, output_filters=192, kernel_size=5, num_repeat=4, expand_ratio=6, strides=(2, 2), se_ratio=0.25, id_skip=True, fused_conv=False, conv_type='depthwise'), BlockConfig(input_filters=192, output_filters=320, kernel_size=3, num_repeat=1, expand_ratio=6, strides=(1, 1), se_ratio=0.25, id_skip=True, fused_conv=False, conv_type='depthwise')), stem_base_filters=32, top_base_filters=1280, activation='simple_swish', batch_norm='default', bn_momentum=0.99, bn_epsilon=0.001, weight_decay=5e-06, drop_connect_rate=0.2, depth_divisor=8, min_depth=None, use_se=True, input_channels=3, num_classes=1000, model_name='efficientnet', rescale_input=False, data_format='channels_last', dtype='float32')\n",
      "I0612 10:47:01.903653 4360807936 ssd_efficientnet_bifpn_feature_extractor.py:145] EfficientDet EfficientNet backbone version: efficientnet-b1\n",
      "I0612 10:47:01.903764 4360807936 ssd_efficientnet_bifpn_feature_extractor.py:147] EfficientDet BiFPN num filters: 88\n",
      "I0612 10:47:01.903815 4360807936 ssd_efficientnet_bifpn_feature_extractor.py:148] EfficientDet BiFPN num iterations: 4\n",
      "I0612 10:47:01.905198 4360807936 efficientnet_model.py:143] round_filter input=32 output=32\n",
      "I0612 10:47:01.918215 4360807936 efficientnet_model.py:143] round_filter input=32 output=32\n",
      "I0612 10:47:01.918325 4360807936 efficientnet_model.py:143] round_filter input=16 output=16\n",
      "I0612 10:47:02.027641 4360807936 efficientnet_model.py:143] round_filter input=16 output=16\n",
      "I0612 10:47:02.027751 4360807936 efficientnet_model.py:143] round_filter input=24 output=24\n",
      "I0612 10:47:02.202121 4360807936 efficientnet_model.py:143] round_filter input=24 output=24\n",
      "I0612 10:47:02.202219 4360807936 efficientnet_model.py:143] round_filter input=40 output=40\n",
      "I0612 10:47:02.373103 4360807936 efficientnet_model.py:143] round_filter input=40 output=40\n",
      "I0612 10:47:02.373208 4360807936 efficientnet_model.py:143] round_filter input=80 output=80\n",
      "I0612 10:47:02.602580 4360807936 efficientnet_model.py:143] round_filter input=80 output=80\n",
      "I0612 10:47:02.602693 4360807936 efficientnet_model.py:143] round_filter input=112 output=112\n",
      "I0612 10:47:02.846498 4360807936 efficientnet_model.py:143] round_filter input=112 output=112\n",
      "I0612 10:47:02.846599 4360807936 efficientnet_model.py:143] round_filter input=192 output=192\n",
      "I0612 10:47:03.281442 4360807936 efficientnet_model.py:143] round_filter input=192 output=192\n",
      "I0612 10:47:03.281548 4360807936 efficientnet_model.py:143] round_filter input=320 output=320\n",
      "I0612 10:47:03.410437 4360807936 efficientnet_model.py:143] round_filter input=1280 output=1280\n",
      "I0612 10:47:03.441396 4360807936 efficientnet_model.py:453] Building model efficientnet with params ModelConfig(width_coefficient=1.0, depth_coefficient=1.1, resolution=240, dropout_rate=0.2, blocks=(BlockConfig(input_filters=32, output_filters=16, kernel_size=3, num_repeat=1, expand_ratio=1, strides=(1, 1), se_ratio=0.25, id_skip=True, fused_conv=False, conv_type='depthwise'), BlockConfig(input_filters=16, output_filters=24, kernel_size=3, num_repeat=2, expand_ratio=6, strides=(2, 2), se_ratio=0.25, id_skip=True, fused_conv=False, conv_type='depthwise'), BlockConfig(input_filters=24, output_filters=40, kernel_size=5, num_repeat=2, expand_ratio=6, strides=(2, 2), se_ratio=0.25, id_skip=True, fused_conv=False, conv_type='depthwise'), BlockConfig(input_filters=40, output_filters=80, kernel_size=3, num_repeat=3, expand_ratio=6, strides=(2, 2), se_ratio=0.25, id_skip=True, fused_conv=False, conv_type='depthwise'), BlockConfig(input_filters=80, output_filters=112, kernel_size=5, num_repeat=3, expand_ratio=6, strides=(1, 1), se_ratio=0.25, id_skip=True, fused_conv=False, conv_type='depthwise'), BlockConfig(input_filters=112, output_filters=192, kernel_size=5, num_repeat=4, expand_ratio=6, strides=(2, 2), se_ratio=0.25, id_skip=True, fused_conv=False, conv_type='depthwise'), BlockConfig(input_filters=192, output_filters=320, kernel_size=3, num_repeat=1, expand_ratio=6, strides=(1, 1), se_ratio=0.25, id_skip=True, fused_conv=False, conv_type='depthwise')), stem_base_filters=32, top_base_filters=1280, activation='simple_swish', batch_norm='default', bn_momentum=0.99, bn_epsilon=0.001, weight_decay=5e-06, drop_connect_rate=0.2, depth_divisor=8, min_depth=None, use_se=True, input_channels=3, num_classes=1000, model_name='efficientnet', rescale_input=False, data_format='channels_last', dtype='float32')\n",
      "I0612 10:47:03.496546 4360807936 ssd_efficientnet_bifpn_feature_extractor.py:145] EfficientDet EfficientNet backbone version: efficientnet-b2\n",
      "I0612 10:47:03.496661 4360807936 ssd_efficientnet_bifpn_feature_extractor.py:147] EfficientDet BiFPN num filters: 112\n",
      "I0612 10:47:03.496716 4360807936 ssd_efficientnet_bifpn_feature_extractor.py:148] EfficientDet BiFPN num iterations: 5\n",
      "I0612 10:47:03.498111 4360807936 efficientnet_model.py:143] round_filter input=32 output=32\n",
      "I0612 10:47:03.510591 4360807936 efficientnet_model.py:143] round_filter input=32 output=32\n",
      "I0612 10:47:03.510703 4360807936 efficientnet_model.py:143] round_filter input=16 output=16\n",
      "I0612 10:47:03.608472 4360807936 efficientnet_model.py:143] round_filter input=16 output=16\n",
      "I0612 10:47:03.608576 4360807936 efficientnet_model.py:143] round_filter input=24 output=24\n",
      "I0612 10:47:03.781294 4360807936 efficientnet_model.py:143] round_filter input=24 output=24\n",
      "I0612 10:47:03.781395 4360807936 efficientnet_model.py:143] round_filter input=40 output=48\n",
      "I0612 10:47:03.952001 4360807936 efficientnet_model.py:143] round_filter input=40 output=48\n",
      "I0612 10:47:03.952098 4360807936 efficientnet_model.py:143] round_filter input=80 output=88\n",
      "I0612 10:47:04.179361 4360807936 efficientnet_model.py:143] round_filter input=80 output=88\n",
      "I0612 10:47:04.179459 4360807936 efficientnet_model.py:143] round_filter input=112 output=120\n",
      "I0612 10:47:04.409335 4360807936 efficientnet_model.py:143] round_filter input=112 output=120\n",
      "I0612 10:47:04.409439 4360807936 efficientnet_model.py:143] round_filter input=192 output=208\n",
      "I0612 10:47:04.709640 4360807936 efficientnet_model.py:143] round_filter input=192 output=208\n",
      "I0612 10:47:04.709743 4360807936 efficientnet_model.py:143] round_filter input=320 output=352\n",
      "I0612 10:47:04.856688 4360807936 efficientnet_model.py:143] round_filter input=1280 output=1408\n"
     ]
    },
    {
     "name": "stdout",
     "output_type": "stream",
     "text": [
      "I0612 10:47:04.892342 4360807936 efficientnet_model.py:453] Building model efficientnet with params ModelConfig(width_coefficient=1.1, depth_coefficient=1.2, resolution=260, dropout_rate=0.3, blocks=(BlockConfig(input_filters=32, output_filters=16, kernel_size=3, num_repeat=1, expand_ratio=1, strides=(1, 1), se_ratio=0.25, id_skip=True, fused_conv=False, conv_type='depthwise'), BlockConfig(input_filters=16, output_filters=24, kernel_size=3, num_repeat=2, expand_ratio=6, strides=(2, 2), se_ratio=0.25, id_skip=True, fused_conv=False, conv_type='depthwise'), BlockConfig(input_filters=24, output_filters=40, kernel_size=5, num_repeat=2, expand_ratio=6, strides=(2, 2), se_ratio=0.25, id_skip=True, fused_conv=False, conv_type='depthwise'), BlockConfig(input_filters=40, output_filters=80, kernel_size=3, num_repeat=3, expand_ratio=6, strides=(2, 2), se_ratio=0.25, id_skip=True, fused_conv=False, conv_type='depthwise'), BlockConfig(input_filters=80, output_filters=112, kernel_size=5, num_repeat=3, expand_ratio=6, strides=(1, 1), se_ratio=0.25, id_skip=True, fused_conv=False, conv_type='depthwise'), BlockConfig(input_filters=112, output_filters=192, kernel_size=5, num_repeat=4, expand_ratio=6, strides=(2, 2), se_ratio=0.25, id_skip=True, fused_conv=False, conv_type='depthwise'), BlockConfig(input_filters=192, output_filters=320, kernel_size=3, num_repeat=1, expand_ratio=6, strides=(1, 1), se_ratio=0.25, id_skip=True, fused_conv=False, conv_type='depthwise')), stem_base_filters=32, top_base_filters=1280, activation='simple_swish', batch_norm='default', bn_momentum=0.99, bn_epsilon=0.001, weight_decay=5e-06, drop_connect_rate=0.2, depth_divisor=8, min_depth=None, use_se=True, input_channels=3, num_classes=1000, model_name='efficientnet', rescale_input=False, data_format='channels_last', dtype='float32')\n",
      "I0612 10:47:04.947840 4360807936 ssd_efficientnet_bifpn_feature_extractor.py:145] EfficientDet EfficientNet backbone version: efficientnet-b3\n",
      "I0612 10:47:04.947953 4360807936 ssd_efficientnet_bifpn_feature_extractor.py:147] EfficientDet BiFPN num filters: 160\n",
      "I0612 10:47:04.948006 4360807936 ssd_efficientnet_bifpn_feature_extractor.py:148] EfficientDet BiFPN num iterations: 6\n",
      "I0612 10:47:04.949383 4360807936 efficientnet_model.py:143] round_filter input=32 output=40\n",
      "I0612 10:47:04.961645 4360807936 efficientnet_model.py:143] round_filter input=32 output=40\n",
      "I0612 10:47:04.961739 4360807936 efficientnet_model.py:143] round_filter input=16 output=24\n",
      "I0612 10:47:05.060481 4360807936 efficientnet_model.py:143] round_filter input=16 output=24\n",
      "I0612 10:47:05.060581 4360807936 efficientnet_model.py:143] round_filter input=24 output=32\n",
      "I0612 10:47:05.234146 4360807936 efficientnet_model.py:143] round_filter input=24 output=32\n",
      "I0612 10:47:05.234246 4360807936 efficientnet_model.py:143] round_filter input=40 output=48\n",
      "I0612 10:47:05.403781 4360807936 efficientnet_model.py:143] round_filter input=40 output=48\n",
      "I0612 10:47:05.403878 4360807936 efficientnet_model.py:143] round_filter input=80 output=96\n",
      "I0612 10:47:05.690865 4360807936 efficientnet_model.py:143] round_filter input=80 output=96\n",
      "I0612 10:47:05.690964 4360807936 efficientnet_model.py:143] round_filter input=112 output=136\n",
      "I0612 10:47:05.978661 4360807936 efficientnet_model.py:143] round_filter input=112 output=136\n",
      "I0612 10:47:05.978760 4360807936 efficientnet_model.py:143] round_filter input=192 output=232\n",
      "I0612 10:47:06.364430 4360807936 efficientnet_model.py:143] round_filter input=192 output=232\n",
      "I0612 10:47:06.364529 4360807936 efficientnet_model.py:143] round_filter input=320 output=384\n",
      "I0612 10:47:06.505192 4360807936 efficientnet_model.py:143] round_filter input=1280 output=1536\n",
      "I0612 10:47:06.541221 4360807936 efficientnet_model.py:453] Building model efficientnet with params ModelConfig(width_coefficient=1.2, depth_coefficient=1.4, resolution=300, dropout_rate=0.3, blocks=(BlockConfig(input_filters=32, output_filters=16, kernel_size=3, num_repeat=1, expand_ratio=1, strides=(1, 1), se_ratio=0.25, id_skip=True, fused_conv=False, conv_type='depthwise'), BlockConfig(input_filters=16, output_filters=24, kernel_size=3, num_repeat=2, expand_ratio=6, strides=(2, 2), se_ratio=0.25, id_skip=True, fused_conv=False, conv_type='depthwise'), BlockConfig(input_filters=24, output_filters=40, kernel_size=5, num_repeat=2, expand_ratio=6, strides=(2, 2), se_ratio=0.25, id_skip=True, fused_conv=False, conv_type='depthwise'), BlockConfig(input_filters=40, output_filters=80, kernel_size=3, num_repeat=3, expand_ratio=6, strides=(2, 2), se_ratio=0.25, id_skip=True, fused_conv=False, conv_type='depthwise'), BlockConfig(input_filters=80, output_filters=112, kernel_size=5, num_repeat=3, expand_ratio=6, strides=(1, 1), se_ratio=0.25, id_skip=True, fused_conv=False, conv_type='depthwise'), BlockConfig(input_filters=112, output_filters=192, kernel_size=5, num_repeat=4, expand_ratio=6, strides=(2, 2), se_ratio=0.25, id_skip=True, fused_conv=False, conv_type='depthwise'), BlockConfig(input_filters=192, output_filters=320, kernel_size=3, num_repeat=1, expand_ratio=6, strides=(1, 1), se_ratio=0.25, id_skip=True, fused_conv=False, conv_type='depthwise')), stem_base_filters=32, top_base_filters=1280, activation='simple_swish', batch_norm='default', bn_momentum=0.99, bn_epsilon=0.001, weight_decay=5e-06, drop_connect_rate=0.2, depth_divisor=8, min_depth=None, use_se=True, input_channels=3, num_classes=1000, model_name='efficientnet', rescale_input=False, data_format='channels_last', dtype='float32')\n",
      "I0612 10:47:06.602870 4360807936 ssd_efficientnet_bifpn_feature_extractor.py:145] EfficientDet EfficientNet backbone version: efficientnet-b4\n",
      "I0612 10:47:06.602983 4360807936 ssd_efficientnet_bifpn_feature_extractor.py:147] EfficientDet BiFPN num filters: 224\n",
      "I0612 10:47:06.603039 4360807936 ssd_efficientnet_bifpn_feature_extractor.py:148] EfficientDet BiFPN num iterations: 7\n",
      "I0612 10:47:06.604455 4360807936 efficientnet_model.py:143] round_filter input=32 output=48\n",
      "I0612 10:47:06.617135 4360807936 efficientnet_model.py:143] round_filter input=32 output=48\n",
      "I0612 10:47:06.617249 4360807936 efficientnet_model.py:143] round_filter input=16 output=24\n",
      "I0612 10:47:06.728154 4360807936 efficientnet_model.py:143] round_filter input=16 output=24\n",
      "I0612 10:47:06.728268 4360807936 efficientnet_model.py:143] round_filter input=24 output=32\n",
      "I0612 10:47:06.957321 4360807936 efficientnet_model.py:143] round_filter input=24 output=32\n",
      "I0612 10:47:06.957423 4360807936 efficientnet_model.py:143] round_filter input=40 output=56\n",
      "I0612 10:47:07.399272 4360807936 efficientnet_model.py:143] round_filter input=40 output=56\n",
      "I0612 10:47:07.399372 4360807936 efficientnet_model.py:143] round_filter input=80 output=112\n",
      "I0612 10:47:07.742357 4360807936 efficientnet_model.py:143] round_filter input=80 output=112\n",
      "I0612 10:47:07.742460 4360807936 efficientnet_model.py:143] round_filter input=112 output=160\n",
      "I0612 10:47:08.122951 4360807936 efficientnet_model.py:143] round_filter input=112 output=160\n",
      "I0612 10:47:08.123054 4360807936 efficientnet_model.py:143] round_filter input=192 output=272\n",
      "I0612 10:47:08.635113 4360807936 efficientnet_model.py:143] round_filter input=192 output=272\n",
      "I0612 10:47:08.635225 4360807936 efficientnet_model.py:143] round_filter input=320 output=448\n",
      "I0612 10:47:08.782817 4360807936 efficientnet_model.py:143] round_filter input=1280 output=1792\n",
      "I0612 10:47:08.820206 4360807936 efficientnet_model.py:453] Building model efficientnet with params ModelConfig(width_coefficient=1.4, depth_coefficient=1.8, resolution=380, dropout_rate=0.4, blocks=(BlockConfig(input_filters=32, output_filters=16, kernel_size=3, num_repeat=1, expand_ratio=1, strides=(1, 1), se_ratio=0.25, id_skip=True, fused_conv=False, conv_type='depthwise'), BlockConfig(input_filters=16, output_filters=24, kernel_size=3, num_repeat=2, expand_ratio=6, strides=(2, 2), se_ratio=0.25, id_skip=True, fused_conv=False, conv_type='depthwise'), BlockConfig(input_filters=24, output_filters=40, kernel_size=5, num_repeat=2, expand_ratio=6, strides=(2, 2), se_ratio=0.25, id_skip=True, fused_conv=False, conv_type='depthwise'), BlockConfig(input_filters=40, output_filters=80, kernel_size=3, num_repeat=3, expand_ratio=6, strides=(2, 2), se_ratio=0.25, id_skip=True, fused_conv=False, conv_type='depthwise'), BlockConfig(input_filters=80, output_filters=112, kernel_size=5, num_repeat=3, expand_ratio=6, strides=(1, 1), se_ratio=0.25, id_skip=True, fused_conv=False, conv_type='depthwise'), BlockConfig(input_filters=112, output_filters=192, kernel_size=5, num_repeat=4, expand_ratio=6, strides=(2, 2), se_ratio=0.25, id_skip=True, fused_conv=False, conv_type='depthwise'), BlockConfig(input_filters=192, output_filters=320, kernel_size=3, num_repeat=1, expand_ratio=6, strides=(1, 1), se_ratio=0.25, id_skip=True, fused_conv=False, conv_type='depthwise')), stem_base_filters=32, top_base_filters=1280, activation='simple_swish', batch_norm='default', bn_momentum=0.99, bn_epsilon=0.001, weight_decay=5e-06, drop_connect_rate=0.2, depth_divisor=8, min_depth=None, use_se=True, input_channels=3, num_classes=1000, model_name='efficientnet', rescale_input=False, data_format='channels_last', dtype='float32')\n"
     ]
    },
    {
     "name": "stdout",
     "output_type": "stream",
     "text": [
      "I0612 10:47:08.890024 4360807936 ssd_efficientnet_bifpn_feature_extractor.py:145] EfficientDet EfficientNet backbone version: efficientnet-b5\n",
      "I0612 10:47:08.890142 4360807936 ssd_efficientnet_bifpn_feature_extractor.py:147] EfficientDet BiFPN num filters: 288\n",
      "I0612 10:47:08.890197 4360807936 ssd_efficientnet_bifpn_feature_extractor.py:148] EfficientDet BiFPN num iterations: 7\n",
      "I0612 10:47:08.891644 4360807936 efficientnet_model.py:143] round_filter input=32 output=48\n",
      "I0612 10:47:08.904261 4360807936 efficientnet_model.py:143] round_filter input=32 output=48\n",
      "I0612 10:47:08.904357 4360807936 efficientnet_model.py:143] round_filter input=16 output=24\n",
      "I0612 10:47:09.066442 4360807936 efficientnet_model.py:143] round_filter input=16 output=24\n",
      "I0612 10:47:09.066545 4360807936 efficientnet_model.py:143] round_filter input=24 output=40\n",
      "I0612 10:47:09.347438 4360807936 efficientnet_model.py:143] round_filter input=24 output=40\n",
      "I0612 10:47:09.347535 4360807936 efficientnet_model.py:143] round_filter input=40 output=64\n",
      "I0612 10:47:09.626490 4360807936 efficientnet_model.py:143] round_filter input=40 output=64\n",
      "I0612 10:47:09.626588 4360807936 efficientnet_model.py:143] round_filter input=80 output=128\n",
      "I0612 10:47:10.085552 4360807936 efficientnet_model.py:143] round_filter input=80 output=128\n",
      "I0612 10:47:10.085675 4360807936 efficientnet_model.py:143] round_filter input=112 output=176\n",
      "I0612 10:47:10.577669 4360807936 efficientnet_model.py:143] round_filter input=112 output=176\n",
      "I0612 10:47:10.577776 4360807936 efficientnet_model.py:143] round_filter input=192 output=304\n",
      "I0612 10:47:11.218012 4360807936 efficientnet_model.py:143] round_filter input=192 output=304\n",
      "I0612 10:47:11.218115 4360807936 efficientnet_model.py:143] round_filter input=320 output=512\n",
      "I0612 10:47:11.455522 4360807936 efficientnet_model.py:143] round_filter input=1280 output=2048\n",
      "I0612 10:47:11.498149 4360807936 efficientnet_model.py:453] Building model efficientnet with params ModelConfig(width_coefficient=1.6, depth_coefficient=2.2, resolution=456, dropout_rate=0.4, blocks=(BlockConfig(input_filters=32, output_filters=16, kernel_size=3, num_repeat=1, expand_ratio=1, strides=(1, 1), se_ratio=0.25, id_skip=True, fused_conv=False, conv_type='depthwise'), BlockConfig(input_filters=16, output_filters=24, kernel_size=3, num_repeat=2, expand_ratio=6, strides=(2, 2), se_ratio=0.25, id_skip=True, fused_conv=False, conv_type='depthwise'), BlockConfig(input_filters=24, output_filters=40, kernel_size=5, num_repeat=2, expand_ratio=6, strides=(2, 2), se_ratio=0.25, id_skip=True, fused_conv=False, conv_type='depthwise'), BlockConfig(input_filters=40, output_filters=80, kernel_size=3, num_repeat=3, expand_ratio=6, strides=(2, 2), se_ratio=0.25, id_skip=True, fused_conv=False, conv_type='depthwise'), BlockConfig(input_filters=80, output_filters=112, kernel_size=5, num_repeat=3, expand_ratio=6, strides=(1, 1), se_ratio=0.25, id_skip=True, fused_conv=False, conv_type='depthwise'), BlockConfig(input_filters=112, output_filters=192, kernel_size=5, num_repeat=4, expand_ratio=6, strides=(2, 2), se_ratio=0.25, id_skip=True, fused_conv=False, conv_type='depthwise'), BlockConfig(input_filters=192, output_filters=320, kernel_size=3, num_repeat=1, expand_ratio=6, strides=(1, 1), se_ratio=0.25, id_skip=True, fused_conv=False, conv_type='depthwise')), stem_base_filters=32, top_base_filters=1280, activation='simple_swish', batch_norm='default', bn_momentum=0.99, bn_epsilon=0.001, weight_decay=5e-06, drop_connect_rate=0.2, depth_divisor=8, min_depth=None, use_se=True, input_channels=3, num_classes=1000, model_name='efficientnet', rescale_input=False, data_format='channels_last', dtype='float32')\n",
      "I0612 10:47:11.585833 4360807936 ssd_efficientnet_bifpn_feature_extractor.py:145] EfficientDet EfficientNet backbone version: efficientnet-b6\n",
      "I0612 10:47:11.585944 4360807936 ssd_efficientnet_bifpn_feature_extractor.py:147] EfficientDet BiFPN num filters: 384\n",
      "I0612 10:47:11.585999 4360807936 ssd_efficientnet_bifpn_feature_extractor.py:148] EfficientDet BiFPN num iterations: 8\n",
      "I0612 10:47:11.587401 4360807936 efficientnet_model.py:143] round_filter input=32 output=56\n",
      "I0612 10:47:11.601249 4360807936 efficientnet_model.py:143] round_filter input=32 output=56\n",
      "I0612 10:47:11.601359 4360807936 efficientnet_model.py:143] round_filter input=16 output=32\n",
      "I0612 10:47:11.753185 4360807936 efficientnet_model.py:143] round_filter input=16 output=32\n",
      "I0612 10:47:11.753289 4360807936 efficientnet_model.py:143] round_filter input=24 output=40\n",
      "I0612 10:47:12.310251 4360807936 efficientnet_model.py:143] round_filter input=24 output=40\n",
      "I0612 10:47:12.310348 4360807936 efficientnet_model.py:143] round_filter input=40 output=72\n",
      "I0612 10:47:12.665867 4360807936 efficientnet_model.py:143] round_filter input=40 output=72\n",
      "I0612 10:47:12.665982 4360807936 efficientnet_model.py:143] round_filter input=80 output=144\n",
      "I0612 10:47:13.159473 4360807936 efficientnet_model.py:143] round_filter input=80 output=144\n",
      "I0612 10:47:13.159584 4360807936 efficientnet_model.py:143] round_filter input=112 output=200\n",
      "I0612 10:47:13.644326 4360807936 efficientnet_model.py:143] round_filter input=112 output=200\n",
      "I0612 10:47:13.644431 4360807936 efficientnet_model.py:143] round_filter input=192 output=344\n",
      "I0612 10:47:14.471175 4360807936 efficientnet_model.py:143] round_filter input=192 output=344\n",
      "I0612 10:47:14.471303 4360807936 efficientnet_model.py:143] round_filter input=320 output=576\n",
      "I0612 10:47:14.771633 4360807936 efficientnet_model.py:143] round_filter input=1280 output=2304\n",
      "I0612 10:47:14.827608 4360807936 efficientnet_model.py:453] Building model efficientnet with params ModelConfig(width_coefficient=1.8, depth_coefficient=2.6, resolution=528, dropout_rate=0.5, blocks=(BlockConfig(input_filters=32, output_filters=16, kernel_size=3, num_repeat=1, expand_ratio=1, strides=(1, 1), se_ratio=0.25, id_skip=True, fused_conv=False, conv_type='depthwise'), BlockConfig(input_filters=16, output_filters=24, kernel_size=3, num_repeat=2, expand_ratio=6, strides=(2, 2), se_ratio=0.25, id_skip=True, fused_conv=False, conv_type='depthwise'), BlockConfig(input_filters=24, output_filters=40, kernel_size=5, num_repeat=2, expand_ratio=6, strides=(2, 2), se_ratio=0.25, id_skip=True, fused_conv=False, conv_type='depthwise'), BlockConfig(input_filters=40, output_filters=80, kernel_size=3, num_repeat=3, expand_ratio=6, strides=(2, 2), se_ratio=0.25, id_skip=True, fused_conv=False, conv_type='depthwise'), BlockConfig(input_filters=80, output_filters=112, kernel_size=5, num_repeat=3, expand_ratio=6, strides=(1, 1), se_ratio=0.25, id_skip=True, fused_conv=False, conv_type='depthwise'), BlockConfig(input_filters=112, output_filters=192, kernel_size=5, num_repeat=4, expand_ratio=6, strides=(2, 2), se_ratio=0.25, id_skip=True, fused_conv=False, conv_type='depthwise'), BlockConfig(input_filters=192, output_filters=320, kernel_size=3, num_repeat=1, expand_ratio=6, strides=(1, 1), se_ratio=0.25, id_skip=True, fused_conv=False, conv_type='depthwise')), stem_base_filters=32, top_base_filters=1280, activation='simple_swish', batch_norm='default', bn_momentum=0.99, bn_epsilon=0.001, weight_decay=5e-06, drop_connect_rate=0.2, depth_divisor=8, min_depth=None, use_se=True, input_channels=3, num_classes=1000, model_name='efficientnet', rescale_input=False, data_format='channels_last', dtype='float32')\n",
      "I0612 10:47:14.936773 4360807936 ssd_efficientnet_bifpn_feature_extractor.py:145] EfficientDet EfficientNet backbone version: efficientnet-b7\n",
      "I0612 10:47:14.936889 4360807936 ssd_efficientnet_bifpn_feature_extractor.py:147] EfficientDet BiFPN num filters: 384\n",
      "I0612 10:47:14.936942 4360807936 ssd_efficientnet_bifpn_feature_extractor.py:148] EfficientDet BiFPN num iterations: 8\n",
      "I0612 10:47:14.938345 4360807936 efficientnet_model.py:143] round_filter input=32 output=64\n",
      "I0612 10:47:14.951493 4360807936 efficientnet_model.py:143] round_filter input=32 output=64\n",
      "I0612 10:47:14.951603 4360807936 efficientnet_model.py:143] round_filter input=16 output=32\n",
      "I0612 10:47:15.137806 4360807936 efficientnet_model.py:143] round_filter input=16 output=32\n",
      "I0612 10:47:15.137907 4360807936 efficientnet_model.py:143] round_filter input=24 output=48\n"
     ]
    },
    {
     "name": "stdout",
     "output_type": "stream",
     "text": [
      "I0612 10:47:15.567821 4360807936 efficientnet_model.py:143] round_filter input=24 output=48\n",
      "I0612 10:47:15.567946 4360807936 efficientnet_model.py:143] round_filter input=40 output=80\n",
      "I0612 10:47:15.973781 4360807936 efficientnet_model.py:143] round_filter input=40 output=80\n",
      "I0612 10:47:15.973936 4360807936 efficientnet_model.py:143] round_filter input=80 output=160\n",
      "I0612 10:47:16.563504 4360807936 efficientnet_model.py:143] round_filter input=80 output=160\n",
      "I0612 10:47:16.563606 4360807936 efficientnet_model.py:143] round_filter input=112 output=224\n",
      "I0612 10:47:17.420473 4360807936 efficientnet_model.py:143] round_filter input=112 output=224\n",
      "I0612 10:47:17.420580 4360807936 efficientnet_model.py:143] round_filter input=192 output=384\n",
      "I0612 10:47:18.391823 4360807936 efficientnet_model.py:143] round_filter input=192 output=384\n",
      "I0612 10:47:18.391933 4360807936 efficientnet_model.py:143] round_filter input=320 output=640\n",
      "I0612 10:47:18.955691 4360807936 efficientnet_model.py:143] round_filter input=1280 output=2560\n",
      "I0612 10:47:19.011204 4360807936 efficientnet_model.py:453] Building model efficientnet with params ModelConfig(width_coefficient=2.0, depth_coefficient=3.1, resolution=600, dropout_rate=0.5, blocks=(BlockConfig(input_filters=32, output_filters=16, kernel_size=3, num_repeat=1, expand_ratio=1, strides=(1, 1), se_ratio=0.25, id_skip=True, fused_conv=False, conv_type='depthwise'), BlockConfig(input_filters=16, output_filters=24, kernel_size=3, num_repeat=2, expand_ratio=6, strides=(2, 2), se_ratio=0.25, id_skip=True, fused_conv=False, conv_type='depthwise'), BlockConfig(input_filters=24, output_filters=40, kernel_size=5, num_repeat=2, expand_ratio=6, strides=(2, 2), se_ratio=0.25, id_skip=True, fused_conv=False, conv_type='depthwise'), BlockConfig(input_filters=40, output_filters=80, kernel_size=3, num_repeat=3, expand_ratio=6, strides=(2, 2), se_ratio=0.25, id_skip=True, fused_conv=False, conv_type='depthwise'), BlockConfig(input_filters=80, output_filters=112, kernel_size=5, num_repeat=3, expand_ratio=6, strides=(1, 1), se_ratio=0.25, id_skip=True, fused_conv=False, conv_type='depthwise'), BlockConfig(input_filters=112, output_filters=192, kernel_size=5, num_repeat=4, expand_ratio=6, strides=(2, 2), se_ratio=0.25, id_skip=True, fused_conv=False, conv_type='depthwise'), BlockConfig(input_filters=192, output_filters=320, kernel_size=3, num_repeat=1, expand_ratio=6, strides=(1, 1), se_ratio=0.25, id_skip=True, fused_conv=False, conv_type='depthwise')), stem_base_filters=32, top_base_filters=1280, activation='simple_swish', batch_norm='default', bn_momentum=0.99, bn_epsilon=0.001, weight_decay=5e-06, drop_connect_rate=0.2, depth_divisor=8, min_depth=None, use_se=True, input_channels=3, num_classes=1000, model_name='efficientnet', rescale_input=False, data_format='channels_last', dtype='float32')\n",
      "INFO:tensorflow:time(__main__.ModelBuilderTF2Test.test_create_ssd_models_from_config): 18.41s\n",
      "I0612 10:47:19.135058 4360807936 test_util.py:2458] time(__main__.ModelBuilderTF2Test.test_create_ssd_models_from_config): 18.41s\n",
      "[       OK ] ModelBuilderTF2Test.test_create_ssd_models_from_config\n",
      "[ RUN      ] ModelBuilderTF2Test.test_invalid_faster_rcnn_batchnorm_update\n",
      "INFO:tensorflow:time(__main__.ModelBuilderTF2Test.test_invalid_faster_rcnn_batchnorm_update): 0.0s\n",
      "I0612 10:47:19.141303 4360807936 test_util.py:2458] time(__main__.ModelBuilderTF2Test.test_invalid_faster_rcnn_batchnorm_update): 0.0s\n",
      "[       OK ] ModelBuilderTF2Test.test_invalid_faster_rcnn_batchnorm_update\n",
      "[ RUN      ] ModelBuilderTF2Test.test_invalid_first_stage_nms_iou_threshold\n",
      "INFO:tensorflow:time(__main__.ModelBuilderTF2Test.test_invalid_first_stage_nms_iou_threshold): 0.0s\n",
      "I0612 10:47:19.142989 4360807936 test_util.py:2458] time(__main__.ModelBuilderTF2Test.test_invalid_first_stage_nms_iou_threshold): 0.0s\n",
      "[       OK ] ModelBuilderTF2Test.test_invalid_first_stage_nms_iou_threshold\n",
      "[ RUN      ] ModelBuilderTF2Test.test_invalid_model_config_proto\n",
      "INFO:tensorflow:time(__main__.ModelBuilderTF2Test.test_invalid_model_config_proto): 0.0s\n",
      "I0612 10:47:19.143425 4360807936 test_util.py:2458] time(__main__.ModelBuilderTF2Test.test_invalid_model_config_proto): 0.0s\n",
      "[       OK ] ModelBuilderTF2Test.test_invalid_model_config_proto\n",
      "[ RUN      ] ModelBuilderTF2Test.test_invalid_second_stage_batch_size\n",
      "INFO:tensorflow:time(__main__.ModelBuilderTF2Test.test_invalid_second_stage_batch_size): 0.0s\n",
      "I0612 10:47:19.144958 4360807936 test_util.py:2458] time(__main__.ModelBuilderTF2Test.test_invalid_second_stage_batch_size): 0.0s\n",
      "[       OK ] ModelBuilderTF2Test.test_invalid_second_stage_batch_size\n",
      "[ RUN      ] ModelBuilderTF2Test.test_session\n",
      "[  SKIPPED ] ModelBuilderTF2Test.test_session\n",
      "[ RUN      ] ModelBuilderTF2Test.test_unknown_faster_rcnn_feature_extractor\n",
      "INFO:tensorflow:time(__main__.ModelBuilderTF2Test.test_unknown_faster_rcnn_feature_extractor): 0.0s\n",
      "I0612 10:47:19.146318 4360807936 test_util.py:2458] time(__main__.ModelBuilderTF2Test.test_unknown_faster_rcnn_feature_extractor): 0.0s\n",
      "[       OK ] ModelBuilderTF2Test.test_unknown_faster_rcnn_feature_extractor\n",
      "[ RUN      ] ModelBuilderTF2Test.test_unknown_meta_architecture\n",
      "INFO:tensorflow:time(__main__.ModelBuilderTF2Test.test_unknown_meta_architecture): 0.0s\n",
      "I0612 10:47:19.146674 4360807936 test_util.py:2458] time(__main__.ModelBuilderTF2Test.test_unknown_meta_architecture): 0.0s\n",
      "[       OK ] ModelBuilderTF2Test.test_unknown_meta_architecture\n",
      "[ RUN      ] ModelBuilderTF2Test.test_unknown_ssd_feature_extractor\n",
      "INFO:tensorflow:time(__main__.ModelBuilderTF2Test.test_unknown_ssd_feature_extractor): 0.0s\n",
      "I0612 10:47:19.147664 4360807936 test_util.py:2458] time(__main__.ModelBuilderTF2Test.test_unknown_ssd_feature_extractor): 0.0s\n",
      "[       OK ] ModelBuilderTF2Test.test_unknown_ssd_feature_extractor\n",
      "----------------------------------------------------------------------\n",
      "Ran 24 tests in 22.645s\n",
      "\n",
      "OK (skipped=1)\n"
     ]
    }
   ],
   "source": [
    "VERIFICATION_SCRIPT = os.path.join(paths['APIMODEL_PATH'], 'research', 'object_detection', 'builders', 'model_builder_tf2_test.py')\n",
    "# Verify Installation\n",
    "!python {VERIFICATION_SCRIPT}"
   ]
  },
  {
   "cell_type": "code",
   "execution_count": 10,
   "metadata": {},
   "outputs": [
    {
     "name": "stdout",
     "output_type": "stream",
     "text": [
      "Requirement already satisfied: tensorflow in /Users/trevormcgirr/opt/anaconda3/lib/python3.9/site-packages (2.9.1)\n",
      "Requirement already satisfied: opt-einsum>=2.3.2 in /Users/trevormcgirr/opt/anaconda3/lib/python3.9/site-packages (from tensorflow) (3.3.0)\n",
      "Requirement already satisfied: tensorflow-estimator<2.10.0,>=2.9.0rc0 in /Users/trevormcgirr/opt/anaconda3/lib/python3.9/site-packages (from tensorflow) (2.9.0)\n",
      "Requirement already satisfied: packaging in /Users/trevormcgirr/opt/anaconda3/lib/python3.9/site-packages (from tensorflow) (21.3)\n",
      "Requirement already satisfied: six>=1.12.0 in /Users/trevormcgirr/opt/anaconda3/lib/python3.9/site-packages (from tensorflow) (1.16.0)\n",
      "Requirement already satisfied: astunparse>=1.6.0 in /Users/trevormcgirr/opt/anaconda3/lib/python3.9/site-packages (from tensorflow) (1.6.3)\n",
      "Requirement already satisfied: setuptools in /Users/trevormcgirr/opt/anaconda3/lib/python3.9/site-packages (from tensorflow) (61.2.0)\n",
      "Requirement already satisfied: h5py>=2.9.0 in /Users/trevormcgirr/opt/anaconda3/lib/python3.9/site-packages (from tensorflow) (3.6.0)\n",
      "Requirement already satisfied: wrapt>=1.11.0 in /Users/trevormcgirr/opt/anaconda3/lib/python3.9/site-packages (from tensorflow) (1.12.1)\n",
      "Requirement already satisfied: typing-extensions>=3.6.6 in /Users/trevormcgirr/opt/anaconda3/lib/python3.9/site-packages (from tensorflow) (4.1.1)\n",
      "Requirement already satisfied: tensorboard<2.10,>=2.9 in /Users/trevormcgirr/opt/anaconda3/lib/python3.9/site-packages (from tensorflow) (2.9.0)\n",
      "Requirement already satisfied: libclang>=13.0.0 in /Users/trevormcgirr/opt/anaconda3/lib/python3.9/site-packages (from tensorflow) (14.0.1)\n",
      "Requirement already satisfied: flatbuffers<2,>=1.12 in /Users/trevormcgirr/opt/anaconda3/lib/python3.9/site-packages (from tensorflow) (1.12)\n",
      "Requirement already satisfied: absl-py>=1.0.0 in /Users/trevormcgirr/opt/anaconda3/lib/python3.9/site-packages (from tensorflow) (1.0.0)\n",
      "Requirement already satisfied: google-pasta>=0.1.1 in /Users/trevormcgirr/opt/anaconda3/lib/python3.9/site-packages (from tensorflow) (0.2.0)\n",
      "Requirement already satisfied: gast<=0.4.0,>=0.2.1 in /Users/trevormcgirr/opt/anaconda3/lib/python3.9/site-packages (from tensorflow) (0.4.0)\n",
      "Requirement already satisfied: keras-preprocessing>=1.1.1 in /Users/trevormcgirr/opt/anaconda3/lib/python3.9/site-packages (from tensorflow) (1.1.2)\n",
      "Requirement already satisfied: protobuf<3.20,>=3.9.2 in /Users/trevormcgirr/opt/anaconda3/lib/python3.9/site-packages (from tensorflow) (3.19.1)\n",
      "Requirement already satisfied: numpy>=1.20 in /Users/trevormcgirr/opt/anaconda3/lib/python3.9/site-packages (from tensorflow) (1.21.5)\n",
      "Requirement already satisfied: termcolor>=1.1.0 in /Users/trevormcgirr/opt/anaconda3/lib/python3.9/site-packages (from tensorflow) (1.1.0)\n",
      "Requirement already satisfied: keras<2.10.0,>=2.9.0rc0 in /Users/trevormcgirr/opt/anaconda3/lib/python3.9/site-packages (from tensorflow) (2.9.0)\n",
      "Requirement already satisfied: tensorflow-io-gcs-filesystem>=0.23.1 in /Users/trevormcgirr/opt/anaconda3/lib/python3.9/site-packages (from tensorflow) (0.26.0)\n",
      "Requirement already satisfied: grpcio<2.0,>=1.24.3 in /Users/trevormcgirr/opt/anaconda3/lib/python3.9/site-packages (from tensorflow) (1.42.0)\n",
      "Requirement already satisfied: wheel<1.0,>=0.23.0 in /Users/trevormcgirr/opt/anaconda3/lib/python3.9/site-packages (from astunparse>=1.6.0->tensorflow) (0.37.1)\n",
      "Requirement already satisfied: requests<3,>=2.21.0 in /Users/trevormcgirr/opt/anaconda3/lib/python3.9/site-packages (from tensorboard<2.10,>=2.9->tensorflow) (2.27.1)\n",
      "Requirement already satisfied: werkzeug>=1.0.1 in /Users/trevormcgirr/opt/anaconda3/lib/python3.9/site-packages (from tensorboard<2.10,>=2.9->tensorflow) (2.0.3)\n",
      "Requirement already satisfied: markdown>=2.6.8 in /Users/trevormcgirr/opt/anaconda3/lib/python3.9/site-packages (from tensorboard<2.10,>=2.9->tensorflow) (3.3.4)\n",
      "Requirement already satisfied: tensorboard-data-server<0.7.0,>=0.6.0 in /Users/trevormcgirr/opt/anaconda3/lib/python3.9/site-packages (from tensorboard<2.10,>=2.9->tensorflow) (0.6.1)\n",
      "Requirement already satisfied: tensorboard-plugin-wit>=1.6.0 in /Users/trevormcgirr/opt/anaconda3/lib/python3.9/site-packages (from tensorboard<2.10,>=2.9->tensorflow) (1.8.1)\n",
      "Requirement already satisfied: google-auth<3,>=1.6.3 in /Users/trevormcgirr/opt/anaconda3/lib/python3.9/site-packages (from tensorboard<2.10,>=2.9->tensorflow) (1.33.0)\n",
      "Requirement already satisfied: google-auth-oauthlib<0.5,>=0.4.1 in /Users/trevormcgirr/opt/anaconda3/lib/python3.9/site-packages (from tensorboard<2.10,>=2.9->tensorflow) (0.4.6)\n",
      "Requirement already satisfied: pyasn1-modules>=0.2.1 in /Users/trevormcgirr/opt/anaconda3/lib/python3.9/site-packages (from google-auth<3,>=1.6.3->tensorboard<2.10,>=2.9->tensorflow) (0.2.8)\n",
      "Requirement already satisfied: cachetools<5.0,>=2.0.0 in /Users/trevormcgirr/opt/anaconda3/lib/python3.9/site-packages (from google-auth<3,>=1.6.3->tensorboard<2.10,>=2.9->tensorflow) (4.2.2)\n",
      "Requirement already satisfied: rsa<5,>=3.1.4 in /Users/trevormcgirr/opt/anaconda3/lib/python3.9/site-packages (from google-auth<3,>=1.6.3->tensorboard<2.10,>=2.9->tensorflow) (4.7.2)\n",
      "Requirement already satisfied: requests-oauthlib>=0.7.0 in /Users/trevormcgirr/opt/anaconda3/lib/python3.9/site-packages (from google-auth-oauthlib<0.5,>=0.4.1->tensorboard<2.10,>=2.9->tensorflow) (1.3.1)\n",
      "Requirement already satisfied: pyasn1<0.5.0,>=0.4.6 in /Users/trevormcgirr/opt/anaconda3/lib/python3.9/site-packages (from pyasn1-modules>=0.2.1->google-auth<3,>=1.6.3->tensorboard<2.10,>=2.9->tensorflow) (0.4.8)\n",
      "Requirement already satisfied: certifi>=2017.4.17 in /Users/trevormcgirr/opt/anaconda3/lib/python3.9/site-packages (from requests<3,>=2.21.0->tensorboard<2.10,>=2.9->tensorflow) (2021.10.8)\n",
      "Requirement already satisfied: urllib3<1.27,>=1.21.1 in /Users/trevormcgirr/opt/anaconda3/lib/python3.9/site-packages (from requests<3,>=2.21.0->tensorboard<2.10,>=2.9->tensorflow) (1.26.9)\n",
      "Requirement already satisfied: idna<4,>=2.5 in /Users/trevormcgirr/opt/anaconda3/lib/python3.9/site-packages (from requests<3,>=2.21.0->tensorboard<2.10,>=2.9->tensorflow) (3.3)\n",
      "Requirement already satisfied: charset-normalizer~=2.0.0 in /Users/trevormcgirr/opt/anaconda3/lib/python3.9/site-packages (from requests<3,>=2.21.0->tensorboard<2.10,>=2.9->tensorflow) (2.0.4)\n",
      "Requirement already satisfied: oauthlib>=3.0.0 in /Users/trevormcgirr/opt/anaconda3/lib/python3.9/site-packages (from requests-oauthlib>=0.7.0->google-auth-oauthlib<0.5,>=0.4.1->tensorboard<2.10,>=2.9->tensorflow) (3.2.0)\n",
      "Requirement already satisfied: pyparsing!=3.0.5,>=2.0.2 in /Users/trevormcgirr/opt/anaconda3/lib/python3.9/site-packages (from packaging->tensorflow) (2.4.7)\n"
     ]
    }
   ],
   "source": [
    "!pip install tensorflow --upgrade"
   ]
  },
  {
   "cell_type": "code",
   "execution_count": 11,
   "metadata": {},
   "outputs": [],
   "source": [
    "# !pip uninstall protobuf matplotlib -y\n",
    "# !pip install protobuf matplotlib==3.2"
   ]
  },
  {
   "cell_type": "code",
   "execution_count": 12,
   "metadata": {},
   "outputs": [],
   "source": [
    "import object_detection"
   ]
  },
  {
   "cell_type": "code",
   "execution_count": 13,
   "metadata": {
    "scrolled": true
   },
   "outputs": [
    {
     "name": "stdout",
     "output_type": "stream",
     "text": [
      "Package                       Version\r\n",
      "----------------------------- --------------------\r\n",
      "absl-py                       1.0.0\r\n",
      "aiohttp                       3.8.1\r\n",
      "aiosignal                     1.2.0\r\n",
      "alabaster                     0.7.12\r\n",
      "anaconda-client               1.9.0\r\n",
      "anaconda-navigator            2.2.0\r\n",
      "anaconda-project              0.10.2\r\n",
      "anyio                         3.5.0\r\n",
      "apache-beam                   2.39.0\r\n",
      "appdirs                       1.4.4\r\n",
      "applaunchservices             0.2.1\r\n",
      "appnope                       0.1.2\r\n",
      "appscript                     1.1.2\r\n",
      "argon2-cffi                   21.3.0\r\n",
      "argon2-cffi-bindings          21.2.0\r\n",
      "arrow                         1.2.2\r\n",
      "astroid                       2.6.6\r\n",
      "astropy                       5.0.4\r\n",
      "asttokens                     2.0.5\r\n",
      "astunparse                    1.6.3\r\n",
      "async-timeout                 4.0.1\r\n",
      "atomicwrites                  1.4.0\r\n",
      "attrs                         21.4.0\r\n",
      "Automat                       20.2.0\r\n",
      "autopep8                      1.6.0\r\n",
      "avro-python3                  1.10.2\r\n",
      "Babel                         2.9.1\r\n",
      "backcall                      0.2.0\r\n",
      "backports.functools-lru-cache 1.6.4\r\n",
      "backports.tempfile            1.0\r\n",
      "backports.weakref             1.0.post1\r\n",
      "bcrypt                        3.2.0\r\n",
      "beautifulsoup4                4.6.3\r\n",
      "binaryornot                   0.4.4\r\n",
      "bitarray                      2.4.1\r\n",
      "bkcharts                      0.2\r\n",
      "black                         19.10b0\r\n",
      "bleach                        4.1.0\r\n",
      "bokeh                         2.4.2\r\n",
      "boto3                         1.21.32\r\n",
      "botocore                      1.24.32\r\n",
      "Bottleneck                    1.3.4\r\n",
      "brotlipy                      0.7.0\r\n",
      "cachetools                    4.2.2\r\n",
      "certifi                       2021.10.8\r\n",
      "cffi                          1.15.0\r\n",
      "chardet                       4.0.0\r\n",
      "charset-normalizer            2.0.4\r\n",
      "click                         8.0.4\r\n",
      "cloudpickle                   2.0.0\r\n",
      "clyent                        1.2.2\r\n",
      "cmd2                          2.4.1\r\n",
      "colorama                      0.4.4\r\n",
      "colorcet                      2.0.6\r\n",
      "conda                         4.13.0\r\n",
      "conda-build                   3.21.8\r\n",
      "conda-content-trust           0+unknown\r\n",
      "conda-pack                    0.6.0\r\n",
      "conda-package-handling        1.8.1\r\n",
      "conda-repo-cli                1.0.4\r\n",
      "conda-token                   0.3.0\r\n",
      "conda-verify                  3.4.2\r\n",
      "constantly                    15.1.0\r\n",
      "contextlib2                   21.6.0\r\n",
      "cookiecutter                  1.7.3\r\n",
      "crcmod                        1.7\r\n",
      "cryptography                  3.4.8\r\n",
      "cssselect                     1.1.0\r\n",
      "cycler                        0.11.0\r\n",
      "Cython                        0.29.28\r\n",
      "cytoolz                       0.11.0\r\n",
      "daal4py                       2021.5.0\r\n",
      "dask                          2022.2.1\r\n",
      "datashader                    0.13.0\r\n",
      "datashape                     0.5.4\r\n",
      "debugpy                       1.5.1\r\n",
      "decorator                     5.1.1\r\n",
      "defusedxml                    0.7.1\r\n",
      "diff-match-patch              20200713\r\n",
      "dill                          0.3.1.1\r\n",
      "distributed                   2022.2.1\r\n",
      "dm-tree                       0.1.7\r\n",
      "docopt                        0.6.2\r\n",
      "docutils                      0.17.1\r\n",
      "entrypoints                   0.4\r\n",
      "et-xmlfile                    1.1.0\r\n",
      "etils                         0.6.0\r\n",
      "executing                     0.8.3\r\n",
      "fastavro                      1.5.1\r\n",
      "fastjsonschema                2.15.1\r\n",
      "filelock                      3.6.0\r\n",
      "flake8                        3.9.2\r\n",
      "Flask                         1.1.2\r\n",
      "flatbuffers                   1.12\r\n",
      "fonttools                     4.25.0\r\n",
      "frozenlist                    1.2.0\r\n",
      "fsspec                        2022.2.0\r\n",
      "future                        0.18.2\r\n",
      "gast                          0.4.0\r\n",
      "gensim                        4.1.2\r\n",
      "gin-config                    0.5.0\r\n",
      "glob2                         0.7\r\n",
      "gmpy2                         2.1.2\r\n",
      "google-api-core               2.8.1\r\n",
      "google-api-python-client      2.50.0\r\n",
      "google-auth                   1.33.0\r\n",
      "google-auth-httplib2          0.1.0\r\n",
      "google-auth-oauthlib          0.4.6\r\n",
      "google-cloud-core             1.7.1\r\n",
      "google-cloud-storage          1.31.0\r\n",
      "google-crc32c                 1.1.2\r\n",
      "google-pasta                  0.2.0\r\n",
      "google-resumable-media        1.3.1\r\n",
      "googleapis-common-protos      1.56.2\r\n",
      "greenlet                      1.1.1\r\n",
      "grpcio                        1.42.0\r\n",
      "h5py                          3.6.0\r\n",
      "hdfs                          2.7.0\r\n",
      "HeapDict                      1.0.1\r\n",
      "holoviews                     1.14.8\r\n",
      "httplib2                      0.19.1\r\n",
      "hvplot                        0.7.3\r\n",
      "hyperlink                     21.0.0\r\n",
      "idna                          3.3\r\n",
      "imagecodecs                   2021.8.26\r\n",
      "imageio                       2.9.0\r\n",
      "imagesize                     1.3.0\r\n",
      "importlib-metadata            4.11.3\r\n",
      "importlib-resources           5.7.1\r\n",
      "incremental                   21.3.0\r\n",
      "inflection                    0.5.1\r\n",
      "iniconfig                     1.1.1\r\n",
      "intake                        0.6.5\r\n",
      "intervaltree                  3.1.0\r\n",
      "ipykernel                     6.9.1\r\n",
      "ipython                       8.2.0\r\n",
      "ipython-genutils              0.2.0\r\n",
      "ipywidgets                    7.6.5\r\n",
      "isort                         5.9.3\r\n",
      "itemadapter                   0.3.0\r\n",
      "itemloaders                   1.0.4\r\n",
      "itsdangerous                  2.0.1\r\n",
      "jdcal                         1.4.1\r\n",
      "jedi                          0.18.1\r\n",
      "Jinja2                        2.11.3\r\n",
      "jinja2-time                   0.2.0\r\n",
      "jmespath                      0.10.0\r\n",
      "joblib                        1.1.0\r\n",
      "json5                         0.9.6\r\n",
      "jsonschema                    4.4.0\r\n",
      "jupyter                       1.0.0\r\n",
      "jupyter-client                6.1.12\r\n",
      "jupyter-console               6.4.0\r\n",
      "jupyter-core                  4.9.2\r\n",
      "jupyter-server                1.13.5\r\n",
      "jupyterlab                    3.3.2\r\n",
      "jupyterlab-pygments           0.1.2\r\n",
      "jupyterlab-server             2.10.3\r\n",
      "jupyterlab-widgets            1.0.0\r\n",
      "kaggle                        1.5.12\r\n",
      "keras                         2.9.0\r\n",
      "Keras-Preprocessing           1.1.2\r\n",
      "keyring                       23.4.0\r\n",
      "kiwisolver                    1.3.2\r\n",
      "lazy-object-proxy             1.6.0\r\n",
      "libarchive-c                  2.9\r\n",
      "libclang                      14.0.1\r\n",
      "llvmlite                      0.38.0\r\n",
      "locket                        0.2.1\r\n",
      "lvis                          0.5.3\r\n",
      "lxml                          4.8.0\r\n",
      "Markdown                      3.3.4\r\n",
      "MarkupSafe                    2.0.1\r\n",
      "matplotlib                    3.5.1\r\n",
      "matplotlib-inline             0.1.2\r\n",
      "mccabe                        0.6.1\r\n",
      "MechanicalSoup                0.8.0\r\n",
      "mistune                       0.8.4\r\n",
      "mkl-fft                       1.3.1\r\n",
      "mkl-random                    1.2.2\r\n",
      "mkl-service                   2.4.0\r\n",
      "mock                          4.0.3\r\n",
      "mpmath                        1.2.1\r\n",
      "msgpack                       1.0.2\r\n",
      "multidict                     5.2.0\r\n",
      "multipledispatch              0.6.0\r\n",
      "munkres                       1.1.4\r\n",
      "mypy-extensions               0.4.3\r\n",
      "navigator-updater             0.2.1\r\n",
      "nbclassic                     0.3.5\r\n",
      "nbclient                      0.5.13\r\n",
      "nbconvert                     6.4.4\r\n",
      "nbformat                      5.3.0\r\n",
      "nest-asyncio                  1.5.5\r\n",
      "networkx                      2.7.1\r\n",
      "nltk                          3.7\r\n",
      "nose                          1.3.7\r\n",
      "notebook                      6.4.8\r\n",
      "numba                         0.55.1\r\n",
      "numexpr                       2.8.1\r\n",
      "numpy                         1.21.5\r\n",
      "numpydoc                      1.2\r\n",
      "oauth2client                  4.1.3\r\n",
      "oauthlib                      3.2.0\r\n",
      "object-detection              0.1\r\n",
      "olefile                       0.46\r\n",
      "opencv-python                 4.5.5.64\r\n",
      "opencv-python-headless        4.6.0.66\r\n",
      "openpyxl                      3.0.9\r\n",
      "opt-einsum                    3.3.0\r\n",
      "orjson                        3.7.2\r\n",
      "packaging                     21.3\r\n",
      "pandas                        1.4.2\r\n",
      "pandocfilters                 1.5.0\r\n",
      "panel                         0.13.0\r\n",
      "param                         1.12.0\r\n",
      "parsel                        1.6.0\r\n",
      "parso                         0.8.3\r\n",
      "partd                         1.2.0\r\n",
      "pathspec                      0.7.0\r\n",
      "patsy                         0.5.2\r\n",
      "pbr                           5.9.0\r\n",
      "pep8                          1.7.1\r\n",
      "pexpect                       4.8.0\r\n",
      "pickleshare                   0.7.5\r\n",
      "Pillow                        9.0.1\r\n",
      "pip                           21.2.4\r\n",
      "pkginfo                       1.8.2\r\n",
      "plotly                        5.6.0\r\n",
      "pluggy                        1.0.0\r\n",
      "portalocker                   2.4.0\r\n",
      "poyo                          0.5.0\r\n",
      "prettytable                   0.7.2\r\n",
      "progressbar2                  3.34.3\r\n",
      "prometheus-client             0.13.1\r\n",
      "promise                       2.3\r\n",
      "prompt-toolkit                3.0.20\r\n",
      "Protego                       0.1.16\r\n",
      "proto-plus                    1.20.5\r\n",
      "protobuf                      3.19.1\r\n",
      "psutil                        5.8.0\r\n",
      "ptyprocess                    0.7.0\r\n",
      "pure-eval                     0.2.2\r\n",
      "py                            1.11.0\r\n",
      "py-cpuinfo                    8.0.0\r\n",
      "pyarrow                       7.0.0\r\n",
      "pyasn1                        0.4.8\r\n",
      "pyasn1-modules                0.2.8\r\n",
      "pycocotools                   2.0.4\r\n",
      "pycodestyle                   2.7.0\r\n",
      "pycosat                       0.6.3\r\n",
      "pycparser                     2.21\r\n",
      "pyct                          0.4.6\r\n",
      "pycurl                        7.44.1\r\n",
      "PyDispatcher                  2.0.5\r\n",
      "pydocstyle                    6.1.1\r\n",
      "pydot                         1.4.2\r\n",
      "pydotplus                     2.0.2\r\n",
      "pyerfa                        2.0.0\r\n",
      "pyflakes                      2.3.1\r\n",
      "Pygments                      2.11.2\r\n",
      "PyHamcrest                    2.0.2\r\n",
      "PyJWT                         2.1.0\r\n",
      "pylint                        2.9.6\r\n",
      "pyls-spyder                   0.4.0\r\n",
      "pymongo                       3.12.3\r\n",
      "pyodbc                        4.0.32\r\n",
      "pyOpenSSL                     21.0.0\r\n",
      "pyparsing                     2.4.7\r\n",
      "pyperclip                     1.8.2\r\n",
      "pyrsistent                    0.18.0\r\n",
      "PySocks                       1.7.1\r\n",
      "pytest                        7.1.1\r\n",
      "python-dateutil               2.8.2\r\n",
      "python-lsp-black              1.0.0\r\n",
      "python-lsp-jsonrpc            1.0.0\r\n",
      "python-lsp-server             1.2.4\r\n",
      "python-slugify                5.0.2\r\n",
      "python-snappy                 0.6.0\r\n",
      "python-utils                  3.3.3\r\n",
      "pytz                          2021.3\r\n",
      "pyviz-comms                   2.0.2\r\n",
      "PyWavelets                    1.3.0\r\n",
      "PyYAML                        5.4.1\r\n",
      "pyzmq                         22.3.0\r\n",
      "QDarkStyle                    3.0.2\r\n",
      "qstylizer                     0.1.10\r\n",
      "QtAwesome                     1.0.3\r\n",
      "qtconsole                     5.3.0\r\n",
      "QtPy                          2.0.1\r\n",
      "queuelib                      1.5.0\r\n",
      "regex                         2022.3.15\r\n",
      "requests                      2.27.1\r\n",
      "requests-file                 1.5.1\r\n",
      "requests-oauthlib             1.3.1\r\n",
      "rope                          0.22.0\r\n",
      "rsa                           4.7.2\r\n",
      "Rtree                         0.9.7\r\n",
      "ruamel-yaml-conda             0.15.100\r\n",
      "s3transfer                    0.5.0\r\n",
      "sacrebleu                     2.1.0\r\n",
      "scikit-image                  0.19.2\r\n",
      "scikit-learn                  1.0.2\r\n",
      "scikit-learn-intelex          2021.20220215.132722\r\n",
      "scipy                         1.7.3\r\n",
      "Scrapy                        2.6.1\r\n",
      "seaborn                       0.11.2\r\n",
      "Send2Trash                    1.8.0\r\n",
      "sentencepiece                 0.1.96\r\n",
      "seqeval                       1.2.2\r\n",
      "service-identity              18.1.0\r\n",
      "setuptools                    61.2.0\r\n",
      "sip                           4.19.13\r\n",
      "six                           1.16.0\r\n",
      "smart-open                    5.1.0\r\n",
      "sniffio                       1.2.0\r\n",
      "snowballstemmer               2.2.0\r\n",
      "sortedcollections             2.1.0\r\n",
      "sortedcontainers              2.4.0\r\n",
      "soupsieve                     2.3.1\r\n",
      "Sphinx                        4.4.0\r\n",
      "sphinxcontrib-applehelp       1.0.2\r\n",
      "sphinxcontrib-devhelp         1.0.2\r\n",
      "sphinxcontrib-htmlhelp        2.0.0\r\n",
      "sphinxcontrib-jsmath          1.0.1\r\n",
      "sphinxcontrib-qthelp          1.0.3\r\n",
      "sphinxcontrib-serializinghtml 1.1.5\r\n",
      "spyder                        5.1.5\r\n",
      "spyder-kernels                2.1.3\r\n",
      "SQLAlchemy                    1.4.32\r\n",
      "stack-data                    0.2.0\r\n",
      "statsmodels                   0.13.2\r\n",
      "stevedore                     3.5.0\r\n",
      "sympy                         1.10.1\r\n",
      "tables                        3.6.1\r\n",
      "tabulate                      0.8.9\r\n",
      "TBB                           0.2\r\n",
      "tblib                         1.7.0\r\n",
      "tenacity                      8.0.1\r\n",
      "tensorboard                   2.9.0\r\n",
      "tensorboard-data-server       0.6.1\r\n",
      "tensorboard-plugin-wit        1.8.1\r\n",
      "tensorflow                    2.9.1\r\n",
      "tensorflow-addons             0.17.0\r\n",
      "tensorflow-datasets           4.6.0\r\n",
      "tensorflow-estimator          2.9.0\r\n",
      "tensorflow-hub                0.12.0\r\n",
      "tensorflow-io                 0.26.0\r\n",
      "tensorflow-io-gcs-filesystem  0.26.0\r\n",
      "tensorflow-metadata           1.8.0\r\n",
      "tensorflow-model-optimization 0.7.2\r\n",
      "tensorflow-text               2.9.0\r\n",
      "termcolor                     1.1.0\r\n",
      "terminado                     0.13.1\r\n",
      "testpath                      0.5.0\r\n",
      "text-unidecode                1.3\r\n",
      "textdistance                  4.2.1\r\n",
      "tf-models-official            2.9.2\r\n",
      "tf-slim                       1.1.0\r\n",
      "threadpoolctl                 2.2.0\r\n",
      "three-merge                   0.1.1\r\n",
      "tifffile                      2021.7.2\r\n",
      "tinycss                       0.4\r\n",
      "tldextract                    3.2.0\r\n",
      "toml                          0.10.2\r\n",
      "tomli                         1.2.2\r\n",
      "toolz                         0.11.2\r\n",
      "tornado                       6.1\r\n",
      "tqdm                          4.64.0\r\n",
      "traitlets                     5.1.1\r\n",
      "Twisted                       22.2.0\r\n",
      "typed-ast                     1.4.3\r\n",
      "typeguard                     2.13.3\r\n",
      "typing_extensions             4.1.1\r\n",
      "ujson                         5.1.0\r\n",
      "Unidecode                     1.2.0\r\n",
      "uritemplate                   4.1.1\r\n",
      "urllib3                       1.26.9\r\n",
      "w3lib                         1.21.0\r\n",
      "watchdog                      2.1.6\r\n",
      "wcwidth                       0.2.5\r\n",
      "webencodings                  0.5.1\r\n",
      "websocket-client              0.58.0\r\n",
      "Werkzeug                      2.0.3\r\n",
      "wheel                         0.37.1\r\n",
      "widgetsnbextension            3.5.2\r\n",
      "wrapt                         1.12.1\r\n",
      "wurlitzer                     3.0.2\r\n",
      "xarray                        0.20.1\r\n",
      "xlrd                          2.0.1\r\n",
      "XlsxWriter                    3.0.3\r\n",
      "xlwings                       0.24.9\r\n",
      "yapf                          0.31.0\r\n",
      "yarl                          1.6.3\r\n",
      "zict                          2.0.0\r\n",
      "zipp                          3.7.0\r\n",
      "zope.interface                5.4.0\r\n"
     ]
    }
   ],
   "source": [
    "!pip list"
   ]
  },
  {
   "cell_type": "code",
   "execution_count": 14,
   "metadata": {
    "colab": {
     "base_uri": "https://localhost:8080/"
    },
    "id": "csofht2npfDE",
    "outputId": "ff5471b2-bed2-43f2-959c-327a706527b6"
   },
   "outputs": [
    {
     "name": "stdout",
     "output_type": "stream",
     "text": [
      "--2022-06-12 10:47:24--  http://download.tensorflow.org/models/object_detection/tf2/20200711/ssd_mobilenet_v2_fpnlite_320x320_coco17_tpu-8.tar.gz\n",
      "Resolving download.tensorflow.org (download.tensorflow.org)... 142.250.176.16\n",
      "Connecting to download.tensorflow.org (download.tensorflow.org)|142.250.176.16|:80... connected.\n",
      "HTTP request sent, awaiting response... 200 OK\n",
      "Length: 20515344 (20M) [application/x-tar]\n",
      "Saving to: 'ssd_mobilenet_v2_fpnlite_320x320_coco17_tpu-8.tar.gz'\n",
      "\n",
      "ssd_mobilenet_v2_fp 100%[===================>]  19.56M  37.4MB/s    in 0.5s    \n",
      "\n",
      "2022-06-12 10:47:25 (37.4 MB/s) - 'ssd_mobilenet_v2_fpnlite_320x320_coco17_tpu-8.tar.gz' saved [20515344/20515344]\n",
      "\n",
      "x ssd_mobilenet_v2_fpnlite_320x320_coco17_tpu-8/\n",
      "x ssd_mobilenet_v2_fpnlite_320x320_coco17_tpu-8/checkpoint/\n",
      "x ssd_mobilenet_v2_fpnlite_320x320_coco17_tpu-8/checkpoint/ckpt-0.data-00000-of-00001\n",
      "x ssd_mobilenet_v2_fpnlite_320x320_coco17_tpu-8/checkpoint/checkpoint\n",
      "x ssd_mobilenet_v2_fpnlite_320x320_coco17_tpu-8/checkpoint/ckpt-0.index\n",
      "x ssd_mobilenet_v2_fpnlite_320x320_coco17_tpu-8/pipeline.config\n",
      "x ssd_mobilenet_v2_fpnlite_320x320_coco17_tpu-8/saved_model/\n",
      "x ssd_mobilenet_v2_fpnlite_320x320_coco17_tpu-8/saved_model/saved_model.pb\n",
      "x ssd_mobilenet_v2_fpnlite_320x320_coco17_tpu-8/saved_model/variables/\n",
      "x ssd_mobilenet_v2_fpnlite_320x320_coco17_tpu-8/saved_model/variables/variables.data-00000-of-00001\n",
      "x ssd_mobilenet_v2_fpnlite_320x320_coco17_tpu-8/saved_model/variables/variables.index\n"
     ]
    }
   ],
   "source": [
    "if os.name =='posix':\n",
    "    !wget {PRETRAINED_MODEL_URL}\n",
    "    !mv {PRETRAINED_MODEL_NAME+'.tar.gz'} {paths['PRETRAINED_MODEL_PATH']}\n",
    "    !cd {paths['PRETRAINED_MODEL_PATH']} && tar -zxvf {PRETRAINED_MODEL_NAME+'.tar.gz'}\n",
    "if os.name == 'nt':\n",
    "    wget.download(PRETRAINED_MODEL_URL)\n",
    "    !move {PRETRAINED_MODEL_NAME+'.tar.gz'} {paths['PRETRAINED_MODEL_PATH']}\n",
    "    !cd {paths['PRETRAINED_MODEL_PATH']} && tar -zxvf {PRETRAINED_MODEL_NAME+'.tar.gz'}"
   ]
  },
  {
   "cell_type": "markdown",
   "metadata": {
    "id": "M5KJTnkfpfDC"
   },
   "source": [
    "# 2. Create Label Map"
   ]
  },
  {
   "cell_type": "code",
   "execution_count": 15,
   "metadata": {
    "id": "p1BVDWo7pfDC"
   },
   "outputs": [],
   "source": [
    "labels = [{'name':'Left', 'id':1}, {'name':'Right', 'id':2}, {'name':'Up', 'id':3}, {'name':'Down', 'id':4}]\n",
    "\n",
    "with open(files['LABELMAP'], 'w') as f:\n",
    "    for label in labels:\n",
    "        f.write('item { \\n')\n",
    "        f.write('\\tname:\\'{}\\'\\n'.format(label['name']))\n",
    "        f.write('\\tid:{}\\n'.format(label['id']))\n",
    "        f.write('}\\n')"
   ]
  },
  {
   "cell_type": "markdown",
   "metadata": {
    "id": "C88zyVELpfDC"
   },
   "source": [
    "# 3. Create TF records"
   ]
  },
  {
   "cell_type": "code",
   "execution_count": 16,
   "metadata": {
    "colab": {
     "base_uri": "https://localhost:8080/"
    },
    "id": "kvf5WccwrFGq",
    "outputId": "49902aeb-0bd7-4298-e1a0-5b4a64eb2064"
   },
   "outputs": [],
   "source": [
    "# OPTIONAL IF RUNNING ON COLAB\n",
    "# ARCHIVE_FILES = os.path.join(paths['IMAGE_PATH'], 'archive.tar.gz')\n",
    "# if os.path.exists(ARCHIVE_FILES):\n",
    "#   !tar -zxvf {ARCHIVE_FILES}"
   ]
  },
  {
   "cell_type": "code",
   "execution_count": 17,
   "metadata": {
    "colab": {
     "base_uri": "https://localhost:8080/"
    },
    "id": "KWpb_BVUpfDD",
    "outputId": "56ce2a3f-3933-4ee6-8a9d-d5ec65f7d73c"
   },
   "outputs": [],
   "source": [
    "if not os.path.exists(files['TF_RECORD_SCRIPT']):\n",
    "    !git clone https://github.com/nicknochnack/GenerateTFRecord {paths['SCRIPTS_PATH']}"
   ]
  },
  {
   "cell_type": "code",
   "execution_count": 18,
   "metadata": {
    "colab": {
     "base_uri": "https://localhost:8080/"
    },
    "id": "UPFToGZqpfDD",
    "outputId": "0ebb456f-aadc-4a1f-96e6-fbfec1923e1c"
   },
   "outputs": [
    {
     "name": "stdout",
     "output_type": "stream",
     "text": [
      "Successfully created the TFRecord file: Tensorflow/workspace/annotations/train.record\n",
      "Successfully created the TFRecord file: Tensorflow/workspace/annotations/test.record\n"
     ]
    }
   ],
   "source": [
    "!python {files['TF_RECORD_SCRIPT']} -x {os.path.join(paths['IMAGE_PATH'], 'train')} -l {files['LABELMAP']} -o {os.path.join(paths['ANNOTATION_PATH'], 'train.record')} \n",
    "!python {files['TF_RECORD_SCRIPT']} -x {os.path.join(paths['IMAGE_PATH'], 'test')} -l {files['LABELMAP']} -o {os.path.join(paths['ANNOTATION_PATH'], 'test.record')} "
   ]
  },
  {
   "cell_type": "markdown",
   "metadata": {
    "id": "qT4QU7pLpfDE"
   },
   "source": [
    "# 4. Copy Model Config to Training Folder"
   ]
  },
  {
   "cell_type": "code",
   "execution_count": 19,
   "metadata": {
    "id": "cOjuTFbwpfDF"
   },
   "outputs": [],
   "source": [
    "if os.name =='posix':\n",
    "    !cp {os.path.join(paths['PRETRAINED_MODEL_PATH'], PRETRAINED_MODEL_NAME, 'pipeline.config')} {os.path.join(paths['CHECKPOINT_PATH'])}\n",
    "if os.name == 'nt':\n",
    "    !copy {os.path.join(paths['PRETRAINED_MODEL_PATH'], PRETRAINED_MODEL_NAME, 'pipeline.config')} {os.path.join(paths['CHECKPOINT_PATH'])}"
   ]
  },
  {
   "cell_type": "markdown",
   "metadata": {
    "id": "Ga8gpNslpfDF"
   },
   "source": [
    "# 5. Update Config For Transfer Learning"
   ]
  },
  {
   "cell_type": "code",
   "execution_count": 20,
   "metadata": {
    "id": "Z9hRrO_ppfDF"
   },
   "outputs": [],
   "source": [
    "import tensorflow as tf\n",
    "from object_detection.utils import config_util\n",
    "from object_detection.protos import pipeline_pb2\n",
    "from google.protobuf import text_format"
   ]
  },
  {
   "cell_type": "code",
   "execution_count": 21,
   "metadata": {
    "id": "c2A0mn4ipfDF"
   },
   "outputs": [],
   "source": [
    "config = config_util.get_configs_from_pipeline_file(files['PIPELINE_CONFIG'])"
   ]
  },
  {
   "cell_type": "code",
   "execution_count": 22,
   "metadata": {
    "colab": {
     "base_uri": "https://localhost:8080/"
    },
    "id": "uQA13-afpfDF",
    "outputId": "907496a4-a39d-4b13-8c2c-e5978ecb1f10"
   },
   "outputs": [
    {
     "data": {
      "text/plain": [
       "{'model': ssd {\n",
       "   num_classes: 90\n",
       "   image_resizer {\n",
       "     fixed_shape_resizer {\n",
       "       height: 320\n",
       "       width: 320\n",
       "     }\n",
       "   }\n",
       "   feature_extractor {\n",
       "     type: \"ssd_mobilenet_v2_fpn_keras\"\n",
       "     depth_multiplier: 1.0\n",
       "     min_depth: 16\n",
       "     conv_hyperparams {\n",
       "       regularizer {\n",
       "         l2_regularizer {\n",
       "           weight: 3.9999998989515007e-05\n",
       "         }\n",
       "       }\n",
       "       initializer {\n",
       "         random_normal_initializer {\n",
       "           mean: 0.0\n",
       "           stddev: 0.009999999776482582\n",
       "         }\n",
       "       }\n",
       "       activation: RELU_6\n",
       "       batch_norm {\n",
       "         decay: 0.996999979019165\n",
       "         scale: true\n",
       "         epsilon: 0.0010000000474974513\n",
       "       }\n",
       "     }\n",
       "     use_depthwise: true\n",
       "     override_base_feature_extractor_hyperparams: true\n",
       "     fpn {\n",
       "       min_level: 3\n",
       "       max_level: 7\n",
       "       additional_layer_depth: 128\n",
       "     }\n",
       "   }\n",
       "   box_coder {\n",
       "     faster_rcnn_box_coder {\n",
       "       y_scale: 10.0\n",
       "       x_scale: 10.0\n",
       "       height_scale: 5.0\n",
       "       width_scale: 5.0\n",
       "     }\n",
       "   }\n",
       "   matcher {\n",
       "     argmax_matcher {\n",
       "       matched_threshold: 0.5\n",
       "       unmatched_threshold: 0.5\n",
       "       ignore_thresholds: false\n",
       "       negatives_lower_than_unmatched: true\n",
       "       force_match_for_each_row: true\n",
       "       use_matmul_gather: true\n",
       "     }\n",
       "   }\n",
       "   similarity_calculator {\n",
       "     iou_similarity {\n",
       "     }\n",
       "   }\n",
       "   box_predictor {\n",
       "     weight_shared_convolutional_box_predictor {\n",
       "       conv_hyperparams {\n",
       "         regularizer {\n",
       "           l2_regularizer {\n",
       "             weight: 3.9999998989515007e-05\n",
       "           }\n",
       "         }\n",
       "         initializer {\n",
       "           random_normal_initializer {\n",
       "             mean: 0.0\n",
       "             stddev: 0.009999999776482582\n",
       "           }\n",
       "         }\n",
       "         activation: RELU_6\n",
       "         batch_norm {\n",
       "           decay: 0.996999979019165\n",
       "           scale: true\n",
       "           epsilon: 0.0010000000474974513\n",
       "         }\n",
       "       }\n",
       "       depth: 128\n",
       "       num_layers_before_predictor: 4\n",
       "       kernel_size: 3\n",
       "       class_prediction_bias_init: -4.599999904632568\n",
       "       share_prediction_tower: true\n",
       "       use_depthwise: true\n",
       "     }\n",
       "   }\n",
       "   anchor_generator {\n",
       "     multiscale_anchor_generator {\n",
       "       min_level: 3\n",
       "       max_level: 7\n",
       "       anchor_scale: 4.0\n",
       "       aspect_ratios: 1.0\n",
       "       aspect_ratios: 2.0\n",
       "       aspect_ratios: 0.5\n",
       "       scales_per_octave: 2\n",
       "     }\n",
       "   }\n",
       "   post_processing {\n",
       "     batch_non_max_suppression {\n",
       "       score_threshold: 9.99999993922529e-09\n",
       "       iou_threshold: 0.6000000238418579\n",
       "       max_detections_per_class: 100\n",
       "       max_total_detections: 100\n",
       "       use_static_shapes: false\n",
       "     }\n",
       "     score_converter: SIGMOID\n",
       "   }\n",
       "   normalize_loss_by_num_matches: true\n",
       "   loss {\n",
       "     localization_loss {\n",
       "       weighted_smooth_l1 {\n",
       "       }\n",
       "     }\n",
       "     classification_loss {\n",
       "       weighted_sigmoid_focal {\n",
       "         gamma: 2.0\n",
       "         alpha: 0.25\n",
       "       }\n",
       "     }\n",
       "     classification_weight: 1.0\n",
       "     localization_weight: 1.0\n",
       "   }\n",
       "   encode_background_as_zeros: true\n",
       "   normalize_loc_loss_by_codesize: true\n",
       "   inplace_batchnorm_update: true\n",
       "   freeze_batchnorm: false\n",
       " },\n",
       " 'train_config': batch_size: 128\n",
       " data_augmentation_options {\n",
       "   random_horizontal_flip {\n",
       "   }\n",
       " }\n",
       " data_augmentation_options {\n",
       "   random_crop_image {\n",
       "     min_object_covered: 0.0\n",
       "     min_aspect_ratio: 0.75\n",
       "     max_aspect_ratio: 3.0\n",
       "     min_area: 0.75\n",
       "     max_area: 1.0\n",
       "     overlap_thresh: 0.0\n",
       "   }\n",
       " }\n",
       " sync_replicas: true\n",
       " optimizer {\n",
       "   momentum_optimizer {\n",
       "     learning_rate {\n",
       "       cosine_decay_learning_rate {\n",
       "         learning_rate_base: 0.07999999821186066\n",
       "         total_steps: 50000\n",
       "         warmup_learning_rate: 0.026666000485420227\n",
       "         warmup_steps: 1000\n",
       "       }\n",
       "     }\n",
       "     momentum_optimizer_value: 0.8999999761581421\n",
       "   }\n",
       "   use_moving_average: false\n",
       " }\n",
       " fine_tune_checkpoint: \"PATH_TO_BE_CONFIGURED\"\n",
       " num_steps: 50000\n",
       " startup_delay_steps: 0.0\n",
       " replicas_to_aggregate: 8\n",
       " max_number_of_boxes: 100\n",
       " unpad_groundtruth_tensors: false\n",
       " fine_tune_checkpoint_type: \"classification\"\n",
       " fine_tune_checkpoint_version: V2,\n",
       " 'train_input_config': label_map_path: \"PATH_TO_BE_CONFIGURED\"\n",
       " tf_record_input_reader {\n",
       "   input_path: \"PATH_TO_BE_CONFIGURED\"\n",
       " },\n",
       " 'eval_config': metrics_set: \"coco_detection_metrics\"\n",
       " use_moving_averages: false,\n",
       " 'eval_input_configs': [label_map_path: \"PATH_TO_BE_CONFIGURED\"\n",
       " shuffle: false\n",
       " num_epochs: 1\n",
       " tf_record_input_reader {\n",
       "   input_path: \"PATH_TO_BE_CONFIGURED\"\n",
       " }\n",
       " ],\n",
       " 'eval_input_config': label_map_path: \"PATH_TO_BE_CONFIGURED\"\n",
       " shuffle: false\n",
       " num_epochs: 1\n",
       " tf_record_input_reader {\n",
       "   input_path: \"PATH_TO_BE_CONFIGURED\"\n",
       " }}"
      ]
     },
     "execution_count": 22,
     "metadata": {},
     "output_type": "execute_result"
    }
   ],
   "source": [
    "config"
   ]
  },
  {
   "cell_type": "code",
   "execution_count": 23,
   "metadata": {
    "id": "9vK5lotDpfDF"
   },
   "outputs": [],
   "source": [
    "pipeline_config = pipeline_pb2.TrainEvalPipelineConfig()\n",
    "with tf.io.gfile.GFile(files['PIPELINE_CONFIG'], \"r\") as f:                                                                                                                                                                                                                     \n",
    "    proto_str = f.read()                                                                                                                                                                                                                                          \n",
    "    text_format.Merge(proto_str, pipeline_config)  "
   ]
  },
  {
   "cell_type": "code",
   "execution_count": 24,
   "metadata": {
    "id": "rP43Ph0JpfDG"
   },
   "outputs": [],
   "source": [
    "pipeline_config.model.ssd.num_classes = len(labels)\n",
    "pipeline_config.train_config.batch_size = 4\n",
    "pipeline_config.train_config.fine_tune_checkpoint = os.path.join(paths['PRETRAINED_MODEL_PATH'], PRETRAINED_MODEL_NAME, 'checkpoint', 'ckpt-0')\n",
    "pipeline_config.train_config.fine_tune_checkpoint_type = \"detection\"\n",
    "pipeline_config.train_input_reader.label_map_path= files['LABELMAP']\n",
    "pipeline_config.train_input_reader.tf_record_input_reader.input_path[:] = [os.path.join(paths['ANNOTATION_PATH'], 'train.record')]\n",
    "pipeline_config.eval_input_reader[0].label_map_path = files['LABELMAP']\n",
    "pipeline_config.eval_input_reader[0].tf_record_input_reader.input_path[:] = [os.path.join(paths['ANNOTATION_PATH'], 'test.record')]"
   ]
  },
  {
   "cell_type": "code",
   "execution_count": 25,
   "metadata": {
    "id": "oJvfgwWqpfDG"
   },
   "outputs": [],
   "source": [
    "config_text = text_format.MessageToString(pipeline_config)                                                                                                                                                                                                        \n",
    "with tf.io.gfile.GFile(files['PIPELINE_CONFIG'], \"wb\") as f:                                                                                                                                                                                                                     \n",
    "    f.write(config_text)   "
   ]
  },
  {
   "cell_type": "markdown",
   "metadata": {
    "id": "Zr3ON7xMpfDG"
   },
   "source": [
    "# 6. Train the model"
   ]
  },
  {
   "cell_type": "code",
   "execution_count": 26,
   "metadata": {
    "id": "B-Y2UQmQpfDG"
   },
   "outputs": [],
   "source": [
    "TRAINING_SCRIPT = os.path.join(paths['APIMODEL_PATH'], 'research', 'object_detection', 'model_main_tf2.py')"
   ]
  },
  {
   "cell_type": "code",
   "execution_count": 27,
   "metadata": {
    "id": "jMP2XDfQpfDH"
   },
   "outputs": [],
   "source": [
    "command = \"python {} --model_dir={} --pipeline_config_path={} --num_train_steps=2000\".format(TRAINING_SCRIPT, paths['CHECKPOINT_PATH'],files['PIPELINE_CONFIG'])"
   ]
  },
  {
   "cell_type": "code",
   "execution_count": 28,
   "metadata": {
    "colab": {
     "base_uri": "https://localhost:8080/"
    },
    "id": "A4OXXi-ApfDH",
    "outputId": "117a0e83-012b-466e-b7a6-ccaa349ac5ab"
   },
   "outputs": [
    {
     "name": "stdout",
     "output_type": "stream",
     "text": [
      "python Tensorflow/models/research/object_detection/model_main_tf2.py --model_dir=Tensorflow/workspace/models/directions --pipeline_config_path=Tensorflow/workspace/models/directions/pipeline.config --num_train_steps=2000\n"
     ]
    }
   ],
   "source": [
    "print(command)"
   ]
  },
  {
   "cell_type": "code",
   "execution_count": 32,
   "metadata": {
    "colab": {
     "base_uri": "https://localhost:8080/"
    },
    "id": "i3ZsJR-qpfDH",
    "outputId": "cabec5e1-45e6-4f2f-d9cf-297d9c1d0225"
   },
   "outputs": [
    {
     "name": "stdout",
     "output_type": "stream",
     "text": [
      "2022-06-11 14:59:00.305458: I tensorflow/core/platform/cpu_feature_guard.cc:193] This TensorFlow binary is optimized with oneAPI Deep Neural Network Library (oneDNN) to use the following CPU instructions in performance-critical operations:  AVX2 FMA\n",
      "To enable them in other operations, rebuild TensorFlow with the appropriate compiler flags.\n",
      "WARNING:tensorflow:There are non-GPU devices in `tf.distribute.Strategy`, not using nccl allreduce.\n",
      "W0611 14:59:00.306149 4471723520 cross_device_ops.py:1386] There are non-GPU devices in `tf.distribute.Strategy`, not using nccl allreduce.\n",
      "INFO:tensorflow:Using MirroredStrategy with devices ('/job:localhost/replica:0/task:0/device:CPU:0',)\n",
      "I0611 14:59:00.320963 4471723520 mirrored_strategy.py:374] Using MirroredStrategy with devices ('/job:localhost/replica:0/task:0/device:CPU:0',)\n",
      "INFO:tensorflow:Maybe overwriting train_steps: 2000\n",
      "I0611 14:59:00.332368 4471723520 config_util.py:552] Maybe overwriting train_steps: 2000\n",
      "INFO:tensorflow:Maybe overwriting use_bfloat16: False\n",
      "I0611 14:59:00.332509 4471723520 config_util.py:552] Maybe overwriting use_bfloat16: False\n",
      "WARNING:tensorflow:From /Users/trevormcgirr/opt/anaconda3/lib/python3.9/site-packages/object_detection/model_lib_v2.py:563: StrategyBase.experimental_distribute_datasets_from_function (from tensorflow.python.distribute.distribute_lib) is deprecated and will be removed in a future version.\n",
      "Instructions for updating:\n",
      "rename to distribute_datasets_from_function\n",
      "W0611 14:59:00.367240 4471723520 deprecation.py:350] From /Users/trevormcgirr/opt/anaconda3/lib/python3.9/site-packages/object_detection/model_lib_v2.py:563: StrategyBase.experimental_distribute_datasets_from_function (from tensorflow.python.distribute.distribute_lib) is deprecated and will be removed in a future version.\n",
      "Instructions for updating:\n",
      "rename to distribute_datasets_from_function\n",
      "INFO:tensorflow:Reading unweighted datasets: ['Tensorflow/workspace/annotations/train.record']\n",
      "I0611 14:59:00.371381 4471723520 dataset_builder.py:162] Reading unweighted datasets: ['Tensorflow/workspace/annotations/train.record']\n",
      "INFO:tensorflow:Reading record datasets for input file: ['Tensorflow/workspace/annotations/train.record']\n",
      "I0611 14:59:00.371528 4471723520 dataset_builder.py:79] Reading record datasets for input file: ['Tensorflow/workspace/annotations/train.record']\n",
      "INFO:tensorflow:Number of filenames to read: 1\n",
      "I0611 14:59:00.371585 4471723520 dataset_builder.py:80] Number of filenames to read: 1\n",
      "WARNING:tensorflow:num_readers has been reduced to 1 to match input file shards.\n",
      "W0611 14:59:00.371632 4471723520 dataset_builder.py:86] num_readers has been reduced to 1 to match input file shards.\n",
      "WARNING:tensorflow:From /Users/trevormcgirr/opt/anaconda3/lib/python3.9/site-packages/object_detection/builders/dataset_builder.py:100: parallel_interleave (from tensorflow.python.data.experimental.ops.interleave_ops) is deprecated and will be removed in a future version.\n",
      "Instructions for updating:\n",
      "Use `tf.data.Dataset.interleave(map_func, cycle_length, block_length, num_parallel_calls=tf.data.AUTOTUNE)` instead. If sloppy execution is desired, use `tf.data.Options.deterministic`.\n",
      "W0611 14:59:00.375225 4471723520 deprecation.py:350] From /Users/trevormcgirr/opt/anaconda3/lib/python3.9/site-packages/object_detection/builders/dataset_builder.py:100: parallel_interleave (from tensorflow.python.data.experimental.ops.interleave_ops) is deprecated and will be removed in a future version.\n",
      "Instructions for updating:\n",
      "Use `tf.data.Dataset.interleave(map_func, cycle_length, block_length, num_parallel_calls=tf.data.AUTOTUNE)` instead. If sloppy execution is desired, use `tf.data.Options.deterministic`.\n",
      "WARNING:tensorflow:From /Users/trevormcgirr/opt/anaconda3/lib/python3.9/site-packages/object_detection/builders/dataset_builder.py:235: DatasetV1.map_with_legacy_function (from tensorflow.python.data.ops.dataset_ops) is deprecated and will be removed in a future version.\n",
      "Instructions for updating:\n",
      "Use `tf.data.Dataset.map()\n",
      "W0611 14:59:00.523697 4471723520 deprecation.py:350] From /Users/trevormcgirr/opt/anaconda3/lib/python3.9/site-packages/object_detection/builders/dataset_builder.py:235: DatasetV1.map_with_legacy_function (from tensorflow.python.data.ops.dataset_ops) is deprecated and will be removed in a future version.\n",
      "Instructions for updating:\n",
      "Use `tf.data.Dataset.map()\n",
      "WARNING:tensorflow:From /Users/trevormcgirr/opt/anaconda3/lib/python3.9/site-packages/tensorflow/python/util/dispatch.py:1082: sparse_to_dense (from tensorflow.python.ops.sparse_ops) is deprecated and will be removed in a future version.\n",
      "Instructions for updating:\n",
      "Create a `tf.sparse.SparseTensor` and use `tf.sparse.to_dense` instead.\n",
      "W0611 14:59:06.331596 4471723520 deprecation.py:350] From /Users/trevormcgirr/opt/anaconda3/lib/python3.9/site-packages/tensorflow/python/util/dispatch.py:1082: sparse_to_dense (from tensorflow.python.ops.sparse_ops) is deprecated and will be removed in a future version.\n",
      "Instructions for updating:\n",
      "Create a `tf.sparse.SparseTensor` and use `tf.sparse.to_dense` instead.\n",
      "WARNING:tensorflow:From /Users/trevormcgirr/opt/anaconda3/lib/python3.9/site-packages/tensorflow/python/util/dispatch.py:1082: sample_distorted_bounding_box (from tensorflow.python.ops.image_ops_impl) is deprecated and will be removed in a future version.\n",
      "Instructions for updating:\n",
      "`seed2` arg is deprecated.Use sample_distorted_bounding_box_v2 instead.\n",
      "W0611 14:59:08.933978 4471723520 deprecation.py:350] From /Users/trevormcgirr/opt/anaconda3/lib/python3.9/site-packages/tensorflow/python/util/dispatch.py:1082: sample_distorted_bounding_box (from tensorflow.python.ops.image_ops_impl) is deprecated and will be removed in a future version.\n",
      "Instructions for updating:\n",
      "`seed2` arg is deprecated.Use sample_distorted_bounding_box_v2 instead.\n",
      "WARNING:tensorflow:From /Users/trevormcgirr/opt/anaconda3/lib/python3.9/site-packages/tensorflow/python/util/dispatch.py:1082: to_float (from tensorflow.python.ops.math_ops) is deprecated and will be removed in a future version.\n",
      "Instructions for updating:\n",
      "Use `tf.cast` instead.\n",
      "W0611 14:59:10.366529 4471723520 deprecation.py:350] From /Users/trevormcgirr/opt/anaconda3/lib/python3.9/site-packages/tensorflow/python/util/dispatch.py:1082: to_float (from tensorflow.python.ops.math_ops) is deprecated and will be removed in a future version.\n",
      "Instructions for updating:\n",
      "Use `tf.cast` instead.\n",
      "2022-06-11 14:59:12.612686: W tensorflow/core/framework/dataset.cc:768] Input of GeneratorDatasetOp::Dataset will not be optimized because the dataset does not implement the AsGraphDefInternal() method needed to apply optimizations.\n",
      "/Users/trevormcgirr/opt/anaconda3/lib/python3.9/site-packages/keras/backend.py:450: UserWarning: `tf.keras.backend.set_learning_phase` is deprecated and will be removed after 2020-10-11. To update it, simply pass a True/False value to the `training` argument of the `__call__` method of your layer or model.\n",
      "  warnings.warn('`tf.keras.backend.set_learning_phase` is deprecated and '\n",
      "WARNING:tensorflow:From /Users/trevormcgirr/opt/anaconda3/lib/python3.9/site-packages/tensorflow/python/util/deprecation.py:629: calling map_fn_v2 (from tensorflow.python.ops.map_fn) with dtype is deprecated and will be removed in a future version.\n",
      "Instructions for updating:\n",
      "Use fn_output_signature instead\n",
      "W0611 14:59:32.439640 123145536458752 deprecation.py:554] From /Users/trevormcgirr/opt/anaconda3/lib/python3.9/site-packages/tensorflow/python/util/deprecation.py:629: calling map_fn_v2 (from tensorflow.python.ops.map_fn) with dtype is deprecated and will be removed in a future version.\n",
      "Instructions for updating:\n",
      "Use fn_output_signature instead\n",
      "INFO:tensorflow:Step 100 per-step time 1.172s\n",
      "I0611 15:01:29.352958 4471723520 model_lib_v2.py:705] Step 100 per-step time 1.172s\n",
      "INFO:tensorflow:{'Loss/classification_loss': 0.26884487,\n",
      " 'Loss/localization_loss': 0.15863502,\n",
      " 'Loss/regularization_loss': 0.15451697,\n",
      " 'Loss/total_loss': 0.58199686,\n",
      " 'learning_rate': 0.0319994}\n",
      "I0611 15:01:29.354800 4471723520 model_lib_v2.py:708] {'Loss/classification_loss': 0.26884487,\n",
      " 'Loss/localization_loss': 0.15863502,\n",
      " 'Loss/regularization_loss': 0.15451697,\n",
      " 'Loss/total_loss': 0.58199686,\n",
      " 'learning_rate': 0.0319994}\n"
     ]
    },
    {
     "name": "stdout",
     "output_type": "stream",
     "text": [
      "INFO:tensorflow:Step 200 per-step time 0.959s\n",
      "I0611 15:03:05.274636 4471723520 model_lib_v2.py:705] Step 200 per-step time 0.959s\n",
      "INFO:tensorflow:{'Loss/classification_loss': 0.48963886,\n",
      " 'Loss/localization_loss': 0.3133536,\n",
      " 'Loss/regularization_loss': 0.15437447,\n",
      " 'Loss/total_loss': 0.95736694,\n",
      " 'learning_rate': 0.0373328}\n",
      "I0611 15:03:05.275452 4471723520 model_lib_v2.py:708] {'Loss/classification_loss': 0.48963886,\n",
      " 'Loss/localization_loss': 0.3133536,\n",
      " 'Loss/regularization_loss': 0.15437447,\n",
      " 'Loss/total_loss': 0.95736694,\n",
      " 'learning_rate': 0.0373328}\n",
      "INFO:tensorflow:Step 300 per-step time 0.932s\n",
      "I0611 15:04:38.444856 4471723520 model_lib_v2.py:705] Step 300 per-step time 0.932s\n",
      "INFO:tensorflow:{'Loss/classification_loss': 0.097562976,\n",
      " 'Loss/localization_loss': 0.14079376,\n",
      " 'Loss/regularization_loss': 0.1540711,\n",
      " 'Loss/total_loss': 0.3924278,\n",
      " 'learning_rate': 0.0426662}\n",
      "I0611 15:04:38.445693 4471723520 model_lib_v2.py:708] {'Loss/classification_loss': 0.097562976,\n",
      " 'Loss/localization_loss': 0.14079376,\n",
      " 'Loss/regularization_loss': 0.1540711,\n",
      " 'Loss/total_loss': 0.3924278,\n",
      " 'learning_rate': 0.0426662}\n",
      "INFO:tensorflow:Step 400 per-step time 0.926s\n",
      "I0611 15:06:11.088916 4471723520 model_lib_v2.py:705] Step 400 per-step time 0.926s\n",
      "INFO:tensorflow:{'Loss/classification_loss': 0.14514917,\n",
      " 'Loss/localization_loss': 0.063440435,\n",
      " 'Loss/regularization_loss': 0.15373471,\n",
      " 'Loss/total_loss': 0.36232433,\n",
      " 'learning_rate': 0.047999598}\n",
      "I0611 15:06:11.089148 4471723520 model_lib_v2.py:708] {'Loss/classification_loss': 0.14514917,\n",
      " 'Loss/localization_loss': 0.063440435,\n",
      " 'Loss/regularization_loss': 0.15373471,\n",
      " 'Loss/total_loss': 0.36232433,\n",
      " 'learning_rate': 0.047999598}\n",
      "INFO:tensorflow:Step 500 per-step time 0.932s\n",
      "I0611 15:07:44.310935 4471723520 model_lib_v2.py:705] Step 500 per-step time 0.932s\n",
      "INFO:tensorflow:{'Loss/classification_loss': 0.08107053,\n",
      " 'Loss/localization_loss': 0.07051796,\n",
      " 'Loss/regularization_loss': 0.15334933,\n",
      " 'Loss/total_loss': 0.3049378,\n",
      " 'learning_rate': 0.053333}\n",
      "I0611 15:07:44.311706 4471723520 model_lib_v2.py:708] {'Loss/classification_loss': 0.08107053,\n",
      " 'Loss/localization_loss': 0.07051796,\n",
      " 'Loss/regularization_loss': 0.15334933,\n",
      " 'Loss/total_loss': 0.3049378,\n",
      " 'learning_rate': 0.053333}\n",
      "INFO:tensorflow:Step 600 per-step time 0.928s\n",
      "I0611 15:09:17.067901 4471723520 model_lib_v2.py:705] Step 600 per-step time 0.928s\n",
      "INFO:tensorflow:{'Loss/classification_loss': 0.0631889,\n",
      " 'Loss/localization_loss': 0.08192078,\n",
      " 'Loss/regularization_loss': 0.15286756,\n",
      " 'Loss/total_loss': 0.29797724,\n",
      " 'learning_rate': 0.0586664}\n",
      "I0611 15:09:17.068730 4471723520 model_lib_v2.py:708] {'Loss/classification_loss': 0.0631889,\n",
      " 'Loss/localization_loss': 0.08192078,\n",
      " 'Loss/regularization_loss': 0.15286756,\n",
      " 'Loss/total_loss': 0.29797724,\n",
      " 'learning_rate': 0.0586664}\n",
      "INFO:tensorflow:Step 700 per-step time 0.927s\n",
      "I0611 15:10:49.815707 4471723520 model_lib_v2.py:705] Step 700 per-step time 0.927s\n",
      "INFO:tensorflow:{'Loss/classification_loss': 0.074831,\n",
      " 'Loss/localization_loss': 0.039503574,\n",
      " 'Loss/regularization_loss': 0.15235345,\n",
      " 'Loss/total_loss': 0.26668802,\n",
      " 'learning_rate': 0.0639998}\n",
      "I0611 15:10:49.815941 4471723520 model_lib_v2.py:708] {'Loss/classification_loss': 0.074831,\n",
      " 'Loss/localization_loss': 0.039503574,\n",
      " 'Loss/regularization_loss': 0.15235345,\n",
      " 'Loss/total_loss': 0.26668802,\n",
      " 'learning_rate': 0.0639998}\n",
      "INFO:tensorflow:Step 800 per-step time 0.933s\n",
      "I0611 15:12:23.090116 4471723520 model_lib_v2.py:705] Step 800 per-step time 0.933s\n",
      "INFO:tensorflow:{'Loss/classification_loss': 0.06803719,\n",
      " 'Loss/localization_loss': 0.028608937,\n",
      " 'Loss/regularization_loss': 0.15178652,\n",
      " 'Loss/total_loss': 0.24843265,\n",
      " 'learning_rate': 0.069333196}\n",
      "I0611 15:12:23.090337 4471723520 model_lib_v2.py:708] {'Loss/classification_loss': 0.06803719,\n",
      " 'Loss/localization_loss': 0.028608937,\n",
      " 'Loss/regularization_loss': 0.15178652,\n",
      " 'Loss/total_loss': 0.24843265,\n",
      " 'learning_rate': 0.069333196}\n",
      "INFO:tensorflow:Step 900 per-step time 0.975s\n",
      "I0611 15:14:00.545165 4471723520 model_lib_v2.py:705] Step 900 per-step time 0.975s\n",
      "INFO:tensorflow:{'Loss/classification_loss': 0.190721,\n",
      " 'Loss/localization_loss': 0.071389824,\n",
      " 'Loss/regularization_loss': 0.15116394,\n",
      " 'Loss/total_loss': 0.41327477,\n",
      " 'learning_rate': 0.074666604}\n",
      "I0611 15:14:00.545388 4471723520 model_lib_v2.py:708] {'Loss/classification_loss': 0.190721,\n",
      " 'Loss/localization_loss': 0.071389824,\n",
      " 'Loss/regularization_loss': 0.15116394,\n",
      " 'Loss/total_loss': 0.41327477,\n",
      " 'learning_rate': 0.074666604}\n",
      "INFO:tensorflow:Step 1000 per-step time 0.934s\n",
      "I0611 15:15:33.994615 4471723520 model_lib_v2.py:705] Step 1000 per-step time 0.934s\n",
      "INFO:tensorflow:{'Loss/classification_loss': 0.16871409,\n",
      " 'Loss/localization_loss': 0.03439265,\n",
      " 'Loss/regularization_loss': 0.15053304,\n",
      " 'Loss/total_loss': 0.35363978,\n",
      " 'learning_rate': 0.08}\n",
      "I0611 15:15:33.996047 4471723520 model_lib_v2.py:708] {'Loss/classification_loss': 0.16871409,\n",
      " 'Loss/localization_loss': 0.03439265,\n",
      " 'Loss/regularization_loss': 0.15053304,\n",
      " 'Loss/total_loss': 0.35363978,\n",
      " 'learning_rate': 0.08}\n",
      "INFO:tensorflow:Step 1100 per-step time 0.940s\n",
      "I0611 15:17:07.946856 4471723520 model_lib_v2.py:705] Step 1100 per-step time 0.940s\n",
      "INFO:tensorflow:{'Loss/classification_loss': 0.054207645,\n",
      " 'Loss/localization_loss': 0.03200701,\n",
      " 'Loss/regularization_loss': 0.14985482,\n",
      " 'Loss/total_loss': 0.23606947,\n",
      " 'learning_rate': 0.07999918}\n",
      "I0611 15:17:07.947597 4471723520 model_lib_v2.py:708] {'Loss/classification_loss': 0.054207645,\n",
      " 'Loss/localization_loss': 0.03200701,\n",
      " 'Loss/regularization_loss': 0.14985482,\n",
      " 'Loss/total_loss': 0.23606947,\n",
      " 'learning_rate': 0.07999918}\n",
      "INFO:tensorflow:Step 1200 per-step time 0.931s\n",
      "I0611 15:18:41.076622 4471723520 model_lib_v2.py:705] Step 1200 per-step time 0.931s\n",
      "INFO:tensorflow:{'Loss/classification_loss': 0.052985206,\n",
      " 'Loss/localization_loss': 0.033191197,\n",
      " 'Loss/regularization_loss': 0.14912628,\n",
      " 'Loss/total_loss': 0.23530267,\n",
      " 'learning_rate': 0.079996705}\n",
      "I0611 15:18:41.077720 4471723520 model_lib_v2.py:708] {'Loss/classification_loss': 0.052985206,\n",
      " 'Loss/localization_loss': 0.033191197,\n",
      " 'Loss/regularization_loss': 0.14912628,\n",
      " 'Loss/total_loss': 0.23530267,\n",
      " 'learning_rate': 0.079996705}\n",
      "INFO:tensorflow:Step 1300 per-step time 0.941s\n",
      "I0611 15:20:15.407764 4471723520 model_lib_v2.py:705] Step 1300 per-step time 0.941s\n",
      "INFO:tensorflow:{'Loss/classification_loss': 0.13515018,\n",
      " 'Loss/localization_loss': 0.05548335,\n",
      " 'Loss/regularization_loss': 0.14843522,\n",
      " 'Loss/total_loss': 0.33906877,\n",
      " 'learning_rate': 0.0799926}\n",
      "I0611 15:20:15.408437 4471723520 model_lib_v2.py:708] {'Loss/classification_loss': 0.13515018,\n",
      " 'Loss/localization_loss': 0.05548335,\n",
      " 'Loss/regularization_loss': 0.14843522,\n",
      " 'Loss/total_loss': 0.33906877,\n",
      " 'learning_rate': 0.0799926}\n",
      "INFO:tensorflow:Step 1400 per-step time 0.943s\n",
      "I0611 15:21:49.523036 4471723520 model_lib_v2.py:705] Step 1400 per-step time 0.943s\n",
      "INFO:tensorflow:{'Loss/classification_loss': 0.10997981,\n",
      " 'Loss/localization_loss': 0.043078084,\n",
      " 'Loss/regularization_loss': 0.14777613,\n",
      " 'Loss/total_loss': 0.30083403,\n",
      " 'learning_rate': 0.07998685}\n",
      "I0611 15:21:49.523269 4471723520 model_lib_v2.py:708] {'Loss/classification_loss': 0.10997981,\n",
      " 'Loss/localization_loss': 0.043078084,\n",
      " 'Loss/regularization_loss': 0.14777613,\n",
      " 'Loss/total_loss': 0.30083403,\n",
      " 'learning_rate': 0.07998685}\n",
      "INFO:tensorflow:Step 1500 per-step time 0.963s\n",
      "I0611 15:23:25.816187 4471723520 model_lib_v2.py:705] Step 1500 per-step time 0.963s\n",
      "INFO:tensorflow:{'Loss/classification_loss': 0.04211314,\n",
      " 'Loss/localization_loss': 0.02425312,\n",
      " 'Loss/regularization_loss': 0.14702366,\n",
      " 'Loss/total_loss': 0.21338992,\n",
      " 'learning_rate': 0.07997945}\n",
      "I0611 15:23:25.817096 4471723520 model_lib_v2.py:708] {'Loss/classification_loss': 0.04211314,\n",
      " 'Loss/localization_loss': 0.02425312,\n",
      " 'Loss/regularization_loss': 0.14702366,\n",
      " 'Loss/total_loss': 0.21338992,\n",
      " 'learning_rate': 0.07997945}\n",
      "INFO:tensorflow:Step 1600 per-step time 1.039s\n",
      "I0611 15:25:09.686362 4471723520 model_lib_v2.py:705] Step 1600 per-step time 1.039s\n",
      "INFO:tensorflow:{'Loss/classification_loss': 0.050817337,\n",
      " 'Loss/localization_loss': 0.020091562,\n",
      " 'Loss/regularization_loss': 0.14644569,\n",
      " 'Loss/total_loss': 0.2173546,\n",
      " 'learning_rate': 0.079970405}\n",
      "I0611 15:25:09.687162 4471723520 model_lib_v2.py:708] {'Loss/classification_loss': 0.050817337,\n",
      " 'Loss/localization_loss': 0.020091562,\n",
      " 'Loss/regularization_loss': 0.14644569,\n",
      " 'Loss/total_loss': 0.2173546,\n",
      " 'learning_rate': 0.079970405}\n"
     ]
    },
    {
     "name": "stdout",
     "output_type": "stream",
     "text": [
      "INFO:tensorflow:Step 1700 per-step time 0.957s\n",
      "I0611 15:26:45.400279 4471723520 model_lib_v2.py:705] Step 1700 per-step time 0.957s\n",
      "INFO:tensorflow:{'Loss/classification_loss': 0.0814416,\n",
      " 'Loss/localization_loss': 0.02232056,\n",
      " 'Loss/regularization_loss': 0.14568731,\n",
      " 'Loss/total_loss': 0.24944946,\n",
      " 'learning_rate': 0.07995972}\n",
      "I0611 15:26:45.401297 4471723520 model_lib_v2.py:708] {'Loss/classification_loss': 0.0814416,\n",
      " 'Loss/localization_loss': 0.02232056,\n",
      " 'Loss/regularization_loss': 0.14568731,\n",
      " 'Loss/total_loss': 0.24944946,\n",
      " 'learning_rate': 0.07995972}\n",
      "INFO:tensorflow:Step 1800 per-step time 0.933s\n",
      "I0611 15:28:18.654387 4471723520 model_lib_v2.py:705] Step 1800 per-step time 0.933s\n",
      "INFO:tensorflow:{'Loss/classification_loss': 0.052327655,\n",
      " 'Loss/localization_loss': 0.024662858,\n",
      " 'Loss/regularization_loss': 0.14499559,\n",
      " 'Loss/total_loss': 0.22198609,\n",
      " 'learning_rate': 0.0799474}\n",
      "I0611 15:28:18.655277 4471723520 model_lib_v2.py:708] {'Loss/classification_loss': 0.052327655,\n",
      " 'Loss/localization_loss': 0.024662858,\n",
      " 'Loss/regularization_loss': 0.14499559,\n",
      " 'Loss/total_loss': 0.22198609,\n",
      " 'learning_rate': 0.0799474}\n",
      "INFO:tensorflow:Step 1900 per-step time 0.940s\n",
      "I0611 15:29:52.661300 4471723520 model_lib_v2.py:705] Step 1900 per-step time 0.940s\n",
      "INFO:tensorflow:{'Loss/classification_loss': 0.04972822,\n",
      " 'Loss/localization_loss': 0.024058238,\n",
      " 'Loss/regularization_loss': 0.14422745,\n",
      " 'Loss/total_loss': 0.2180139,\n",
      " 'learning_rate': 0.07993342}\n",
      "I0611 15:29:52.662045 4471723520 model_lib_v2.py:708] {'Loss/classification_loss': 0.04972822,\n",
      " 'Loss/localization_loss': 0.024058238,\n",
      " 'Loss/regularization_loss': 0.14422745,\n",
      " 'Loss/total_loss': 0.2180139,\n",
      " 'learning_rate': 0.07993342}\n",
      "INFO:tensorflow:Step 2000 per-step time 0.931s\n",
      "I0611 15:31:25.715354 4471723520 model_lib_v2.py:705] Step 2000 per-step time 0.931s\n",
      "INFO:tensorflow:{'Loss/classification_loss': 0.04027719,\n",
      " 'Loss/localization_loss': 0.017184645,\n",
      " 'Loss/regularization_loss': 0.14344242,\n",
      " 'Loss/total_loss': 0.20090425,\n",
      " 'learning_rate': 0.07991781}\n",
      "I0611 15:31:25.716171 4471723520 model_lib_v2.py:708] {'Loss/classification_loss': 0.04027719,\n",
      " 'Loss/localization_loss': 0.017184645,\n",
      " 'Loss/regularization_loss': 0.14344242,\n",
      " 'Loss/total_loss': 0.20090425,\n",
      " 'learning_rate': 0.07991781}\n"
     ]
    }
   ],
   "source": [
    "#Uncomment if training on JN\n",
    "!{command}"
   ]
  },
  {
   "cell_type": "markdown",
   "metadata": {
    "id": "4_YRZu7npfDH"
   },
   "source": [
    "# 7. Evaluate the Model"
   ]
  },
  {
   "cell_type": "code",
   "execution_count": 29,
   "metadata": {
    "id": "80L7-fdPpfDH"
   },
   "outputs": [],
   "source": [
    "command = \"python {} --model_dir={} --pipeline_config_path={} --checkpoint_dir={}\".format(TRAINING_SCRIPT, paths['CHECKPOINT_PATH'],files['PIPELINE_CONFIG'], paths['CHECKPOINT_PATH'])"
   ]
  },
  {
   "cell_type": "code",
   "execution_count": 30,
   "metadata": {
    "colab": {
     "base_uri": "https://localhost:8080/"
    },
    "id": "lYsgEPx9pfDH",
    "outputId": "8632d48b-91d2-45d9-bcb8-c1b172bf6eed"
   },
   "outputs": [
    {
     "name": "stdout",
     "output_type": "stream",
     "text": [
      "python Tensorflow/models/research/object_detection/model_main_tf2.py --model_dir=Tensorflow/workspace/models/directions --pipeline_config_path=Tensorflow/workspace/models/directions/pipeline.config --checkpoint_dir=Tensorflow/workspace/models/directions\n"
     ]
    }
   ],
   "source": [
    "print(command)"
   ]
  },
  {
   "cell_type": "code",
   "execution_count": null,
   "metadata": {
    "id": "lqTV2jGBpfDH"
   },
   "outputs": [
    {
     "name": "stdout",
     "output_type": "stream",
     "text": [
      "WARNING:tensorflow:Forced number of epochs for all eval validations to be 1.\n",
      "W0612 10:41:57.247297 4644156928 model_lib_v2.py:1089] Forced number of epochs for all eval validations to be 1.\n",
      "INFO:tensorflow:Maybe overwriting sample_1_of_n_eval_examples: None\n",
      "I0612 10:41:57.247485 4644156928 config_util.py:552] Maybe overwriting sample_1_of_n_eval_examples: None\n",
      "INFO:tensorflow:Maybe overwriting use_bfloat16: False\n",
      "I0612 10:41:57.247565 4644156928 config_util.py:552] Maybe overwriting use_bfloat16: False\n",
      "INFO:tensorflow:Maybe overwriting eval_num_epochs: 1\n",
      "I0612 10:41:57.247637 4644156928 config_util.py:552] Maybe overwriting eval_num_epochs: 1\n",
      "WARNING:tensorflow:Expected number of evaluation epochs is 1, but instead encountered `eval_on_train_input_config.num_epochs` = 0. Overwriting `num_epochs` to 1.\n",
      "W0612 10:41:57.247738 4644156928 model_lib_v2.py:1106] Expected number of evaluation epochs is 1, but instead encountered `eval_on_train_input_config.num_epochs` = 0. Overwriting `num_epochs` to 1.\n",
      "2022-06-12 10:41:57.251230: I tensorflow/core/platform/cpu_feature_guard.cc:193] This TensorFlow binary is optimized with oneAPI Deep Neural Network Library (oneDNN) to use the following CPU instructions in performance-critical operations:  AVX2 FMA\n",
      "To enable them in other operations, rebuild TensorFlow with the appropriate compiler flags.\n",
      "INFO:tensorflow:Reading unweighted datasets: ['Tensorflow/workspace/annotations/test.record']\n",
      "I0612 10:41:57.279844 4644156928 dataset_builder.py:162] Reading unweighted datasets: ['Tensorflow/workspace/annotations/test.record']\n",
      "INFO:tensorflow:Reading record datasets for input file: ['Tensorflow/workspace/annotations/test.record']\n",
      "I0612 10:41:57.280035 4644156928 dataset_builder.py:79] Reading record datasets for input file: ['Tensorflow/workspace/annotations/test.record']\n",
      "INFO:tensorflow:Number of filenames to read: 1\n",
      "I0612 10:41:57.280110 4644156928 dataset_builder.py:80] Number of filenames to read: 1\n",
      "WARNING:tensorflow:num_readers has been reduced to 1 to match input file shards.\n",
      "W0612 10:41:57.280167 4644156928 dataset_builder.py:86] num_readers has been reduced to 1 to match input file shards.\n",
      "WARNING:tensorflow:From /Users/trevormcgirr/opt/anaconda3/lib/python3.9/site-packages/object_detection/builders/dataset_builder.py:100: parallel_interleave (from tensorflow.python.data.experimental.ops.interleave_ops) is deprecated and will be removed in a future version.\n",
      "Instructions for updating:\n",
      "Use `tf.data.Dataset.interleave(map_func, cycle_length, block_length, num_parallel_calls=tf.data.AUTOTUNE)` instead. If sloppy execution is desired, use `tf.data.Options.deterministic`.\n",
      "W0612 10:41:57.281625 4644156928 deprecation.py:350] From /Users/trevormcgirr/opt/anaconda3/lib/python3.9/site-packages/object_detection/builders/dataset_builder.py:100: parallel_interleave (from tensorflow.python.data.experimental.ops.interleave_ops) is deprecated and will be removed in a future version.\n",
      "Instructions for updating:\n",
      "Use `tf.data.Dataset.interleave(map_func, cycle_length, block_length, num_parallel_calls=tf.data.AUTOTUNE)` instead. If sloppy execution is desired, use `tf.data.Options.deterministic`.\n",
      "WARNING:tensorflow:From /Users/trevormcgirr/opt/anaconda3/lib/python3.9/site-packages/object_detection/builders/dataset_builder.py:235: DatasetV1.map_with_legacy_function (from tensorflow.python.data.ops.dataset_ops) is deprecated and will be removed in a future version.\n",
      "Instructions for updating:\n",
      "Use `tf.data.Dataset.map()\n",
      "W0612 10:41:57.307120 4644156928 deprecation.py:350] From /Users/trevormcgirr/opt/anaconda3/lib/python3.9/site-packages/object_detection/builders/dataset_builder.py:235: DatasetV1.map_with_legacy_function (from tensorflow.python.data.ops.dataset_ops) is deprecated and will be removed in a future version.\n",
      "Instructions for updating:\n",
      "Use `tf.data.Dataset.map()\n",
      "WARNING:tensorflow:From /Users/trevormcgirr/opt/anaconda3/lib/python3.9/site-packages/tensorflow/python/util/dispatch.py:1082: sparse_to_dense (from tensorflow.python.ops.sparse_ops) is deprecated and will be removed in a future version.\n",
      "Instructions for updating:\n",
      "Create a `tf.sparse.SparseTensor` and use `tf.sparse.to_dense` instead.\n",
      "W0612 10:42:01.066768 4644156928 deprecation.py:350] From /Users/trevormcgirr/opt/anaconda3/lib/python3.9/site-packages/tensorflow/python/util/dispatch.py:1082: sparse_to_dense (from tensorflow.python.ops.sparse_ops) is deprecated and will be removed in a future version.\n",
      "Instructions for updating:\n",
      "Create a `tf.sparse.SparseTensor` and use `tf.sparse.to_dense` instead.\n",
      "WARNING:tensorflow:From /Users/trevormcgirr/opt/anaconda3/lib/python3.9/site-packages/tensorflow/python/util/dispatch.py:1082: to_float (from tensorflow.python.ops.math_ops) is deprecated and will be removed in a future version.\n",
      "Instructions for updating:\n",
      "Use `tf.cast` instead.\n",
      "W0612 10:42:01.934792 4644156928 deprecation.py:350] From /Users/trevormcgirr/opt/anaconda3/lib/python3.9/site-packages/tensorflow/python/util/dispatch.py:1082: to_float (from tensorflow.python.ops.math_ops) is deprecated and will be removed in a future version.\n",
      "Instructions for updating:\n",
      "Use `tf.cast` instead.\n",
      "INFO:tensorflow:Waiting for new checkpoint at Tensorflow/workspace/models/directions\n",
      "I0612 10:42:04.240046 4644156928 checkpoint_utils.py:136] Waiting for new checkpoint at Tensorflow/workspace/models/directions\n",
      "INFO:tensorflow:Found new checkpoint at Tensorflow/workspace/models/directions/ckpt-3\n",
      "I0612 10:42:04.243000 4644156928 checkpoint_utils.py:145] Found new checkpoint at Tensorflow/workspace/models/directions/ckpt-3\n",
      "/Users/trevormcgirr/opt/anaconda3/lib/python3.9/site-packages/keras/backend.py:450: UserWarning: `tf.keras.backend.set_learning_phase` is deprecated and will be removed after 2020-10-11. To update it, simply pass a True/False value to the `training` argument of the `__call__` method of your layer or model.\n",
      "  warnings.warn('`tf.keras.backend.set_learning_phase` is deprecated and '\n",
      "WARNING:tensorflow:From /Users/trevormcgirr/opt/anaconda3/lib/python3.9/site-packages/tensorflow/python/util/dispatch.py:1082: to_int64 (from tensorflow.python.ops.math_ops) is deprecated and will be removed in a future version.\n",
      "Instructions for updating:\n",
      "Use `tf.cast` instead.\n",
      "W0612 10:42:23.189547 4644156928 deprecation.py:350] From /Users/trevormcgirr/opt/anaconda3/lib/python3.9/site-packages/tensorflow/python/util/dispatch.py:1082: to_int64 (from tensorflow.python.ops.math_ops) is deprecated and will be removed in a future version.\n",
      "Instructions for updating:\n",
      "Use `tf.cast` instead.\n",
      "INFO:tensorflow:Finished eval step 0\n",
      "I0612 10:42:23.194355 4644156928 model_lib_v2.py:966] Finished eval step 0\n",
      "WARNING:tensorflow:From /Users/trevormcgirr/opt/anaconda3/lib/python3.9/site-packages/tensorflow/python/autograph/impl/api.py:459: py_func (from tensorflow.python.ops.script_ops) is deprecated and will be removed in a future version.\n",
      "Instructions for updating:\n",
      "tf.py_func is deprecated in TF V2. Instead, there are two\n",
      "    options available in V2.\n",
      "    - tf.py_function takes a python function which manipulates tf eager\n",
      "    tensors instead of numpy arrays. It's easy to convert a tf eager tensor to\n",
      "    an ndarray (just call tensor.numpy()) but having access to eager tensors\n",
      "    means `tf.py_function`s can use accelerators such as GPUs as well as\n",
      "    being differentiable using a gradient tape.\n",
      "    - tf.numpy_function maintains the semantics of the deprecated tf.py_func\n",
      "    (it is not differentiable, and manipulates numpy arrays). It drops the\n",
      "    stateful argument making all functions stateful.\n",
      "    \n",
      "W0612 10:42:23.302172 4644156928 deprecation.py:350] From /Users/trevormcgirr/opt/anaconda3/lib/python3.9/site-packages/tensorflow/python/autograph/impl/api.py:459: py_func (from tensorflow.python.ops.script_ops) is deprecated and will be removed in a future version.\n",
      "Instructions for updating:\n",
      "tf.py_func is deprecated in TF V2. Instead, there are two\n",
      "    options available in V2.\n",
      "    - tf.py_function takes a python function which manipulates tf eager\n",
      "    tensors instead of numpy arrays. It's easy to convert a tf eager tensor to\n",
      "    an ndarray (just call tensor.numpy()) but having access to eager tensors\n",
      "    means `tf.py_function`s can use accelerators such as GPUs as well as\n",
      "    being differentiable using a gradient tape.\n",
      "    - tf.numpy_function maintains the semantics of the deprecated tf.py_func\n",
      "    (it is not differentiable, and manipulates numpy arrays). It drops the\n",
      "    stateful argument making all functions stateful.\n",
      "    \n"
     ]
    },
    {
     "name": "stdout",
     "output_type": "stream",
     "text": [
      "INFO:tensorflow:Performing evaluation on 4 images.\n",
      "I0612 10:42:24.031866 4644156928 coco_evaluation.py:293] Performing evaluation on 4 images.\n",
      "creating index...\n",
      "index created!\n",
      "INFO:tensorflow:Loading and preparing annotation results...\n",
      "I0612 10:42:24.032045 4644156928 coco_tools.py:116] Loading and preparing annotation results...\n",
      "INFO:tensorflow:DONE (t=0.00s)\n",
      "I0612 10:42:24.032305 4644156928 coco_tools.py:138] DONE (t=0.00s)\n",
      "creating index...\n",
      "index created!\n",
      "Running per image evaluation...\n",
      "Evaluate annotation type *bbox*\n",
      "DONE (t=0.01s).\n",
      "Accumulating evaluation results...\n",
      "DONE (t=0.02s).\n",
      " Average Precision  (AP) @[ IoU=0.50:0.95 | area=   all | maxDets=100 ] = 0.850\n",
      " Average Precision  (AP) @[ IoU=0.50      | area=   all | maxDets=100 ] = 1.000\n",
      " Average Precision  (AP) @[ IoU=0.75      | area=   all | maxDets=100 ] = 1.000\n",
      " Average Precision  (AP) @[ IoU=0.50:0.95 | area= small | maxDets=100 ] = -1.000\n",
      " Average Precision  (AP) @[ IoU=0.50:0.95 | area=medium | maxDets=100 ] = -1.000\n",
      " Average Precision  (AP) @[ IoU=0.50:0.95 | area= large | maxDets=100 ] = 0.850\n",
      " Average Recall     (AR) @[ IoU=0.50:0.95 | area=   all | maxDets=  1 ] = 0.850\n",
      " Average Recall     (AR) @[ IoU=0.50:0.95 | area=   all | maxDets= 10 ] = 0.850\n",
      " Average Recall     (AR) @[ IoU=0.50:0.95 | area=   all | maxDets=100 ] = 0.850\n",
      " Average Recall     (AR) @[ IoU=0.50:0.95 | area= small | maxDets=100 ] = -1.000\n",
      " Average Recall     (AR) @[ IoU=0.50:0.95 | area=medium | maxDets=100 ] = -1.000\n",
      " Average Recall     (AR) @[ IoU=0.50:0.95 | area= large | maxDets=100 ] = 0.850\n",
      "INFO:tensorflow:Eval metrics at step 2000\n",
      "I0612 10:42:24.058853 4644156928 model_lib_v2.py:1015] Eval metrics at step 2000\n",
      "INFO:tensorflow:\t+ DetectionBoxes_Precision/mAP: 0.850000\n",
      "I0612 10:42:24.059607 4644156928 model_lib_v2.py:1018] \t+ DetectionBoxes_Precision/mAP: 0.850000\n",
      "INFO:tensorflow:\t+ DetectionBoxes_Precision/mAP@.50IOU: 1.000000\n",
      "I0612 10:42:24.060110 4644156928 model_lib_v2.py:1018] \t+ DetectionBoxes_Precision/mAP@.50IOU: 1.000000\n",
      "INFO:tensorflow:\t+ DetectionBoxes_Precision/mAP@.75IOU: 1.000000\n",
      "I0612 10:42:24.060641 4644156928 model_lib_v2.py:1018] \t+ DetectionBoxes_Precision/mAP@.75IOU: 1.000000\n",
      "INFO:tensorflow:\t+ DetectionBoxes_Precision/mAP (small): -1.000000\n",
      "I0612 10:42:24.061084 4644156928 model_lib_v2.py:1018] \t+ DetectionBoxes_Precision/mAP (small): -1.000000\n",
      "INFO:tensorflow:\t+ DetectionBoxes_Precision/mAP (medium): -1.000000\n",
      "I0612 10:42:24.061471 4644156928 model_lib_v2.py:1018] \t+ DetectionBoxes_Precision/mAP (medium): -1.000000\n",
      "INFO:tensorflow:\t+ DetectionBoxes_Precision/mAP (large): 0.850000\n",
      "I0612 10:42:24.061894 4644156928 model_lib_v2.py:1018] \t+ DetectionBoxes_Precision/mAP (large): 0.850000\n",
      "INFO:tensorflow:\t+ DetectionBoxes_Recall/AR@1: 0.850000\n",
      "I0612 10:42:24.100515 4644156928 model_lib_v2.py:1018] \t+ DetectionBoxes_Recall/AR@1: 0.850000\n",
      "INFO:tensorflow:\t+ DetectionBoxes_Recall/AR@10: 0.850000\n",
      "I0612 10:42:24.101144 4644156928 model_lib_v2.py:1018] \t+ DetectionBoxes_Recall/AR@10: 0.850000\n",
      "INFO:tensorflow:\t+ DetectionBoxes_Recall/AR@100: 0.850000\n",
      "I0612 10:42:24.101543 4644156928 model_lib_v2.py:1018] \t+ DetectionBoxes_Recall/AR@100: 0.850000\n",
      "INFO:tensorflow:\t+ DetectionBoxes_Recall/AR@100 (small): -1.000000\n",
      "I0612 10:42:24.101922 4644156928 model_lib_v2.py:1018] \t+ DetectionBoxes_Recall/AR@100 (small): -1.000000\n",
      "INFO:tensorflow:\t+ DetectionBoxes_Recall/AR@100 (medium): -1.000000\n",
      "I0612 10:42:24.102298 4644156928 model_lib_v2.py:1018] \t+ DetectionBoxes_Recall/AR@100 (medium): -1.000000\n",
      "INFO:tensorflow:\t+ DetectionBoxes_Recall/AR@100 (large): 0.850000\n",
      "I0612 10:42:24.102674 4644156928 model_lib_v2.py:1018] \t+ DetectionBoxes_Recall/AR@100 (large): 0.850000\n",
      "INFO:tensorflow:\t+ Loss/localization_loss: 0.081607\n",
      "I0612 10:42:24.103012 4644156928 model_lib_v2.py:1018] \t+ Loss/localization_loss: 0.081607\n",
      "INFO:tensorflow:\t+ Loss/classification_loss: 0.207911\n",
      "I0612 10:42:24.103359 4644156928 model_lib_v2.py:1018] \t+ Loss/classification_loss: 0.207911\n",
      "INFO:tensorflow:\t+ Loss/regularization_loss: 0.143434\n",
      "I0612 10:42:24.103703 4644156928 model_lib_v2.py:1018] \t+ Loss/regularization_loss: 0.143434\n",
      "INFO:tensorflow:\t+ Loss/total_loss: 0.432952\n",
      "I0612 10:42:24.104140 4644156928 model_lib_v2.py:1018] \t+ Loss/total_loss: 0.432952\n"
     ]
    }
   ],
   "source": [
    "# Uncomment if running on JN to Evaluate Model\n",
    "!{command}\n"
   ]
  },
  {
   "cell_type": "markdown",
   "metadata": {
    "id": "orvRk02UpfDI"
   },
   "source": [
    "# 8. Load Train Model From Checkpoint"
   ]
  },
  {
   "cell_type": "code",
   "execution_count": 31,
   "metadata": {
    "id": "8TYk4_oIpfDI"
   },
   "outputs": [],
   "source": [
    "import os\n",
    "import tensorflow as tf\n",
    "from object_detection.utils import label_map_util\n",
    "from object_detection.utils import visualization_utils as viz_utils\n",
    "from object_detection.builders import model_builder\n",
    "from object_detection.utils import config_util"
   ]
  },
  {
   "cell_type": "code",
   "execution_count": 32,
   "metadata": {
    "id": "tDnQg-cYpfDI"
   },
   "outputs": [
    {
     "name": "stderr",
     "output_type": "stream",
     "text": [
      "2022-06-12 10:47:44.340615: I tensorflow/core/platform/cpu_feature_guard.cc:193] This TensorFlow binary is optimized with oneAPI Deep Neural Network Library (oneDNN) to use the following CPU instructions in performance-critical operations:  AVX2 FMA\n",
      "To enable them in other operations, rebuild TensorFlow with the appropriate compiler flags.\n"
     ]
    }
   ],
   "source": [
    "# Load pipeline config and build a detection model\n",
    "configs = config_util.get_configs_from_pipeline_file(files['PIPELINE_CONFIG'])\n",
    "detection_model = model_builder.build(model_config=configs['model'], is_training=False)\n",
    "\n",
    "# Restore checkpoint\n",
    "ckpt = tf.compat.v2.train.Checkpoint(model=detection_model)\n",
    "ckpt.restore(os.path.join(paths['CHECKPOINT_PATH'], 'ckpt-3')).expect_partial()\n",
    "\n",
    "@tf.function\n",
    "def detect_fn(image):\n",
    "    image, shapes = detection_model.preprocess(image)\n",
    "    prediction_dict = detection_model.predict(image, shapes)\n",
    "    detections = detection_model.postprocess(prediction_dict, shapes)\n",
    "    return detections"
   ]
  },
  {
   "cell_type": "markdown",
   "metadata": {
    "id": "0EmsmbBZpfDI"
   },
   "source": [
    "# 9. Detect from an Image"
   ]
  },
  {
   "cell_type": "code",
   "execution_count": 33,
   "metadata": {
    "id": "Y_MKiuZ4pfDI"
   },
   "outputs": [],
   "source": [
    "import cv2 \n",
    "import numpy as np\n",
    "from matplotlib import pyplot as plt\n",
    "%matplotlib inline"
   ]
  },
  {
   "cell_type": "code",
   "execution_count": 34,
   "metadata": {
    "id": "cBDbIhNapfDI"
   },
   "outputs": [],
   "source": [
    "category_index = label_map_util.create_category_index_from_labelmap(files['LABELMAP'])"
   ]
  },
  {
   "cell_type": "code",
   "execution_count": 35,
   "metadata": {
    "id": "Lx3crOhOzITB"
   },
   "outputs": [],
   "source": [
    "IMAGE_PATH = os.path.join(paths['IMAGE_PATH'], 'test', 'Up.00b33524-e9cf-11ec-a6d3-3af9d392911a.jpg')"
   ]
  },
  {
   "cell_type": "code",
   "execution_count": 36,
   "metadata": {
    "colab": {
     "base_uri": "https://localhost:8080/",
     "height": 269
    },
    "id": "Tpzn1SMry1yK",
    "outputId": "c392a2c5-10fe-4fc4-9998-a1d4c7db2bd3"
   },
   "outputs": [
    {
     "data": {
      "image/png": "[encoded data removed]",
      "text/plain": [
       "<Figure size 432x288 with 1 Axes>"
      ]
     },
     "metadata": {
      "needs_background": "light"
     },
     "output_type": "display_data"
    }
   ],
   "source": [
    "img = cv2.imread(IMAGE_PATH)\n",
    "image_np = np.array(img)\n",
    "\n",
    "input_tensor = tf.convert_to_tensor(np.expand_dims(image_np, 0), dtype=tf.float32)\n",
    "detections = detect_fn(input_tensor)\n",
    "\n",
    "num_detections = int(detections.pop('num_detections'))\n",
    "detections = {key: value[0, :num_detections].numpy()\n",
    "              for key, value in detections.items()}\n",
    "detections['num_detections'] = num_detections\n",
    "\n",
    "# detection_classes should be ints.\n",
    "detections['detection_classes'] = detections['detection_classes'].astype(np.int64)\n",
    "\n",
    "label_id_offset = 1\n",
    "image_np_with_detections = image_np.copy()\n",
    "\n",
    "viz_utils.visualize_boxes_and_labels_on_image_array(\n",
    "            image_np_with_detections,\n",
    "            detections['detection_boxes'],\n",
    "            detections['detection_classes']+label_id_offset,\n",
    "            detections['detection_scores'],\n",
    "            category_index,\n",
    "            use_normalized_coordinates=True,\n",
    "            max_boxes_to_draw=5,\n",
    "            min_score_thresh=.8,\n",
    "            agnostic_mode=False)\n",
    "\n",
    "plt.imshow(cv2.cvtColor(image_np_with_detections, cv2.COLOR_BGR2RGB))\n",
    "plt.show()"
   ]
  },
  {
   "cell_type": "markdown",
   "metadata": {
    "id": "IsNAaYAo0WVL"
   },
   "source": [
    "# 10. Real Time Detections from your Webcam"
   ]
  },
  {
   "cell_type": "code",
   "execution_count": 68,
   "metadata": {},
   "outputs": [],
   "source": [
    "# !pip uninstall opencv-python-headless -y "
   ]
  },
  {
   "cell_type": "code",
   "execution_count": 42,
   "metadata": {
    "id": "o_grs6OGpfDJ"
   },
   "outputs": [],
   "source": [
    "cap = cv2.VideoCapture(0)\n",
    "width = int(cap.get(cv2.CAP_PROP_FRAME_WIDTH))\n",
    "height = int(cap.get(cv2.CAP_PROP_FRAME_HEIGHT))\n",
    "\n",
    "while cap.isOpened(): \n",
    "    ret, frame = cap.read()\n",
    "    image_np = np.array(frame)\n",
    "    \n",
    "    input_tensor = tf.convert_to_tensor(np.expand_dims(image_np, 0), dtype=tf.float32)\n",
    "    detections = detect_fn(input_tensor)\n",
    "    \n",
    "    num_detections = int(detections.pop('num_detections'))\n",
    "    detections = {key: value[0, :num_detections].numpy()\n",
    "                  for key, value in detections.items()}\n",
    "    detections['num_detections'] = num_detections\n",
    "\n",
    "    # detection_classes should be ints.\n",
    "    detections['detection_classes'] = detections['detection_classes'].astype(np.int64)\n",
    "\n",
    "    label_id_offset = 1\n",
    "    image_np_with_detections = image_np.copy()\n",
    "\n",
    "    viz_utils.visualize_boxes_and_labels_on_image_array(\n",
    "                image_np_with_detections,\n",
    "                detections['detection_boxes'],\n",
    "                detections['detection_classes']+label_id_offset,\n",
    "                detections['detection_scores'],\n",
    "                category_index,\n",
    "                use_normalized_coordinates=True,\n",
    "                max_boxes_to_draw=5,\n",
    "                min_score_thresh=.8,\n",
    "                agnostic_mode=False)\n",
    "\n",
    "    cv2.imshow('object detection',  cv2.resize(image_np_with_detections, (800, 600)))\n",
    "    \n",
    "    if cv2.waitKey(10) & 0xFF == ord('q'):\n",
    "        cap.release()\n",
    "        cv2.destroyAllWindows()\n",
    "        break"
   ]
  },
  {
   "cell_type": "markdown",
   "metadata": {
    "id": "rzlM4jt0pfDJ"
   },
   "source": [
    "# 10. Freezing the Graph"
   ]
  },
  {
   "cell_type": "code",
   "execution_count": 37,
   "metadata": {
    "id": "n4olHB2npfDJ"
   },
   "outputs": [],
   "source": [
    "FREEZE_SCRIPT = os.path.join(paths['APIMODEL_PATH'], 'research', 'object_detection', 'exporter_main_v2.py ')"
   ]
  },
  {
   "cell_type": "code",
   "execution_count": 38,
   "metadata": {
    "id": "0AjO93QDpfDJ"
   },
   "outputs": [],
   "source": [
    "command = \"python {} --input_type=image_tensor --pipeline_config_path={} --trained_checkpoint_dir={} --output_directory={}\".format(FREEZE_SCRIPT ,files['PIPELINE_CONFIG'], paths['CHECKPOINT_PATH'], paths['OUTPUT_PATH'])"
   ]
  },
  {
   "cell_type": "code",
   "execution_count": 39,
   "metadata": {
    "colab": {
     "base_uri": "https://localhost:8080/"
    },
    "id": "F6Lsp3tCpfDJ",
    "outputId": "c3828529-bf06-4df5-d7f3-145890ec3edd"
   },
   "outputs": [
    {
     "name": "stdout",
     "output_type": "stream",
     "text": [
      "python Tensorflow/models/research/object_detection/exporter_main_v2.py  --input_type=image_tensor --pipeline_config_path=Tensorflow/workspace/models/directions/pipeline.config --trained_checkpoint_dir=Tensorflow/workspace/models/directions --output_directory=Tensorflow/workspace/models/directions/export\n"
     ]
    }
   ],
   "source": [
    "print(command)"
   ]
  },
  {
   "cell_type": "code",
   "execution_count": 40,
   "metadata": {
    "colab": {
     "base_uri": "https://localhost:8080/"
    },
    "id": "1Sw1ULgHpfDJ",
    "outputId": "6fd441e1-9fc9-4889-d072-3395c21e40b6"
   },
   "outputs": [
    {
     "name": "stdout",
     "output_type": "stream",
     "text": [
      "2022-06-12 10:48:34.083120: I tensorflow/core/platform/cpu_feature_guard.cc:193] This TensorFlow binary is optimized with oneAPI Deep Neural Network Library (oneDNN) to use the following CPU instructions in performance-critical operations:  AVX2 FMA\n",
      "To enable them in other operations, rebuild TensorFlow with the appropriate compiler flags.\n",
      "WARNING:tensorflow:From /Users/trevormcgirr/opt/anaconda3/lib/python3.9/site-packages/tensorflow/python/autograph/impl/api.py:458: calling map_fn_v2 (from tensorflow.python.ops.map_fn) with back_prop=False is deprecated and will be removed in a future version.\n",
      "Instructions for updating:\n",
      "back_prop=False is deprecated. Consider using tf.stop_gradient instead.\n",
      "Instead of:\n",
      "results = tf.map_fn(fn, elems, back_prop=False)\n",
      "Use:\n",
      "results = tf.nest.map_structure(tf.stop_gradient, tf.map_fn(fn, elems))\n",
      "W0612 10:48:34.237868 4648769024 deprecation.py:623] From /Users/trevormcgirr/opt/anaconda3/lib/python3.9/site-packages/tensorflow/python/autograph/impl/api.py:458: calling map_fn_v2 (from tensorflow.python.ops.map_fn) with back_prop=False is deprecated and will be removed in a future version.\n",
      "Instructions for updating:\n",
      "back_prop=False is deprecated. Consider using tf.stop_gradient instead.\n",
      "Instead of:\n",
      "results = tf.map_fn(fn, elems, back_prop=False)\n",
      "Use:\n",
      "results = tf.nest.map_structure(tf.stop_gradient, tf.map_fn(fn, elems))\n",
      "WARNING:tensorflow:Skipping full serialization of Keras layer <object_detection.meta_architectures.ssd_meta_arch.SSDMetaArch object at 0x7f7ad00eb670>, because it is not built.\n",
      "W0612 10:48:53.232143 4648769024 save_impl.py:71] Skipping full serialization of Keras layer <object_detection.meta_architectures.ssd_meta_arch.SSDMetaArch object at 0x7f7ad00eb670>, because it is not built.\n",
      "WARNING:tensorflow:Skipping full serialization of Keras layer <keras.layers.convolutional.separable_conv2d.SeparableConv2D object at 0x7f7ad01895b0>, because it is not built.\n",
      "W0612 10:48:53.474334 4648769024 save_impl.py:71] Skipping full serialization of Keras layer <keras.layers.convolutional.separable_conv2d.SeparableConv2D object at 0x7f7ad01895b0>, because it is not built.\n",
      "WARNING:tensorflow:Skipping full serialization of Keras layer <object_detection.core.freezable_batch_norm.FreezableBatchNorm object at 0x7f7ad0644a00>, because it is not built.\n",
      "W0612 10:48:53.474484 4648769024 save_impl.py:71] Skipping full serialization of Keras layer <object_detection.core.freezable_batch_norm.FreezableBatchNorm object at 0x7f7ad0644a00>, because it is not built.\n",
      "WARNING:tensorflow:Skipping full serialization of Keras layer <keras.layers.core.lambda_layer.Lambda object at 0x7f7ad040ca30>, because it is not built.\n",
      "W0612 10:48:53.474559 4648769024 save_impl.py:71] Skipping full serialization of Keras layer <keras.layers.core.lambda_layer.Lambda object at 0x7f7ad040ca30>, because it is not built.\n",
      "WARNING:tensorflow:Skipping full serialization of Keras layer <keras.layers.convolutional.separable_conv2d.SeparableConv2D object at 0x7f7ad040c370>, because it is not built.\n",
      "W0612 10:48:53.474626 4648769024 save_impl.py:71] Skipping full serialization of Keras layer <keras.layers.convolutional.separable_conv2d.SeparableConv2D object at 0x7f7ad040c370>, because it is not built.\n",
      "WARNING:tensorflow:Skipping full serialization of Keras layer <object_detection.core.freezable_batch_norm.FreezableBatchNorm object at 0x7f7ad07aa070>, because it is not built.\n",
      "W0612 10:48:53.474688 4648769024 save_impl.py:71] Skipping full serialization of Keras layer <object_detection.core.freezable_batch_norm.FreezableBatchNorm object at 0x7f7ad07aa070>, because it is not built.\n",
      "WARNING:tensorflow:Skipping full serialization of Keras layer <keras.layers.core.lambda_layer.Lambda object at 0x7f7ad040c070>, because it is not built.\n",
      "W0612 10:48:53.474745 4648769024 save_impl.py:71] Skipping full serialization of Keras layer <keras.layers.core.lambda_layer.Lambda object at 0x7f7ad040c070>, because it is not built.\n",
      "WARNING:tensorflow:Skipping full serialization of Keras layer <keras.layers.convolutional.separable_conv2d.SeparableConv2D object at 0x7f7ad05f6850>, because it is not built.\n",
      "W0612 10:48:53.474812 4648769024 save_impl.py:71] Skipping full serialization of Keras layer <keras.layers.convolutional.separable_conv2d.SeparableConv2D object at 0x7f7ad05f6850>, because it is not built.\n",
      "WARNING:tensorflow:Skipping full serialization of Keras layer <object_detection.core.freezable_batch_norm.FreezableBatchNorm object at 0x7f7ad05a3460>, because it is not built.\n",
      "W0612 10:48:53.474871 4648769024 save_impl.py:71] Skipping full serialization of Keras layer <object_detection.core.freezable_batch_norm.FreezableBatchNorm object at 0x7f7ad05a3460>, because it is not built.\n",
      "WARNING:tensorflow:Skipping full serialization of Keras layer <keras.layers.core.lambda_layer.Lambda object at 0x7f7ad05f6700>, because it is not built.\n",
      "W0612 10:48:53.474928 4648769024 save_impl.py:71] Skipping full serialization of Keras layer <keras.layers.core.lambda_layer.Lambda object at 0x7f7ad05f6700>, because it is not built.\n",
      "WARNING:tensorflow:Skipping full serialization of Keras layer <keras.layers.convolutional.separable_conv2d.SeparableConv2D object at 0x7f7ad037dac0>, because it is not built.\n",
      "W0612 10:48:53.474986 4648769024 save_impl.py:71] Skipping full serialization of Keras layer <keras.layers.convolutional.separable_conv2d.SeparableConv2D object at 0x7f7ad037dac0>, because it is not built.\n",
      "WARNING:tensorflow:Skipping full serialization of Keras layer <object_detection.core.freezable_batch_norm.FreezableBatchNorm object at 0x7f7ad0692b80>, because it is not built.\n",
      "W0612 10:48:53.475043 4648769024 save_impl.py:71] Skipping full serialization of Keras layer <object_detection.core.freezable_batch_norm.FreezableBatchNorm object at 0x7f7ad0692b80>, because it is not built.\n",
      "WARNING:tensorflow:Skipping full serialization of Keras layer <keras.layers.core.lambda_layer.Lambda object at 0x7f7ad03e95e0>, because it is not built.\n",
      "W0612 10:48:53.475099 4648769024 save_impl.py:71] Skipping full serialization of Keras layer <keras.layers.core.lambda_layer.Lambda object at 0x7f7ad03e95e0>, because it is not built.\n",
      "WARNING:tensorflow:Skipping full serialization of Keras layer <object_detection.core.freezable_batch_norm.FreezableBatchNorm object at 0x7f7ad01898e0>, because it is not built.\n",
      "W0612 10:48:53.475161 4648769024 save_impl.py:71] Skipping full serialization of Keras layer <object_detection.core.freezable_batch_norm.FreezableBatchNorm object at 0x7f7ad01898e0>, because it is not built.\n",
      "WARNING:tensorflow:Skipping full serialization of Keras layer <keras.layers.core.lambda_layer.Lambda object at 0x7f7ad1e77a30>, because it is not built.\n",
      "W0612 10:48:53.475216 4648769024 save_impl.py:71] Skipping full serialization of Keras layer <keras.layers.core.lambda_layer.Lambda object at 0x7f7ad1e77a30>, because it is not built.\n",
      "WARNING:tensorflow:Skipping full serialization of Keras layer <object_detection.core.freezable_batch_norm.FreezableBatchNorm object at 0x7f7ad1e947c0>, because it is not built.\n",
      "W0612 10:48:53.475272 4648769024 save_impl.py:71] Skipping full serialization of Keras layer <object_detection.core.freezable_batch_norm.FreezableBatchNorm object at 0x7f7ad1e947c0>, because it is not built.\n",
      "WARNING:tensorflow:Skipping full serialization of Keras layer <keras.layers.core.lambda_layer.Lambda object at 0x7f7ad1e948e0>, because it is not built.\n",
      "W0612 10:48:53.475328 4648769024 save_impl.py:71] Skipping full serialization of Keras layer <keras.layers.core.lambda_layer.Lambda object at 0x7f7ad1e948e0>, because it is not built.\n",
      "WARNING:tensorflow:Skipping full serialization of Keras layer <object_detection.core.freezable_batch_norm.FreezableBatchNorm object at 0x7f7ad1e94fa0>, because it is not built.\n",
      "W0612 10:48:53.475386 4648769024 save_impl.py:71] Skipping full serialization of Keras layer <object_detection.core.freezable_batch_norm.FreezableBatchNorm object at 0x7f7ad1e94fa0>, because it is not built.\n",
      "WARNING:tensorflow:Skipping full serialization of Keras layer <keras.layers.core.lambda_layer.Lambda object at 0x7f7ad1e94b50>, because it is not built.\n",
      "W0612 10:48:53.475442 4648769024 save_impl.py:71] Skipping full serialization of Keras layer <keras.layers.core.lambda_layer.Lambda object at 0x7f7ad1e94b50>, because it is not built.\n",
      "WARNING:tensorflow:Skipping full serialization of Keras layer <object_detection.core.freezable_batch_norm.FreezableBatchNorm object at 0x7f7ad1e946a0>, because it is not built.\n",
      "W0612 10:48:53.475501 4648769024 save_impl.py:71] Skipping full serialization of Keras layer <object_detection.core.freezable_batch_norm.FreezableBatchNorm object at 0x7f7ad1e946a0>, because it is not built.\n",
      "WARNING:tensorflow:Skipping full serialization of Keras layer <keras.layers.core.lambda_layer.Lambda object at 0x7f7ad1e943d0>, because it is not built.\n",
      "W0612 10:48:53.475556 4648769024 save_impl.py:71] Skipping full serialization of Keras layer <keras.layers.core.lambda_layer.Lambda object at 0x7f7ad1e943d0>, because it is not built.\n",
      "WARNING:tensorflow:Skipping full serialization of Keras layer <object_detection.core.freezable_batch_norm.FreezableBatchNorm object at 0x7f7ad0189910>, because it is not built.\n",
      "W0612 10:48:53.475611 4648769024 save_impl.py:71] Skipping full serialization of Keras layer <object_detection.core.freezable_batch_norm.FreezableBatchNorm object at 0x7f7ad0189910>, because it is not built.\n",
      "WARNING:tensorflow:Skipping full serialization of Keras layer <keras.layers.core.lambda_layer.Lambda object at 0x7f7ad1eba1f0>, because it is not built.\n",
      "W0612 10:48:53.475667 4648769024 save_impl.py:71] Skipping full serialization of Keras layer <keras.layers.core.lambda_layer.Lambda object at 0x7f7ad1eba1f0>, because it is not built.\n",
      "WARNING:tensorflow:Skipping full serialization of Keras layer <object_detection.core.freezable_batch_norm.FreezableBatchNorm object at 0x7f7ad1ea1940>, because it is not built.\n",
      "W0612 10:48:53.475723 4648769024 save_impl.py:71] Skipping full serialization of Keras layer <object_detection.core.freezable_batch_norm.FreezableBatchNorm object at 0x7f7ad1ea1940>, because it is not built.\n",
      "WARNING:tensorflow:Skipping full serialization of Keras layer <keras.layers.core.lambda_layer.Lambda object at 0x7f7ad1ea1b20>, because it is not built.\n",
      "W0612 10:48:53.475823 4648769024 save_impl.py:71] Skipping full serialization of Keras layer <keras.layers.core.lambda_layer.Lambda object at 0x7f7ad1ea1b20>, because it is not built.\n",
      "WARNING:tensorflow:Skipping full serialization of Keras layer <object_detection.core.freezable_batch_norm.FreezableBatchNorm object at 0x7f7ad076b9d0>, because it is not built.\n",
      "W0612 10:48:53.475913 4648769024 save_impl.py:71] Skipping full serialization of Keras layer <object_detection.core.freezable_batch_norm.FreezableBatchNorm object at 0x7f7ad076b9d0>, because it is not built.\n",
      "WARNING:tensorflow:Skipping full serialization of Keras layer <keras.layers.core.lambda_layer.Lambda object at 0x7f7ad0becdc0>, because it is not built.\n",
      "W0612 10:48:53.475982 4648769024 save_impl.py:71] Skipping full serialization of Keras layer <keras.layers.core.lambda_layer.Lambda object at 0x7f7ad0becdc0>, because it is not built.\n",
      "WARNING:tensorflow:Skipping full serialization of Keras layer <object_detection.core.freezable_batch_norm.FreezableBatchNorm object at 0x7f7ad1e7d190>, because it is not built.\n",
      "W0612 10:48:53.476143 4648769024 save_impl.py:71] Skipping full serialization of Keras layer <object_detection.core.freezable_batch_norm.FreezableBatchNorm object at 0x7f7ad1e7d190>, because it is not built.\n",
      "WARNING:tensorflow:Skipping full serialization of Keras layer <keras.layers.core.lambda_layer.Lambda object at 0x7f7ad1e7df70>, because it is not built.\n",
      "W0612 10:48:53.476229 4648769024 save_impl.py:71] Skipping full serialization of Keras layer <keras.layers.core.lambda_layer.Lambda object at 0x7f7ad1e7df70>, because it is not built.\n",
      "WARNING:tensorflow:Skipping full serialization of Keras layer <object_detection.core.freezable_batch_norm.FreezableBatchNorm object at 0x7f7ad0189940>, because it is not built.\n",
      "W0612 10:48:53.476296 4648769024 save_impl.py:71] Skipping full serialization of Keras layer <object_detection.core.freezable_batch_norm.FreezableBatchNorm object at 0x7f7ad0189940>, because it is not built.\n",
      "WARNING:tensorflow:Skipping full serialization of Keras layer <keras.layers.core.lambda_layer.Lambda object at 0x7f7ad1e8da60>, because it is not built.\n",
      "W0612 10:48:53.476358 4648769024 save_impl.py:71] Skipping full serialization of Keras layer <keras.layers.core.lambda_layer.Lambda object at 0x7f7ad1e8da60>, because it is not built.\n",
      "WARNING:tensorflow:Skipping full serialization of Keras layer <object_detection.core.freezable_batch_norm.FreezableBatchNorm object at 0x7f7ad1ea7310>, because it is not built.\n",
      "W0612 10:48:53.476418 4648769024 save_impl.py:71] Skipping full serialization of Keras layer <object_detection.core.freezable_batch_norm.FreezableBatchNorm object at 0x7f7ad1ea7310>, because it is not built.\n",
      "WARNING:tensorflow:Skipping full serialization of Keras layer <keras.layers.core.lambda_layer.Lambda object at 0x7f7ad1ea7fd0>, because it is not built.\n",
      "W0612 10:48:53.476476 4648769024 save_impl.py:71] Skipping full serialization of Keras layer <keras.layers.core.lambda_layer.Lambda object at 0x7f7ad1ea7fd0>, because it is not built.\n",
      "WARNING:tensorflow:Skipping full serialization of Keras layer <object_detection.core.freezable_batch_norm.FreezableBatchNorm object at 0x7f7ad1e72550>, because it is not built.\n",
      "W0612 10:48:53.476538 4648769024 save_impl.py:71] Skipping full serialization of Keras layer <object_detection.core.freezable_batch_norm.FreezableBatchNorm object at 0x7f7ad1e72550>, because it is not built.\n",
      "WARNING:tensorflow:Skipping full serialization of Keras layer <keras.layers.core.lambda_layer.Lambda object at 0x7f7ad1e723d0>, because it is not built.\n",
      "W0612 10:48:53.476597 4648769024 save_impl.py:71] Skipping full serialization of Keras layer <keras.layers.core.lambda_layer.Lambda object at 0x7f7ad1e723d0>, because it is not built.\n",
      "WARNING:tensorflow:Skipping full serialization of Keras layer <object_detection.core.freezable_batch_norm.FreezableBatchNorm object at 0x7f7ad1e72280>, because it is not built.\n",
      "W0612 10:48:53.476660 4648769024 save_impl.py:71] Skipping full serialization of Keras layer <object_detection.core.freezable_batch_norm.FreezableBatchNorm object at 0x7f7ad1e72280>, because it is not built.\n",
      "WARNING:tensorflow:Skipping full serialization of Keras layer <keras.layers.core.lambda_layer.Lambda object at 0x7f7ad1e72e20>, because it is not built.\n",
      "W0612 10:48:53.476722 4648769024 save_impl.py:71] Skipping full serialization of Keras layer <keras.layers.core.lambda_layer.Lambda object at 0x7f7ad1e72e20>, because it is not built.\n",
      "WARNING:tensorflow:Skipping full serialization of Keras layer <object_detection.core.freezable_batch_norm.FreezableBatchNorm object at 0x7f7ad05179a0>, because it is not built.\n",
      "W0612 10:48:53.476928 4648769024 save_impl.py:71] Skipping full serialization of Keras layer <object_detection.core.freezable_batch_norm.FreezableBatchNorm object at 0x7f7ad05179a0>, because it is not built.\n",
      "WARNING:tensorflow:Skipping full serialization of Keras layer <keras.layers.core.lambda_layer.Lambda object at 0x7f7ad0bfef10>, because it is not built.\n",
      "W0612 10:48:53.477046 4648769024 save_impl.py:71] Skipping full serialization of Keras layer <keras.layers.core.lambda_layer.Lambda object at 0x7f7ad0bfef10>, because it is not built.\n",
      "WARNING:tensorflow:Skipping full serialization of Keras layer <object_detection.core.freezable_batch_norm.FreezableBatchNorm object at 0x7f7ad1eb9b20>, because it is not built.\n",
      "W0612 10:48:53.477140 4648769024 save_impl.py:71] Skipping full serialization of Keras layer <object_detection.core.freezable_batch_norm.FreezableBatchNorm object at 0x7f7ad1eb9b20>, because it is not built.\n",
      "WARNING:tensorflow:Skipping full serialization of Keras layer <keras.layers.core.lambda_layer.Lambda object at 0x7f7ad1eb9460>, because it is not built.\n",
      "W0612 10:48:53.477206 4648769024 save_impl.py:71] Skipping full serialization of Keras layer <keras.layers.core.lambda_layer.Lambda object at 0x7f7ad1eb9460>, because it is not built.\n",
      "WARNING:tensorflow:Skipping full serialization of Keras layer <object_detection.core.freezable_batch_norm.FreezableBatchNorm object at 0x7f7ad1e9b6d0>, because it is not built.\n",
      "W0612 10:48:53.477267 4648769024 save_impl.py:71] Skipping full serialization of Keras layer <object_detection.core.freezable_batch_norm.FreezableBatchNorm object at 0x7f7ad1e9b6d0>, because it is not built.\n",
      "WARNING:tensorflow:Skipping full serialization of Keras layer <keras.layers.core.lambda_layer.Lambda object at 0x7f7ad1e9b970>, because it is not built.\n",
      "W0612 10:48:53.477449 4648769024 save_impl.py:71] Skipping full serialization of Keras layer <keras.layers.core.lambda_layer.Lambda object at 0x7f7ad1e9b970>, because it is not built.\n",
      "WARNING:tensorflow:Skipping full serialization of Keras layer <object_detection.core.freezable_batch_norm.FreezableBatchNorm object at 0x7f7ad1e9b100>, because it is not built.\n",
      "W0612 10:48:53.477548 4648769024 save_impl.py:71] Skipping full serialization of Keras layer <object_detection.core.freezable_batch_norm.FreezableBatchNorm object at 0x7f7ad1e9b100>, because it is not built.\n",
      "WARNING:tensorflow:Skipping full serialization of Keras layer <keras.layers.core.lambda_layer.Lambda object at 0x7f7ad1e9bf10>, because it is not built.\n",
      "W0612 10:48:53.477622 4648769024 save_impl.py:71] Skipping full serialization of Keras layer <keras.layers.core.lambda_layer.Lambda object at 0x7f7ad1e9bf10>, because it is not built.\n"
     ]
    },
    {
     "name": "stdout",
     "output_type": "stream",
     "text": [
      "W0612 10:49:09.536051 4648769024 save.py:233] Found untraced functions such as WeightSharedConvolutionalBoxPredictor_layer_call_fn, WeightSharedConvolutionalBoxPredictor_layer_call_and_return_conditional_losses, WeightSharedConvolutionalBoxHead_layer_call_fn, WeightSharedConvolutionalBoxHead_layer_call_and_return_conditional_losses, WeightSharedConvolutionalClassHead_layer_call_fn while saving (showing 5 of 173). These functions will not be directly callable after loading.\n",
      "INFO:tensorflow:Assets written to: Tensorflow/workspace/models/directions/export/saved_model/assets\n",
      "I0612 10:49:14.284373 4648769024 builder_impl.py:779] Assets written to: Tensorflow/workspace/models/directions/export/saved_model/assets\n",
      "INFO:tensorflow:Writing pipeline config file to Tensorflow/workspace/models/directions/export/pipeline.config\n",
      "I0612 10:49:14.877801 4648769024 config_util.py:253] Writing pipeline config file to Tensorflow/workspace/models/directions/export/pipeline.config\n"
     ]
    }
   ],
   "source": [
    "!{command}"
   ]
  },
  {
   "cell_type": "markdown",
   "metadata": {
    "id": "wTPmdqaXpfDK"
   },
   "source": [
    "# 11. Conversion to TFJS"
   ]
  },
  {
   "cell_type": "code",
   "execution_count": 41,
   "metadata": {
    "colab": {
     "base_uri": "https://localhost:8080/"
    },
    "id": "gZ6UzY_fpfDK",
    "outputId": "0c84722e-1c2b-4002-d857-80827ade828a",
    "scrolled": true
   },
   "outputs": [
    {
     "name": "stdout",
     "output_type": "stream",
     "text": [
      "Collecting tensorflowjs\n",
      "  Using cached tensorflowjs-3.18.0-py3-none-any.whl (77 kB)\n",
      "Requirement already satisfied: tensorflow-hub<0.13,>=0.7.0 in /Users/trevormcgirr/opt/anaconda3/lib/python3.9/site-packages (from tensorflowjs) (0.12.0)\n",
      "Collecting packaging~=20.9\n",
      "  Using cached packaging-20.9-py2.py3-none-any.whl (40 kB)\n",
      "Requirement already satisfied: tensorflow<3,>=2.1.0 in /Users/trevormcgirr/opt/anaconda3/lib/python3.9/site-packages (from tensorflowjs) (2.9.1)\n",
      "Requirement already satisfied: six<2,>=1.12.0 in /Users/trevormcgirr/opt/anaconda3/lib/python3.9/site-packages (from tensorflowjs) (1.16.0)\n",
      "Requirement already satisfied: pyparsing>=2.0.2 in /Users/trevormcgirr/opt/anaconda3/lib/python3.9/site-packages (from packaging~=20.9->tensorflowjs) (2.4.7)\n",
      "Requirement already satisfied: gast<=0.4.0,>=0.2.1 in /Users/trevormcgirr/opt/anaconda3/lib/python3.9/site-packages (from tensorflow<3,>=2.1.0->tensorflowjs) (0.4.0)\n",
      "Requirement already satisfied: tensorflow-estimator<2.10.0,>=2.9.0rc0 in /Users/trevormcgirr/opt/anaconda3/lib/python3.9/site-packages (from tensorflow<3,>=2.1.0->tensorflowjs) (2.9.0)\n",
      "Requirement already satisfied: keras<2.10.0,>=2.9.0rc0 in /Users/trevormcgirr/opt/anaconda3/lib/python3.9/site-packages (from tensorflow<3,>=2.1.0->tensorflowjs) (2.9.0)\n",
      "Requirement already satisfied: keras-preprocessing>=1.1.1 in /Users/trevormcgirr/opt/anaconda3/lib/python3.9/site-packages (from tensorflow<3,>=2.1.0->tensorflowjs) (1.1.2)\n",
      "Requirement already satisfied: tensorflow-io-gcs-filesystem>=0.23.1 in /Users/trevormcgirr/opt/anaconda3/lib/python3.9/site-packages (from tensorflow<3,>=2.1.0->tensorflowjs) (0.26.0)\n",
      "Requirement already satisfied: numpy>=1.20 in /Users/trevormcgirr/opt/anaconda3/lib/python3.9/site-packages (from tensorflow<3,>=2.1.0->tensorflowjs) (1.21.5)\n",
      "Requirement already satisfied: grpcio<2.0,>=1.24.3 in /Users/trevormcgirr/opt/anaconda3/lib/python3.9/site-packages (from tensorflow<3,>=2.1.0->tensorflowjs) (1.42.0)\n",
      "Requirement already satisfied: setuptools in /Users/trevormcgirr/opt/anaconda3/lib/python3.9/site-packages (from tensorflow<3,>=2.1.0->tensorflowjs) (61.2.0)\n",
      "Requirement already satisfied: flatbuffers<2,>=1.12 in /Users/trevormcgirr/opt/anaconda3/lib/python3.9/site-packages (from tensorflow<3,>=2.1.0->tensorflowjs) (1.12)\n",
      "Requirement already satisfied: absl-py>=1.0.0 in /Users/trevormcgirr/opt/anaconda3/lib/python3.9/site-packages (from tensorflow<3,>=2.1.0->tensorflowjs) (1.0.0)\n",
      "Requirement already satisfied: typing-extensions>=3.6.6 in /Users/trevormcgirr/opt/anaconda3/lib/python3.9/site-packages (from tensorflow<3,>=2.1.0->tensorflowjs) (4.1.1)\n",
      "Requirement already satisfied: libclang>=13.0.0 in /Users/trevormcgirr/opt/anaconda3/lib/python3.9/site-packages (from tensorflow<3,>=2.1.0->tensorflowjs) (14.0.1)\n",
      "Requirement already satisfied: wrapt>=1.11.0 in /Users/trevormcgirr/opt/anaconda3/lib/python3.9/site-packages (from tensorflow<3,>=2.1.0->tensorflowjs) (1.12.1)\n",
      "Requirement already satisfied: google-pasta>=0.1.1 in /Users/trevormcgirr/opt/anaconda3/lib/python3.9/site-packages (from tensorflow<3,>=2.1.0->tensorflowjs) (0.2.0)\n",
      "Requirement already satisfied: termcolor>=1.1.0 in /Users/trevormcgirr/opt/anaconda3/lib/python3.9/site-packages (from tensorflow<3,>=2.1.0->tensorflowjs) (1.1.0)\n",
      "Requirement already satisfied: h5py>=2.9.0 in /Users/trevormcgirr/opt/anaconda3/lib/python3.9/site-packages (from tensorflow<3,>=2.1.0->tensorflowjs) (3.6.0)\n",
      "Requirement already satisfied: astunparse>=1.6.0 in /Users/trevormcgirr/opt/anaconda3/lib/python3.9/site-packages (from tensorflow<3,>=2.1.0->tensorflowjs) (1.6.3)\n",
      "Requirement already satisfied: opt-einsum>=2.3.2 in /Users/trevormcgirr/opt/anaconda3/lib/python3.9/site-packages (from tensorflow<3,>=2.1.0->tensorflowjs) (3.3.0)\n",
      "Requirement already satisfied: protobuf<3.20,>=3.9.2 in /Users/trevormcgirr/opt/anaconda3/lib/python3.9/site-packages (from tensorflow<3,>=2.1.0->tensorflowjs) (3.19.1)\n",
      "Requirement already satisfied: tensorboard<2.10,>=2.9 in /Users/trevormcgirr/opt/anaconda3/lib/python3.9/site-packages (from tensorflow<3,>=2.1.0->tensorflowjs) (2.9.0)\n",
      "Requirement already satisfied: wheel<1.0,>=0.23.0 in /Users/trevormcgirr/opt/anaconda3/lib/python3.9/site-packages (from astunparse>=1.6.0->tensorflow<3,>=2.1.0->tensorflowjs) (0.37.1)\n",
      "Requirement already satisfied: werkzeug>=1.0.1 in /Users/trevormcgirr/opt/anaconda3/lib/python3.9/site-packages (from tensorboard<2.10,>=2.9->tensorflow<3,>=2.1.0->tensorflowjs) (2.0.3)\n",
      "Requirement already satisfied: google-auth<3,>=1.6.3 in /Users/trevormcgirr/opt/anaconda3/lib/python3.9/site-packages (from tensorboard<2.10,>=2.9->tensorflow<3,>=2.1.0->tensorflowjs) (1.33.0)\n",
      "Requirement already satisfied: tensorboard-plugin-wit>=1.6.0 in /Users/trevormcgirr/opt/anaconda3/lib/python3.9/site-packages (from tensorboard<2.10,>=2.9->tensorflow<3,>=2.1.0->tensorflowjs) (1.8.1)\n",
      "Requirement already satisfied: google-auth-oauthlib<0.5,>=0.4.1 in /Users/trevormcgirr/opt/anaconda3/lib/python3.9/site-packages (from tensorboard<2.10,>=2.9->tensorflow<3,>=2.1.0->tensorflowjs) (0.4.6)\n",
      "Requirement already satisfied: requests<3,>=2.21.0 in /Users/trevormcgirr/opt/anaconda3/lib/python3.9/site-packages (from tensorboard<2.10,>=2.9->tensorflow<3,>=2.1.0->tensorflowjs) (2.27.1)\n",
      "Requirement already satisfied: markdown>=2.6.8 in /Users/trevormcgirr/opt/anaconda3/lib/python3.9/site-packages (from tensorboard<2.10,>=2.9->tensorflow<3,>=2.1.0->tensorflowjs) (3.3.4)\n",
      "Requirement already satisfied: tensorboard-data-server<0.7.0,>=0.6.0 in /Users/trevormcgirr/opt/anaconda3/lib/python3.9/site-packages (from tensorboard<2.10,>=2.9->tensorflow<3,>=2.1.0->tensorflowjs) (0.6.1)\n",
      "Requirement already satisfied: rsa<5,>=3.1.4 in /Users/trevormcgirr/opt/anaconda3/lib/python3.9/site-packages (from google-auth<3,>=1.6.3->tensorboard<2.10,>=2.9->tensorflow<3,>=2.1.0->tensorflowjs) (4.7.2)\n",
      "Requirement already satisfied: pyasn1-modules>=0.2.1 in /Users/trevormcgirr/opt/anaconda3/lib/python3.9/site-packages (from google-auth<3,>=1.6.3->tensorboard<2.10,>=2.9->tensorflow<3,>=2.1.0->tensorflowjs) (0.2.8)\n",
      "Requirement already satisfied: cachetools<5.0,>=2.0.0 in /Users/trevormcgirr/opt/anaconda3/lib/python3.9/site-packages (from google-auth<3,>=1.6.3->tensorboard<2.10,>=2.9->tensorflow<3,>=2.1.0->tensorflowjs) (4.2.2)\n",
      "Requirement already satisfied: requests-oauthlib>=0.7.0 in /Users/trevormcgirr/opt/anaconda3/lib/python3.9/site-packages (from google-auth-oauthlib<0.5,>=0.4.1->tensorboard<2.10,>=2.9->tensorflow<3,>=2.1.0->tensorflowjs) (1.3.1)\n",
      "Requirement already satisfied: pyasn1<0.5.0,>=0.4.6 in /Users/trevormcgirr/opt/anaconda3/lib/python3.9/site-packages (from pyasn1-modules>=0.2.1->google-auth<3,>=1.6.3->tensorboard<2.10,>=2.9->tensorflow<3,>=2.1.0->tensorflowjs) (0.4.8)\n",
      "Requirement already satisfied: idna<4,>=2.5 in /Users/trevormcgirr/opt/anaconda3/lib/python3.9/site-packages (from requests<3,>=2.21.0->tensorboard<2.10,>=2.9->tensorflow<3,>=2.1.0->tensorflowjs) (3.3)\n",
      "Requirement already satisfied: charset-normalizer~=2.0.0 in /Users/trevormcgirr/opt/anaconda3/lib/python3.9/site-packages (from requests<3,>=2.21.0->tensorboard<2.10,>=2.9->tensorflow<3,>=2.1.0->tensorflowjs) (2.0.4)\n",
      "Requirement already satisfied: urllib3<1.27,>=1.21.1 in /Users/trevormcgirr/opt/anaconda3/lib/python3.9/site-packages (from requests<3,>=2.21.0->tensorboard<2.10,>=2.9->tensorflow<3,>=2.1.0->tensorflowjs) (1.26.9)\n",
      "Requirement already satisfied: certifi>=2017.4.17 in /Users/trevormcgirr/opt/anaconda3/lib/python3.9/site-packages (from requests<3,>=2.21.0->tensorboard<2.10,>=2.9->tensorflow<3,>=2.1.0->tensorflowjs) (2021.10.8)\n",
      "Requirement already satisfied: oauthlib>=3.0.0 in /Users/trevormcgirr/opt/anaconda3/lib/python3.9/site-packages (from requests-oauthlib>=0.7.0->google-auth-oauthlib<0.5,>=0.4.1->tensorboard<2.10,>=2.9->tensorflow<3,>=2.1.0->tensorflowjs) (3.2.0)\n",
      "Installing collected packages: packaging, tensorflowjs\n",
      "  Attempting uninstall: packaging\n",
      "    Found existing installation: packaging 21.3\n",
      "    Uninstalling packaging-21.3:\n",
      "      Successfully uninstalled packaging-21.3\n",
      "\u001b[31mERROR: pip's dependency resolver does not currently take into account all the packages that are installed. This behaviour is the source of the following dependency conflicts.\n",
      "statsmodels 0.13.2 requires packaging>=21.3, but you have packaging 20.9 which is incompatible.\u001b[0m\n",
      "Successfully installed packaging-20.9 tensorflowjs-3.18.0\n"
     ]
    }
   ],
   "source": [
    "!pip install tensorflowjs"
   ]
  },
  {
   "cell_type": "code",
   "execution_count": 42,
   "metadata": {
    "id": "0oxbVynHpfDK"
   },
   "outputs": [],
   "source": [
    "command = \"tensorflowjs_converter --input_format=tf_saved_model --output_node_names='detection_boxes,detection_classes,detection_features,detection_multiclass_scores,detection_scores,num_detections,raw_detection_boxes,raw_detection_scores' --output_format=tfjs_graph_model --signature_name=serving_default {} {}\".format(os.path.join(paths['OUTPUT_PATH'], 'saved_model'), paths['TFJS_PATH'])"
   ]
  },
  {
   "cell_type": "code",
   "execution_count": 43,
   "metadata": {
    "colab": {
     "base_uri": "https://localhost:8080/"
    },
    "id": "DB2AGNmJpfDK",
    "outputId": "fbc9f747-f511-47e8-df8f-5ea65cef0374"
   },
   "outputs": [
    {
     "name": "stdout",
     "output_type": "stream",
     "text": [
      "tensorflowjs_converter --input_format=tf_saved_model --output_node_names='detection_boxes,detection_classes,detection_features,detection_multiclass_scores,detection_scores,num_detections,raw_detection_boxes,raw_detection_scores' --output_format=tfjs_graph_model --signature_name=serving_default Tensorflow/workspace/models/directions/export/saved_model Tensorflow/workspace/models/directions/tfjsexport\n"
     ]
    }
   ],
   "source": [
    "print(command)"
   ]
  },
  {
   "cell_type": "code",
   "execution_count": 44,
   "metadata": {
    "colab": {
     "base_uri": "https://localhost:8080/"
    },
    "id": "K7rfT4-hpfDK",
    "outputId": "532707fd-6feb-4bc6-84a3-325b5d16303c"
   },
   "outputs": [
    {
     "name": "stdout",
     "output_type": "stream",
     "text": [
      "2022-06-12 10:50:43.584170: I tensorflow/core/platform/cpu_feature_guard.cc:193] This TensorFlow binary is optimized with oneAPI Deep Neural Network Library (oneDNN) to use the following CPU instructions in performance-critical operations:  AVX2 FMA\n",
      "To enable them in other operations, rebuild TensorFlow with the appropriate compiler flags.\n",
      "2022-06-12 10:50:51.023673: I tensorflow/core/grappler/devices.cc:75] Number of eligible GPUs (core count >= 8, compute capability >= 0.0): 0 (Note: TensorFlow was not compiled with CUDA or ROCm support)\n",
      "2022-06-12 10:50:51.023757: I tensorflow/core/grappler/clusters/single_machine.cc:358] Starting new session\n",
      "Writing weight file Tensorflow/workspace/models/directions/tfjsexport/model.json...\n"
     ]
    }
   ],
   "source": [
    "!{command}"
   ]
  },
  {
   "cell_type": "code",
   "execution_count": null,
   "metadata": {
    "id": "o8_hm-itpfDK"
   },
   "outputs": [],
   "source": [
    "# Test Code: https://github.com/nicknochnack/RealTimeSignLanguageDetectionwithTFJS"
   ]
  },
  {
   "cell_type": "markdown",
   "metadata": {
    "id": "VtUw73FHpfDK"
   },
   "source": [
    "# 12. Conversion to TFLite"
   ]
  },
  {
   "cell_type": "code",
   "execution_count": 40,
   "metadata": {
    "id": "XviMtewLpfDK"
   },
   "outputs": [],
   "source": [
    "TFLITE_SCRIPT = os.path.join(paths['APIMODEL_PATH'], 'research', 'object_detection', 'export_tflite_graph_tf2.py ')"
   ]
  },
  {
   "cell_type": "code",
   "execution_count": 41,
   "metadata": {
    "id": "us86cjC4pfDL"
   },
   "outputs": [],
   "source": [
    "command = \"python {} --pipeline_config_path={} --trained_checkpoint_dir={} --output_directory={}\".format(TFLITE_SCRIPT ,files['PIPELINE_CONFIG'], paths['CHECKPOINT_PATH'], paths['TFLITE_PATH'])"
   ]
  },
  {
   "cell_type": "code",
   "execution_count": 42,
   "metadata": {
    "colab": {
     "base_uri": "https://localhost:8080/"
    },
    "id": "n1r5YO3rpfDL",
    "outputId": "5fcdf7a4-eee2-4365-f1ca-1751968379ea"
   },
   "outputs": [
    {
     "name": "stdout",
     "output_type": "stream",
     "text": [
      "python Tensorflow/models/research/object_detection/export_tflite_graph_tf2.py  --pipeline_config_path=Tensorflow/workspace/models/my_ssd_mobnet_tuned/pipeline.config --trained_checkpoint_dir=Tensorflow/workspace/models/my_ssd_mobnet_tuned --output_directory=Tensorflow/workspace/models/my_ssd_mobnet_tuned/tfliteexport\n"
     ]
    }
   ],
   "source": [
    "print(command)"
   ]
  },
  {
   "cell_type": "code",
   "execution_count": 43,
   "metadata": {
    "colab": {
     "base_uri": "https://localhost:8080/"
    },
    "id": "I-xWpHN8pfDL",
    "outputId": "7f6bacd8-d077-43b5-c131-5b081fba24a4"
   },
   "outputs": [
    {
     "name": "stdout",
     "output_type": "stream",
     "text": [
      "2022-06-08 19:45:12.665544: I tensorflow/core/platform/cpu_feature_guard.cc:193] This TensorFlow binary is optimized with oneAPI Deep Neural Network Library (oneDNN) to use the following CPU instructions in performance-critical operations:  AVX2 FMA\n",
      "To enable them in other operations, rebuild TensorFlow with the appropriate compiler flags.\n",
      "2022-06-08 19:45:18.232410: I tensorflow/compiler/mlir/mlir_graph_optimization_pass.cc:354] MLIR V1 optimization pass is not enabled\n",
      "WARNING:tensorflow:Skipping full serialization of Keras layer <object_detection.meta_architectures.ssd_meta_arch.SSDMetaArch object at 0x7fd14718ac70>, because it is not built.\n",
      "W0608 19:45:21.817477 4561872384 save_impl.py:71] Skipping full serialization of Keras layer <object_detection.meta_architectures.ssd_meta_arch.SSDMetaArch object at 0x7fd14718ac70>, because it is not built.\n",
      "WARNING:tensorflow:Skipping full serialization of Keras layer <keras.layers.convolutional.separable_conv2d.SeparableConv2D object at 0x7fd1471cad00>, because it is not built.\n",
      "W0608 19:45:22.030765 4561872384 save_impl.py:71] Skipping full serialization of Keras layer <keras.layers.convolutional.separable_conv2d.SeparableConv2D object at 0x7fd1471cad00>, because it is not built.\n",
      "WARNING:tensorflow:Skipping full serialization of Keras layer <object_detection.core.freezable_batch_norm.FreezableBatchNorm object at 0x7fd148d7c2b0>, because it is not built.\n",
      "W0608 19:45:22.030890 4561872384 save_impl.py:71] Skipping full serialization of Keras layer <object_detection.core.freezable_batch_norm.FreezableBatchNorm object at 0x7fd148d7c2b0>, because it is not built.\n",
      "WARNING:tensorflow:Skipping full serialization of Keras layer <keras.layers.core.lambda_layer.Lambda object at 0x7fd148d7cb80>, because it is not built.\n",
      "W0608 19:45:22.030956 4561872384 save_impl.py:71] Skipping full serialization of Keras layer <keras.layers.core.lambda_layer.Lambda object at 0x7fd148d7cb80>, because it is not built.\n",
      "WARNING:tensorflow:Skipping full serialization of Keras layer <keras.layers.convolutional.separable_conv2d.SeparableConv2D object at 0x7fd1487279d0>, because it is not built.\n",
      "W0608 19:45:22.031151 4561872384 save_impl.py:71] Skipping full serialization of Keras layer <keras.layers.convolutional.separable_conv2d.SeparableConv2D object at 0x7fd1487279d0>, because it is not built.\n",
      "WARNING:tensorflow:Skipping full serialization of Keras layer <object_detection.core.freezable_batch_norm.FreezableBatchNorm object at 0x7fd148c633d0>, because it is not built.\n",
      "W0608 19:45:22.031225 4561872384 save_impl.py:71] Skipping full serialization of Keras layer <object_detection.core.freezable_batch_norm.FreezableBatchNorm object at 0x7fd148c633d0>, because it is not built.\n",
      "WARNING:tensorflow:Skipping full serialization of Keras layer <keras.layers.core.lambda_layer.Lambda object at 0x7fd148c63790>, because it is not built.\n",
      "W0608 19:45:22.031286 4561872384 save_impl.py:71] Skipping full serialization of Keras layer <keras.layers.core.lambda_layer.Lambda object at 0x7fd148c63790>, because it is not built.\n",
      "WARNING:tensorflow:Skipping full serialization of Keras layer <keras.layers.convolutional.separable_conv2d.SeparableConv2D object at 0x7fd1474c98b0>, because it is not built.\n",
      "W0608 19:45:22.031340 4561872384 save_impl.py:71] Skipping full serialization of Keras layer <keras.layers.convolutional.separable_conv2d.SeparableConv2D object at 0x7fd1474c98b0>, because it is not built.\n",
      "WARNING:tensorflow:Skipping full serialization of Keras layer <object_detection.core.freezable_batch_norm.FreezableBatchNorm object at 0x7fd1474c9fd0>, because it is not built.\n",
      "W0608 19:45:22.031393 4561872384 save_impl.py:71] Skipping full serialization of Keras layer <object_detection.core.freezable_batch_norm.FreezableBatchNorm object at 0x7fd1474c9fd0>, because it is not built.\n",
      "WARNING:tensorflow:Skipping full serialization of Keras layer <keras.layers.core.lambda_layer.Lambda object at 0x7fd1474cc2e0>, because it is not built.\n",
      "W0608 19:45:22.031445 4561872384 save_impl.py:71] Skipping full serialization of Keras layer <keras.layers.core.lambda_layer.Lambda object at 0x7fd1474cc2e0>, because it is not built.\n",
      "WARNING:tensorflow:Skipping full serialization of Keras layer <keras.layers.convolutional.separable_conv2d.SeparableConv2D object at 0x7fd1474cc7c0>, because it is not built.\n",
      "W0608 19:45:22.031521 4561872384 save_impl.py:71] Skipping full serialization of Keras layer <keras.layers.convolutional.separable_conv2d.SeparableConv2D object at 0x7fd1474cc7c0>, because it is not built.\n",
      "WARNING:tensorflow:Skipping full serialization of Keras layer <object_detection.core.freezable_batch_norm.FreezableBatchNorm object at 0x7fd1474cc850>, because it is not built.\n",
      "W0608 19:45:22.031571 4561872384 save_impl.py:71] Skipping full serialization of Keras layer <object_detection.core.freezable_batch_norm.FreezableBatchNorm object at 0x7fd1474cc850>, because it is not built.\n",
      "WARNING:tensorflow:Skipping full serialization of Keras layer <keras.layers.core.lambda_layer.Lambda object at 0x7fd1474dea00>, because it is not built.\n",
      "W0608 19:45:22.031695 4561872384 save_impl.py:71] Skipping full serialization of Keras layer <keras.layers.core.lambda_layer.Lambda object at 0x7fd1474dea00>, because it is not built.\n",
      "WARNING:tensorflow:Skipping full serialization of Keras layer <object_detection.core.freezable_batch_norm.FreezableBatchNorm object at 0x7fd1472d9070>, because it is not built.\n",
      "W0608 19:45:22.031772 4561872384 save_impl.py:71] Skipping full serialization of Keras layer <object_detection.core.freezable_batch_norm.FreezableBatchNorm object at 0x7fd1472d9070>, because it is not built.\n",
      "WARNING:tensorflow:Skipping full serialization of Keras layer <keras.layers.core.lambda_layer.Lambda object at 0x7fd147659460>, because it is not built.\n",
      "W0608 19:45:22.031831 4561872384 save_impl.py:71] Skipping full serialization of Keras layer <keras.layers.core.lambda_layer.Lambda object at 0x7fd147659460>, because it is not built.\n",
      "WARNING:tensorflow:Skipping full serialization of Keras layer <object_detection.core.freezable_batch_norm.FreezableBatchNorm object at 0x7fd14747c550>, because it is not built.\n",
      "W0608 19:45:22.031886 4561872384 save_impl.py:71] Skipping full serialization of Keras layer <object_detection.core.freezable_batch_norm.FreezableBatchNorm object at 0x7fd14747c550>, because it is not built.\n",
      "WARNING:tensorflow:Skipping full serialization of Keras layer <keras.layers.core.lambda_layer.Lambda object at 0x7fd14747c730>, because it is not built.\n",
      "W0608 19:45:22.031938 4561872384 save_impl.py:71] Skipping full serialization of Keras layer <keras.layers.core.lambda_layer.Lambda object at 0x7fd14747c730>, because it is not built.\n",
      "WARNING:tensorflow:Skipping full serialization of Keras layer <object_detection.core.freezable_batch_norm.FreezableBatchNorm object at 0x7fd14775c340>, because it is not built.\n",
      "W0608 19:45:22.031989 4561872384 save_impl.py:71] Skipping full serialization of Keras layer <object_detection.core.freezable_batch_norm.FreezableBatchNorm object at 0x7fd14775c340>, because it is not built.\n",
      "WARNING:tensorflow:Skipping full serialization of Keras layer <keras.layers.core.lambda_layer.Lambda object at 0x7fd14775c6d0>, because it is not built.\n",
      "W0608 19:45:22.032039 4561872384 save_impl.py:71] Skipping full serialization of Keras layer <keras.layers.core.lambda_layer.Lambda object at 0x7fd14775c6d0>, because it is not built.\n",
      "WARNING:tensorflow:Skipping full serialization of Keras layer <object_detection.core.freezable_batch_norm.FreezableBatchNorm object at 0x7fd147748f70>, because it is not built.\n",
      "W0608 19:45:22.032090 4561872384 save_impl.py:71] Skipping full serialization of Keras layer <object_detection.core.freezable_batch_norm.FreezableBatchNorm object at 0x7fd147748f70>, because it is not built.\n",
      "WARNING:tensorflow:Skipping full serialization of Keras layer <keras.layers.core.lambda_layer.Lambda object at 0x7fd147748880>, because it is not built.\n",
      "W0608 19:45:22.032140 4561872384 save_impl.py:71] Skipping full serialization of Keras layer <keras.layers.core.lambda_layer.Lambda object at 0x7fd147748880>, because it is not built.\n",
      "WARNING:tensorflow:Skipping full serialization of Keras layer <object_detection.core.freezable_batch_norm.FreezableBatchNorm object at 0x7fd1472d90a0>, because it is not built.\n",
      "W0608 19:45:22.032202 4561872384 save_impl.py:71] Skipping full serialization of Keras layer <object_detection.core.freezable_batch_norm.FreezableBatchNorm object at 0x7fd1472d90a0>, because it is not built.\n",
      "WARNING:tensorflow:Skipping full serialization of Keras layer <keras.layers.core.lambda_layer.Lambda object at 0x7fd148dc13d0>, because it is not built.\n",
      "W0608 19:45:22.032253 4561872384 save_impl.py:71] Skipping full serialization of Keras layer <keras.layers.core.lambda_layer.Lambda object at 0x7fd148dc13d0>, because it is not built.\n",
      "WARNING:tensorflow:Skipping full serialization of Keras layer <object_detection.core.freezable_batch_norm.FreezableBatchNorm object at 0x7fd1474547c0>, because it is not built.\n",
      "W0608 19:45:22.032304 4561872384 save_impl.py:71] Skipping full serialization of Keras layer <object_detection.core.freezable_batch_norm.FreezableBatchNorm object at 0x7fd1474547c0>, because it is not built.\n",
      "WARNING:tensorflow:Skipping full serialization of Keras layer <keras.layers.core.lambda_layer.Lambda object at 0x7fd147454970>, because it is not built.\n",
      "W0608 19:45:22.032963 4561872384 save_impl.py:71] Skipping full serialization of Keras layer <keras.layers.core.lambda_layer.Lambda object at 0x7fd147454970>, because it is not built.\n",
      "WARNING:tensorflow:Skipping full serialization of Keras layer <object_detection.core.freezable_batch_norm.FreezableBatchNorm object at 0x7fd148d57c40>, because it is not built.\n",
      "W0608 19:45:22.033031 4561872384 save_impl.py:71] Skipping full serialization of Keras layer <object_detection.core.freezable_batch_norm.FreezableBatchNorm object at 0x7fd148d57c40>, because it is not built.\n",
      "WARNING:tensorflow:Skipping full serialization of Keras layer <keras.layers.core.lambda_layer.Lambda object at 0x7fd148d577c0>, because it is not built.\n",
      "W0608 19:45:22.033212 4561872384 save_impl.py:71] Skipping full serialization of Keras layer <keras.layers.core.lambda_layer.Lambda object at 0x7fd148d577c0>, because it is not built.\n",
      "WARNING:tensorflow:Skipping full serialization of Keras layer <object_detection.core.freezable_batch_norm.FreezableBatchNorm object at 0x7fd1489f5b80>, because it is not built.\n",
      "W0608 19:45:22.033288 4561872384 save_impl.py:71] Skipping full serialization of Keras layer <object_detection.core.freezable_batch_norm.FreezableBatchNorm object at 0x7fd1489f5b80>, because it is not built.\n",
      "WARNING:tensorflow:Skipping full serialization of Keras layer <keras.layers.core.lambda_layer.Lambda object at 0x7fd1489f5910>, because it is not built.\n",
      "W0608 19:45:22.033348 4561872384 save_impl.py:71] Skipping full serialization of Keras layer <keras.layers.core.lambda_layer.Lambda object at 0x7fd1489f5910>, because it is not built.\n",
      "WARNING:tensorflow:Skipping full serialization of Keras layer <object_detection.core.freezable_batch_norm.FreezableBatchNorm object at 0x7fd1472d90d0>, because it is not built.\n",
      "W0608 19:45:22.033402 4561872384 save_impl.py:71] Skipping full serialization of Keras layer <object_detection.core.freezable_batch_norm.FreezableBatchNorm object at 0x7fd1472d90d0>, because it is not built.\n",
      "WARNING:tensorflow:Skipping full serialization of Keras layer <keras.layers.core.lambda_layer.Lambda object at 0x7fd147733910>, because it is not built.\n",
      "W0608 19:45:22.033463 4561872384 save_impl.py:71] Skipping full serialization of Keras layer <keras.layers.core.lambda_layer.Lambda object at 0x7fd147733910>, because it is not built.\n",
      "WARNING:tensorflow:Skipping full serialization of Keras layer <object_detection.core.freezable_batch_norm.FreezableBatchNorm object at 0x7fd148d8aa00>, because it is not built.\n",
      "W0608 19:45:22.033515 4561872384 save_impl.py:71] Skipping full serialization of Keras layer <object_detection.core.freezable_batch_norm.FreezableBatchNorm object at 0x7fd148d8aa00>, because it is not built.\n",
      "WARNING:tensorflow:Skipping full serialization of Keras layer <keras.layers.core.lambda_layer.Lambda object at 0x7fd148d8a790>, because it is not built.\n",
      "W0608 19:45:22.033566 4561872384 save_impl.py:71] Skipping full serialization of Keras layer <keras.layers.core.lambda_layer.Lambda object at 0x7fd148d8a790>, because it is not built.\n",
      "WARNING:tensorflow:Skipping full serialization of Keras layer <object_detection.core.freezable_batch_norm.FreezableBatchNorm object at 0x7fd148d8a0d0>, because it is not built.\n",
      "W0608 19:45:22.033639 4561872384 save_impl.py:71] Skipping full serialization of Keras layer <object_detection.core.freezable_batch_norm.FreezableBatchNorm object at 0x7fd148d8a0d0>, because it is not built.\n",
      "WARNING:tensorflow:Skipping full serialization of Keras layer <keras.layers.core.lambda_layer.Lambda object at 0x7fd148d8a8e0>, because it is not built.\n",
      "W0608 19:45:22.033691 4561872384 save_impl.py:71] Skipping full serialization of Keras layer <keras.layers.core.lambda_layer.Lambda object at 0x7fd148d8a8e0>, because it is not built.\n",
      "WARNING:tensorflow:Skipping full serialization of Keras layer <object_detection.core.freezable_batch_norm.FreezableBatchNorm object at 0x7fd148d8a8b0>, because it is not built.\n",
      "W0608 19:45:22.033742 4561872384 save_impl.py:71] Skipping full serialization of Keras layer <object_detection.core.freezable_batch_norm.FreezableBatchNorm object at 0x7fd148d8a8b0>, because it is not built.\n",
      "WARNING:tensorflow:Skipping full serialization of Keras layer <keras.layers.core.lambda_layer.Lambda object at 0x7fd148d8afa0>, because it is not built.\n",
      "W0608 19:45:22.033799 4561872384 save_impl.py:71] Skipping full serialization of Keras layer <keras.layers.core.lambda_layer.Lambda object at 0x7fd148d8afa0>, because it is not built.\n",
      "WARNING:tensorflow:Skipping full serialization of Keras layer <object_detection.core.freezable_batch_norm.FreezableBatchNorm object at 0x7fd147666b50>, because it is not built.\n",
      "W0608 19:45:22.033851 4561872384 save_impl.py:71] Skipping full serialization of Keras layer <object_detection.core.freezable_batch_norm.FreezableBatchNorm object at 0x7fd147666b50>, because it is not built.\n",
      "WARNING:tensorflow:Skipping full serialization of Keras layer <keras.layers.core.lambda_layer.Lambda object at 0x7fd147680b80>, because it is not built.\n",
      "W0608 19:45:22.033972 4561872384 save_impl.py:71] Skipping full serialization of Keras layer <keras.layers.core.lambda_layer.Lambda object at 0x7fd147680b80>, because it is not built.\n",
      "WARNING:tensorflow:Skipping full serialization of Keras layer <object_detection.core.freezable_batch_norm.FreezableBatchNorm object at 0x7fd1482a75e0>, because it is not built.\n",
      "W0608 19:45:22.034049 4561872384 save_impl.py:71] Skipping full serialization of Keras layer <object_detection.core.freezable_batch_norm.FreezableBatchNorm object at 0x7fd1482a75e0>, because it is not built.\n",
      "WARNING:tensorflow:Skipping full serialization of Keras layer <keras.layers.core.lambda_layer.Lambda object at 0x7fd1482a7520>, because it is not built.\n",
      "W0608 19:45:22.034108 4561872384 save_impl.py:71] Skipping full serialization of Keras layer <keras.layers.core.lambda_layer.Lambda object at 0x7fd1482a7520>, because it is not built.\n",
      "WARNING:tensorflow:Skipping full serialization of Keras layer <object_detection.core.freezable_batch_norm.FreezableBatchNorm object at 0x7fd1482a7820>, because it is not built.\n",
      "W0608 19:45:22.034163 4561872384 save_impl.py:71] Skipping full serialization of Keras layer <object_detection.core.freezable_batch_norm.FreezableBatchNorm object at 0x7fd1482a7820>, because it is not built.\n",
      "WARNING:tensorflow:Skipping full serialization of Keras layer <keras.layers.core.lambda_layer.Lambda object at 0x7fd1482a79a0>, because it is not built.\n",
      "W0608 19:45:22.034267 4561872384 save_impl.py:71] Skipping full serialization of Keras layer <keras.layers.core.lambda_layer.Lambda object at 0x7fd1482a79a0>, because it is not built.\n",
      "WARNING:tensorflow:Skipping full serialization of Keras layer <object_detection.core.freezable_batch_norm.FreezableBatchNorm object at 0x7fd1482a70d0>, because it is not built.\n",
      "W0608 19:45:22.034343 4561872384 save_impl.py:71] Skipping full serialization of Keras layer <object_detection.core.freezable_batch_norm.FreezableBatchNorm object at 0x7fd1482a70d0>, because it is not built.\n",
      "WARNING:tensorflow:Skipping full serialization of Keras layer <keras.layers.core.lambda_layer.Lambda object at 0x7fd1482a74c0>, because it is not built.\n",
      "W0608 19:45:22.034404 4561872384 save_impl.py:71] Skipping full serialization of Keras layer <keras.layers.core.lambda_layer.Lambda object at 0x7fd1482a74c0>, because it is not built.\n"
     ]
    },
    {
     "name": "stdout",
     "output_type": "stream",
     "text": [
      "W0608 19:45:35.915564 4561872384 save.py:233] Found untraced functions such as WeightSharedConvolutionalBoxPredictor_layer_call_fn, WeightSharedConvolutionalBoxPredictor_layer_call_and_return_conditional_losses, WeightSharedConvolutionalBoxHead_layer_call_fn, WeightSharedConvolutionalBoxHead_layer_call_and_return_conditional_losses, WeightSharedConvolutionalClassHead_layer_call_fn while saving (showing 5 of 173). These functions will not be directly callable after loading.\n",
      "INFO:tensorflow:Assets written to: Tensorflow/workspace/models/my_ssd_mobnet_tuned/tfliteexport/saved_model/assets\n",
      "I0608 19:45:40.461465 4561872384 builder_impl.py:779] Assets written to: Tensorflow/workspace/models/my_ssd_mobnet_tuned/tfliteexport/saved_model/assets\n"
     ]
    }
   ],
   "source": [
    "!{command}"
   ]
  },
  {
   "cell_type": "code",
   "execution_count": 44,
   "metadata": {
    "id": "iJfYMbN6pfDL"
   },
   "outputs": [],
   "source": [
    "FROZEN_TFLITE_PATH = os.path.join(paths['TFLITE_PATH'], 'saved_model')\n",
    "TFLITE_MODEL = os.path.join(paths['TFLITE_PATH'], 'saved_model', 'detect.tflite')"
   ]
  },
  {
   "cell_type": "code",
   "execution_count": 45,
   "metadata": {},
   "outputs": [],
   "source": [
    "command = \"tflite_convert \\\n",
    "--saved_model_dir={} \\\n",
    "--output_file={} \\\n",
    "--input_shapes=1,300,300,3 \\\n",
    "--input_arrays=normalized_input_image_tensor \\\n",
    "--output_arrays='TFLite_Detection_PostProcess','TFLite_Detection_PostProcess:1','TFLite_Detection_PostProcess:2','TFLite_Detection_PostProcess:3' \\\n",
    "--inference_type=FLOAT \\\n",
    "--allow_custom_ops\".format(FROZEN_TFLITE_PATH, TFLITE_MODEL, )"
   ]
  },
  {
   "cell_type": "code",
   "execution_count": 46,
   "metadata": {
    "colab": {
     "base_uri": "https://localhost:8080/"
    },
    "id": "E8GwUeoFpfDL",
    "outputId": "fac43ea4-cc85-471b-a362-e994b06fd583"
   },
   "outputs": [
    {
     "name": "stdout",
     "output_type": "stream",
     "text": [
      "tflite_convert --saved_model_dir=Tensorflow/workspace/models/my_ssd_mobnet_tuned/tfliteexport/saved_model --output_file=Tensorflow/workspace/models/my_ssd_mobnet_tuned/tfliteexport/saved_model/detect.tflite --input_shapes=1,300,300,3 --input_arrays=normalized_input_image_tensor --output_arrays='TFLite_Detection_PostProcess','TFLite_Detection_PostProcess:1','TFLite_Detection_PostProcess:2','TFLite_Detection_PostProcess:3' --inference_type=FLOAT --allow_custom_ops\n"
     ]
    }
   ],
   "source": [
    "print(command)"
   ]
  },
  {
   "cell_type": "code",
   "execution_count": 47,
   "metadata": {
    "colab": {
     "base_uri": "https://localhost:8080/"
    },
    "id": "Nbd7gqHMpfDL",
    "outputId": "7c8fe6d5-2415-4641-8548-39d425c202f7"
   },
   "outputs": [
    {
     "name": "stdout",
     "output_type": "stream",
     "text": [
      "2022-06-08 19:46:01.769087: I tensorflow/core/platform/cpu_feature_guard.cc:193] This TensorFlow binary is optimized with oneAPI Deep Neural Network Library (oneDNN) to use the following CPU instructions in performance-critical operations:  AVX2 FMA\n",
      "To enable them in other operations, rebuild TensorFlow with the appropriate compiler flags.\n",
      "2022-06-08 19:46:10.850179: W tensorflow/compiler/mlir/lite/python/tf_tfl_flatbuffer_helpers.cc:362] Ignored output_format.\n",
      "2022-06-08 19:46:10.850235: W tensorflow/compiler/mlir/lite/python/tf_tfl_flatbuffer_helpers.cc:365] Ignored drop_control_dependency.\n",
      "2022-06-08 19:46:10.853722: I tensorflow/cc/saved_model/reader.cc:43] Reading SavedModel from: Tensorflow/workspace/models/my_ssd_mobnet_tuned/tfliteexport/saved_model\n",
      "2022-06-08 19:46:10.939887: I tensorflow/cc/saved_model/reader.cc:81] Reading meta graph with tags { serve }\n",
      "2022-06-08 19:46:10.939917: I tensorflow/cc/saved_model/reader.cc:122] Reading SavedModel debug info (if present) from: Tensorflow/workspace/models/my_ssd_mobnet_tuned/tfliteexport/saved_model\n",
      "2022-06-08 19:46:11.129787: I tensorflow/compiler/mlir/mlir_graph_optimization_pass.cc:354] MLIR V1 optimization pass is not enabled\n",
      "2022-06-08 19:46:11.175682: I tensorflow/cc/saved_model/loader.cc:228] Restoring SavedModel bundle.\n",
      "2022-06-08 19:46:12.000411: I tensorflow/cc/saved_model/loader.cc:212] Running initialization op on SavedModel bundle at path: Tensorflow/workspace/models/my_ssd_mobnet_tuned/tfliteexport/saved_model\n",
      "2022-06-08 19:46:12.436084: I tensorflow/cc/saved_model/loader.cc:301] SavedModel load for tags { serve }; Status: success: OK. Took 1582680 microseconds.\n",
      "2022-06-08 19:46:13.250358: I tensorflow/compiler/mlir/tensorflow/utils/dump_mlir_util.cc:263] disabling MLIR crash reproducer, set env var `MLIR_CRASH_REPRODUCER_DIRECTORY` to enable.\n",
      "2022-06-08 19:46:14.155568: I tensorflow/compiler/mlir/lite/flatbuffer_export.cc:1972] Estimated count of arithmetic ops: 1.710 G  ops, equivalently 0.855 G  MACs\n",
      "\n",
      "Estimated count of arithmetic ops: 1.710 G  ops, equivalently 0.855 G  MACs\n"
     ]
    }
   ],
   "source": [
    "!{command}"
   ]
  },
  {
   "cell_type": "markdown",
   "metadata": {
    "id": "5NQqZRdA21Uc"
   },
   "source": [
    "# 13. Zip and Export Models "
   ]
  },
  {
   "cell_type": "code",
   "execution_count": 48,
   "metadata": {
    "id": "tTVTGCQp2ZJJ"
   },
   "outputs": [],
   "source": [
    "# !tar -czf models.tar.gz {paths['CHECKPOINT_PATH']}"
   ]
  },
  {
   "cell_type": "code",
   "execution_count": 45,
   "metadata": {
    "colab": {
     "base_uri": "https://localhost:8080/"
    },
    "id": "whShhB0x3PYJ",
    "outputId": "b773201d-35c9-46a8-b893-4a76bd4d5d97"
   },
   "outputs": [],
   "source": [
    "# from google.colab import drive\n",
    "# drive.mount('/content/drive')"
   ]
  },
  {
   "cell_type": "code",
   "execution_count": null,
   "metadata": {},
   "outputs": [],
   "source": []
  }
 ],
 "metadata": {
  "accelerator": "GPU",
  "colab": {
   "name": "3. Training and Detection.ipynb",
   "provenance": []
  },
  "kernelspec": {
   "display_name": "tfodj",
   "language": "python",
   "name": "tfodj"
  },
  "language_info": {
   "codemirror_mode": {
    "name": "ipython",
    "version": 3
   },
   "file_extension": ".py",
   "mimetype": "text/x-python",
   "name": "python",
   "nbconvert_exporter": "python",
   "pygments_lexer": "ipython3",
   "version": "3.9.12"
  }
 },
 "nbformat": 4,
 "nbformat_minor": 1
}
