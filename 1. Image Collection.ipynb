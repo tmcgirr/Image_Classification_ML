{
 "cells": [
  {
   "cell_type": "markdown",
   "metadata": {},
   "source": [
    "# 1. Import Dependencies"
   ]
  },
  {
   "cell_type": "code",
   "execution_count": 1,
   "metadata": {},
   "outputs": [
    {
     "name": "stdout",
     "output_type": "stream",
     "text": [
      "Requirement already satisfied: opencv-python in /Users/trevormcgirr/opt/anaconda3/lib/python3.9/site-packages (4.5.5.64)\n",
      "Requirement already satisfied: numpy>=1.17.3 in /Users/trevormcgirr/opt/anaconda3/lib/python3.9/site-packages (from opencv-python) (1.21.5)\n"
     ]
    }
   ],
   "source": [
    "!pip install opencv-python"
   ]
  },
  {
   "cell_type": "code",
   "execution_count": 2,
   "metadata": {},
   "outputs": [],
   "source": [
    "# Import opencv\n",
    "import cv2 \n",
    "\n",
    "# Import uuid\n",
    "import uuid\n",
    "\n",
    "# Import Operating System\n",
    "import os\n",
    "\n",
    "# Import time\n",
    "import time"
   ]
  },
  {
   "cell_type": "markdown",
   "metadata": {},
   "source": [
    "# 2. Define Images to Collect"
   ]
  },
  {
   "cell_type": "code",
   "execution_count": 3,
   "metadata": {},
   "outputs": [],
   "source": [
    "labels = ['Left', 'Right', 'Up', 'Down']\n",
    "number_imgs = 5"
   ]
  },
  {
   "cell_type": "code",
   "execution_count": 4,
   "metadata": {},
   "outputs": [
    {
     "data": {
      "text/plain": [
       "['Left', 'Right', 'Up', 'Down']"
      ]
     },
     "execution_count": 4,
     "metadata": {},
     "output_type": "execute_result"
    }
   ],
   "source": [
    "labels"
   ]
  },
  {
   "cell_type": "markdown",
   "metadata": {},
   "source": [
    "# 3. Setup Folders "
   ]
  },
  {
   "cell_type": "code",
   "execution_count": 5,
   "metadata": {},
   "outputs": [],
   "source": [
    "IMAGES_PATH = os.path.join('Tensorflow', 'workspace', 'images', 'collectedimages')"
   ]
  },
  {
   "cell_type": "code",
   "execution_count": 6,
   "metadata": {},
   "outputs": [
    {
     "name": "stdout",
     "output_type": "stream",
     "text": [
      "Tensorflow/workspace/images/collectedimages\n"
     ]
    }
   ],
   "source": [
    "print(IMAGES_PATH)"
   ]
  },
  {
   "cell_type": "code",
   "execution_count": 7,
   "metadata": {},
   "outputs": [
    {
     "data": {
      "text/plain": [
       "'posix'"
      ]
     },
     "execution_count": 7,
     "metadata": {},
     "output_type": "execute_result"
    }
   ],
   "source": [
    "os.name"
   ]
  },
  {
   "cell_type": "code",
   "execution_count": 8,
   "metadata": {},
   "outputs": [],
   "source": [
    "if not os.path.exists(IMAGES_PATH):\n",
    "    if os.name == 'posix':\n",
    "        !mkdir -p {IMAGES_PATH}\n",
    "    if os.name == 'nt':\n",
    "         !mkdir {IMAGES_PATH}\n",
    "for label in labels:\n",
    "    path = os.path.join(IMAGES_PATH, label)\n",
    "    if not os.path.exists(path):\n",
    "        !mkdir {path}"
   ]
  },
  {
   "cell_type": "markdown",
   "metadata": {},
   "source": [
    "# 4. Capture Images"
   ]
  },
  {
   "cell_type": "code",
   "execution_count": 10,
   "metadata": {},
   "outputs": [
    {
     "name": "stdout",
     "output_type": "stream",
     "text": [
      "Collecting images for Left\n",
      "Collecting image 0\n",
      "Collecting image 1\n",
      "Collecting image 2\n",
      "Collecting image 3\n",
      "Collecting image 4\n",
      "Collecting images for Right\n",
      "Collecting image 0\n",
      "Collecting image 1\n",
      "Collecting image 2\n",
      "Collecting image 3\n",
      "Collecting image 4\n",
      "Collecting images for Up\n",
      "Collecting image 0\n",
      "Collecting image 1\n",
      "Collecting image 2\n",
      "Collecting image 3\n",
      "Collecting image 4\n",
      "Collecting images for Down\n",
      "Collecting image 0\n",
      "Collecting image 1\n",
      "Collecting image 2\n",
      "Collecting image 3\n",
      "Collecting image 4\n"
     ]
    }
   ],
   "source": [
    "for label in labels:\n",
    "    cap = cv2.VideoCapture(0) #Connect to webcam or capture device\n",
    "    print('Collecting images for {}'.format(label))\n",
    "    time.sleep(5)\n",
    "    for imgnum in range(number_imgs):\n",
    "        print('Collecting image {}'.format(imgnum))\n",
    "        ret, frame = cap.read()\n",
    "        imgname = os.path.join(IMAGES_PATH,label,label+'.'+'{}.jpg'.format(str(uuid.uuid1())))\n",
    "        cv2.imwrite(imgname, frame)\n",
    "        cv2.imshow('frame', frame)\n",
    "        time.sleep(2)\n",
    "\n",
    "        if cv2.waitKey(1) & 0xFF == ord('q'):\n",
    "            break\n",
    "cap.release()\n",
    "cv2.destroyAllWindows()"
   ]
  },
  {
   "cell_type": "markdown",
   "metadata": {},
   "source": [
    "# 5. Image Labelling"
   ]
  },
  {
   "cell_type": "code",
   "execution_count": 24,
   "metadata": {},
   "outputs": [
    {
     "name": "stdout",
     "output_type": "stream",
     "text": [
      "Requirement already satisfied: pyqt5 in ./tfod/lib/python3.9/site-packages (5.15.6)\n",
      "Requirement already satisfied: lxml in ./tfod/lib/python3.9/site-packages (4.9.0)\n",
      "Requirement already satisfied: PyQt5-Qt5>=5.15.2 in ./tfod/lib/python3.9/site-packages (from pyqt5) (5.15.2)\n",
      "Requirement already satisfied: PyQt5-sip<13,>=12.8 in ./tfod/lib/python3.9/site-packages (from pyqt5) (12.10.1)\n"
     ]
    }
   ],
   "source": [
    "!pip install --upgrade pyqt5 lxml"
   ]
  },
  {
   "cell_type": "code",
   "execution_count": 5,
   "metadata": {},
   "outputs": [],
   "source": [
    "LABELIMG_PATH = os.path.join('Tensorflow', 'labelimg')"
   ]
  },
  {
   "cell_type": "code",
   "execution_count": 6,
   "metadata": {},
   "outputs": [],
   "source": [
    "if not os.path.exists(LABELIMG_PATH):\n",
    "    !mkdir {LABELIMG_PATH}\n",
    "    !git clone https://github.com/tzutalin/labelImg {LABELIMG_PATH}"
   ]
  },
  {
   "cell_type": "code",
   "execution_count": 7,
   "metadata": {},
   "outputs": [
    {
     "name": "stdout",
     "output_type": "stream",
     "text": [
      "pyrcc5 -o libs/resources.py resources.qrc\r\n"
     ]
    }
   ],
   "source": [
    "if os.name == 'posix':\n",
    "    !cd {LABELIMG_PATH} && make qt5py3\n",
    "if os.name =='nt':\n",
    "    !cd {LABELIMG_PATH} && pyrcc5 -o libs/resources.py resources.qrc"
   ]
  },
  {
   "cell_type": "code",
   "execution_count": 8,
   "metadata": {},
   "outputs": [
    {
     "name": "stdout",
     "output_type": "stream",
     "text": [
      "/Users/trevormcgirr/Desktop/python/ObjectDetectionWeb/TFODCourse/Tensorflow/labelimg/labelImg.py:210: DeprecationWarning: an integer is required (got type DockWidgetFeatures).  Implicit conversion to integers using __int__ is deprecated, and may be removed in a future version of Python.\n",
      "  self.dock.setFeatures(self.dock.features() ^ self.dock_features)\n",
      "Image:/Users/trevormcgirr/Desktop/python/ObjectDetectionWeb/TFODCourse/Tensorflow/workspace/images/collectedimages/Down/Down.04f401e0-e9cf-11ec-a6d3-3af9d392911a.jpg -> Annotation:/Users/trevormcgirr/Desktop/python/ObjectDetectionWeb/TFODCourse/Tensorflow/workspace/images/collectedimages/Down/Down.04f401e0-e9cf-11ec-a6d3-3af9d392911a.xml\n",
      "Image:/Users/trevormcgirr/Desktop/python/ObjectDetectionWeb/TFODCourse/Tensorflow/workspace/images/collectedimages/Down/Down.08a54574-e9cf-11ec-a6d3-3af9d392911a.jpg -> Annotation:/Users/trevormcgirr/Desktop/python/ObjectDetectionWeb/TFODCourse/Tensorflow/workspace/images/collectedimages/Down/Down.08a54574-e9cf-11ec-a6d3-3af9d392911a.xml\n",
      "Image:/Users/trevormcgirr/Desktop/python/ObjectDetectionWeb/TFODCourse/Tensorflow/workspace/images/collectedimages/Down/Down.062f1b62-e9cf-11ec-a6d3-3af9d392911a.jpg -> Annotation:/Users/trevormcgirr/Desktop/python/ObjectDetectionWeb/TFODCourse/Tensorflow/workspace/images/collectedimages/Down/Down.062f1b62-e9cf-11ec-a6d3-3af9d392911a.xml\n",
      "Image:/Users/trevormcgirr/Desktop/python/ObjectDetectionWeb/TFODCourse/Tensorflow/workspace/images/collectedimages/Down/Down.07699746-e9cf-11ec-a6d3-3af9d392911a.jpg -> Annotation:/Users/trevormcgirr/Desktop/python/ObjectDetectionWeb/TFODCourse/Tensorflow/workspace/images/collectedimages/Down/Down.07699746-e9cf-11ec-a6d3-3af9d392911a.xml\n",
      "Image:/Users/trevormcgirr/Desktop/python/ObjectDetectionWeb/TFODCourse/Tensorflow/workspace/images/collectedimages/Up/Up.00b33524-e9cf-11ec-a6d3-3af9d392911a.jpg -> Annotation:/Users/trevormcgirr/Desktop/python/ObjectDetectionWeb/TFODCourse/Tensorflow/workspace/images/collectedimages/Up/Up.00b33524-e9cf-11ec-a6d3-3af9d392911a.xml\n",
      "Image:/Users/trevormcgirr/Desktop/python/ObjectDetectionWeb/TFODCourse/Tensorflow/workspace/images/collectedimages/Up/Up.fbc721ec-e9ce-11ec-a6d3-3af9d392911a.jpg -> Annotation:/Users/trevormcgirr/Desktop/python/ObjectDetectionWeb/TFODCourse/Tensorflow/workspace/images/collectedimages/Up/Up.fbc721ec-e9ce-11ec-a6d3-3af9d392911a.xml\n",
      "Image:/Users/trevormcgirr/Desktop/python/ObjectDetectionWeb/TFODCourse/Tensorflow/workspace/images/collectedimages/Up/Up.fd01ab04-e9ce-11ec-a6d3-3af9d392911a.jpg -> Annotation:/Users/trevormcgirr/Desktop/python/ObjectDetectionWeb/TFODCourse/Tensorflow/workspace/images/collectedimages/Up/Up.fd01ab04-e9ce-11ec-a6d3-3af9d392911a.xml\n",
      "Image:/Users/trevormcgirr/Desktop/python/ObjectDetectionWeb/TFODCourse/Tensorflow/workspace/images/collectedimages/Up/Up.fe3d70e8-e9ce-11ec-a6d3-3af9d392911a.jpg -> Annotation:/Users/trevormcgirr/Desktop/python/ObjectDetectionWeb/TFODCourse/Tensorflow/workspace/images/collectedimages/Up/Up.fe3d70e8-e9ce-11ec-a6d3-3af9d392911a.xml\n",
      "Image:/Users/trevormcgirr/Desktop/python/ObjectDetectionWeb/TFODCourse/Tensorflow/workspace/images/collectedimages/Up/Up.ff787246-e9ce-11ec-a6d3-3af9d392911a.jpg -> Annotation:/Users/trevormcgirr/Desktop/python/ObjectDetectionWeb/TFODCourse/Tensorflow/workspace/images/collectedimages/Up/Up.ff787246-e9ce-11ec-a6d3-3af9d392911a.xml\n",
      "Image:/Users/trevormcgirr/Desktop/python/ObjectDetectionWeb/TFODCourse/Tensorflow/workspace/images/collectedimages/Right/Right.f3d55210-e9ce-11ec-a6d3-3af9d392911a.jpg -> Annotation:/Users/trevormcgirr/Desktop/python/ObjectDetectionWeb/TFODCourse/Tensorflow/workspace/images/collectedimages/Right/Right.f3d55210-e9ce-11ec-a6d3-3af9d392911a.xml\n",
      "Image:/Users/trevormcgirr/Desktop/python/ObjectDetectionWeb/TFODCourse/Tensorflow/workspace/images/collectedimages/Right/Right.f29a16e2-e9ce-11ec-a6d3-3af9d392911a.jpg -> Annotation:/Users/trevormcgirr/Desktop/python/ObjectDetectionWeb/TFODCourse/Tensorflow/workspace/images/collectedimages/Right/Right.f29a16e2-e9ce-11ec-a6d3-3af9d392911a.xml\n",
      "Image:/Users/trevormcgirr/Desktop/python/ObjectDetectionWeb/TFODCourse/Tensorflow/workspace/images/collectedimages/Right/Right.f64bbc82-e9ce-11ec-a6d3-3af9d392911a.jpg -> Annotation:/Users/trevormcgirr/Desktop/python/ObjectDetectionWeb/TFODCourse/Tensorflow/workspace/images/collectedimages/Right/Right.f64bbc82-e9ce-11ec-a6d3-3af9d392911a.xml\n",
      "Image:/Users/trevormcgirr/Desktop/python/ObjectDetectionWeb/TFODCourse/Tensorflow/workspace/images/collectedimages/Right/Right.f786bebc-e9ce-11ec-a6d3-3af9d392911a.jpg -> Annotation:/Users/trevormcgirr/Desktop/python/ObjectDetectionWeb/TFODCourse/Tensorflow/workspace/images/collectedimages/Right/Right.f786bebc-e9ce-11ec-a6d3-3af9d392911a.xml\n",
      "Image:/Users/trevormcgirr/Desktop/python/ObjectDetectionWeb/TFODCourse/Tensorflow/workspace/images/collectedimages/Right/Right.f5103f6e-e9ce-11ec-a6d3-3af9d392911a.jpg -> Annotation:/Users/trevormcgirr/Desktop/python/ObjectDetectionWeb/TFODCourse/Tensorflow/workspace/images/collectedimages/Right/Right.f5103f6e-e9ce-11ec-a6d3-3af9d392911a.xml\n",
      "Image:/Users/trevormcgirr/Desktop/python/ObjectDetectionWeb/TFODCourse/Tensorflow/workspace/images/collectedimages/Left/Left.e9535f08-e9ce-11ec-a6d3-3af9d392911a.jpg -> Annotation:/Users/trevormcgirr/Desktop/python/ObjectDetectionWeb/TFODCourse/Tensorflow/workspace/images/collectedimages/Left/Left.e9535f08-e9ce-11ec-a6d3-3af9d392911a.xml\n",
      "Image:/Users/trevormcgirr/Desktop/python/ObjectDetectionWeb/TFODCourse/Tensorflow/workspace/images/collectedimages/Left/Left.ea9439f0-e9ce-11ec-a6d3-3af9d392911a.jpg -> Annotation:/Users/trevormcgirr/Desktop/python/ObjectDetectionWeb/TFODCourse/Tensorflow/workspace/images/collectedimages/Left/Left.ea9439f0-e9ce-11ec-a6d3-3af9d392911a.xml\n",
      "Image:/Users/trevormcgirr/Desktop/python/ObjectDetectionWeb/TFODCourse/Tensorflow/workspace/images/collectedimages/Left/Left.ebd9f444-e9ce-11ec-a6d3-3af9d392911a.jpg -> Annotation:/Users/trevormcgirr/Desktop/python/ObjectDetectionWeb/TFODCourse/Tensorflow/workspace/images/collectedimages/Left/Left.ebd9f444-e9ce-11ec-a6d3-3af9d392911a.xml\n",
      "Image:/Users/trevormcgirr/Desktop/python/ObjectDetectionWeb/TFODCourse/Tensorflow/workspace/images/collectedimages/Left/Left.ed14cf96-e9ce-11ec-a6d3-3af9d392911a.jpg -> Annotation:/Users/trevormcgirr/Desktop/python/ObjectDetectionWeb/TFODCourse/Tensorflow/workspace/images/collectedimages/Left/Left.ed14cf96-e9ce-11ec-a6d3-3af9d392911a.xml\n",
      "Image:/Users/trevormcgirr/Desktop/python/ObjectDetectionWeb/TFODCourse/Tensorflow/workspace/images/collectedimages/Left/Left.ee59c064-e9ce-11ec-a6d3-3af9d392911a.jpg -> Annotation:/Users/trevormcgirr/Desktop/python/ObjectDetectionWeb/TFODCourse/Tensorflow/workspace/images/collectedimages/Left/Left.ee59c064-e9ce-11ec-a6d3-3af9d392911a.xml\n"
     ]
    }
   ],
   "source": [
    "!cd {LABELIMG_PATH} && python labelImg.py"
   ]
  },
  {
   "cell_type": "markdown",
   "metadata": {},
   "source": [
    "# 6. Move them into a Training and Testing Partition"
   ]
  },
  {
   "cell_type": "markdown",
   "metadata": {},
   "source": [
    "# OPTIONAL - 7. Compress them for Colab Training"
   ]
  },
  {
   "cell_type": "code",
   "execution_count": 11,
   "metadata": {},
   "outputs": [],
   "source": [
    "TRAIN_PATH = os.path.join('Tensorflow', 'workspace', 'images', 'train')\n",
    "TEST_PATH = os.path.join('Tensorflow', 'workspace', 'images', 'test')\n",
    "ARCHIVE_PATH = os.path.join('Tensorflow', 'workspace', 'images', 'archive.tar.gz')"
   ]
  },
  {
   "cell_type": "code",
   "execution_count": 12,
   "metadata": {},
   "outputs": [],
   "source": [
    "!tar -czf {ARCHIVE_PATH} {TRAIN_PATH} {TEST_PATH}"
   ]
  },
  {
   "cell_type": "code",
   "execution_count": null,
   "metadata": {},
   "outputs": [],
   "source": []
  }
 ],
 "metadata": {
  "kernelspec": {
   "display_name": "tfodj",
   "language": "python",
   "name": "tfodj"
  },
  "language_info": {
   "codemirror_mode": {
    "name": "ipython",
    "version": 3
   },
   "file_extension": ".py",
   "mimetype": "text/x-python",
   "name": "python",
   "nbconvert_exporter": "python",
   "pygments_lexer": "ipython3",
   "version": "3.9.12"
  }
 },
 "nbformat": 4,
 "nbformat_minor": 2
}
